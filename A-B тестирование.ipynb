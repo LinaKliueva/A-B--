{
 "cells": [
  {
   "cell_type": "markdown",
   "metadata": {},
   "source": [
    "<div class=\"alert alert-info\">\n",
    "<font size=\"5\"><b>Комментарий ревьюера 2</b></font>\n",
    "\n",
    "Привет еще раз. Спасибо, что доделала работу. Оформление комментариев по работе сохраняется. Только обозначим, что это вторая итерация. \n",
    "\n",
    "</div>"
   ]
  },
  {
   "cell_type": "markdown",
   "metadata": {},
   "source": [
    "<div class=\"alert alert-info\">\n",
    "<font size=\"5\"><b>Комментарий ревьюера</b></font>\n",
    "\n",
    "Привет, Лина! Спасибо, что прислала задание:) Меня зовут Слепцов Артем и я буду проверять твой проект) Ты проделала большую работу над проектом. Он выполнен уже на достойном уровне. Однако есть моменты, которые еще можно улучшить. Будет здорово, если ты, надеюсь, не против, если я буду на ты, будешь отвечать на комментарии и участвовать в диалоге. Если обращение на ты неприемлемо, то прошу сообщить. \n",
    "\n",
    "Мои комментарии обозначены пометкой **Комментарий ревьюера**. Далее в файле ты сможешь найти их в похожих ячейках:\n",
    "    \n",
    "<div class=\"alert alert-success\">Успех: Если фон комментария зелёный - всё сделано правильно. Рекомендации укажу таким же цветом;</div>\n",
    "        \n",
    "<div class=\"alert alert-warning\">Совет: Оранжевый - некритичные замечания;</div>\n",
    "        \n",
    "<div class=\"alert alert-danger\">Ошибка: Красный - нужно переделать. </div>\n",
    "        \n",
    "Не удаляй эти комментарии и постарайся учесть их в ходе выполнения данного проекта. Свои же комментарии ты можешь обозначать любым заметным способом. \n",
    "\n",
    "</div>"
   ]
  },
  {
   "cell_type": "markdown",
   "metadata": {},
   "source": [
    "<div class=\"alert alert-info\">\n",
    "<font size=\"2\"><b>Комментарий студента</b></font>\n",
    "\n",
    "Привет, Артем! Спасибо за проверку моего проекта. Постаралась учесть все замечания, мои комментарии и вопросы ниже. \n",
    "\n",
    "</div>"
   ]
  },
  {
   "cell_type": "markdown",
   "metadata": {},
   "source": [
    "## Цели исследования"
   ]
  },
  {
   "cell_type": "markdown",
   "metadata": {},
   "source": [
    "### Постановка задачи\n",
    "\n",
    "Задача — провести оценку результатов A/B-теста. В вашем распоряжении есть датасет с действиями пользователей, техническое задание и несколько вспомогательных датасетов.\n",
    "\n",
    "- Оцените корректность проведения теста\n",
    "- Проанализируйте результаты теста\n",
    "\n",
    "Чтобы оценить корректность проведения теста, проверьте:\n",
    "\n",
    "- пересечение тестовой аудитории с конкурирующим тестом,\n",
    "- совпадение теста и маркетинговых событий, другие проблемы временных границ теста.\n",
    "\n",
    "### Техническое задание\n",
    "\n",
    "- Название теста: `recommender_system_test`;\n",
    "- группы: А — контрольная, B — новая платёжная воронка;\n",
    "- дата запуска: 2020-12-07;\n",
    "- дата остановки набора новых пользователей: 2020-12-21;m\n",
    "- дата остановки: 2021-01-04;\n",
    "- аудитория: 15% новых пользователей из региона EU;\n",
    "- назначение теста: тестирование изменений, связанных с внедрением улучшенной рекомендательной системы;\n",
    "- ожидаемое количество участников теста: 6000.\n",
    "- ожидаемый эффект: за 14 дней с момента регистрации пользователи покажут улучшение каждой метрики не менее, чем на 10%:\n",
    "    - конверсии в просмотр карточек товаров — событие `product_page`,\n",
    "    - просмотры корзины — `product_cart`,\n",
    "    - покупки — `purchase`."
   ]
  },
  {
   "cell_type": "markdown",
   "metadata": {},
   "source": [
    "<div class=\"alert alert-success\">\n",
    "<font size=\"5\"><b>Комментарий ревьюера</b></font>\n",
    "\n",
    "Успех: Вступление в работу очень важно. Так ты поясняешь то, чему она посвящена. Цель работы также хорошо бы вынести в отдельный блок вступления. Еще лучше будет, если ты сделаешь план работы с гиперссылками. Да, есть плагин ToC. Но хорошо бы уметь реализовывать интерактивный план проекта вручную. Как это реализовать - смотри по [ссылке](https://stackoverflow.com/questions/49535664/how-to-hyperlink-in-a-jupyter-notebook/49717704).\n",
    "\n",
    "</div>"
   ]
  },
  {
   "cell_type": "markdown",
   "metadata": {},
   "source": [
    "<div class=\"alert alert-info\">\n",
    "<font size=\"2\"><b>Комментарий студента</b></font>\n",
    "    \n",
    "Не совсем поняла, что именно должно размещаться по гиперссылкам.\n",
    "</div>"
   ]
  },
  {
   "cell_type": "markdown",
   "metadata": {},
   "source": [
    "<div class=\"alert alert-success\">\n",
    "<font size=\"5\"><b>Комментарий ревьюера 2</b></font>\n",
    "\n",
    "Успех: План работы. Мы его получаем автоматически с использованием плагина ToC. Но он может быть установлен не везде. Хорошо бы уметь реализовывать его вручную.\n",
    "\n",
    "</div>"
   ]
  },
  {
   "cell_type": "markdown",
   "metadata": {},
   "source": [
    "## Предобработка данных"
   ]
  },
  {
   "cell_type": "code",
   "execution_count": 1,
   "metadata": {},
   "outputs": [],
   "source": [
    "import pandas as pd\n",
    "import numpy as np\n",
    "from statsmodels.stats.proportion import proportions_ztest\n",
    "from scipy import stats as st\n",
    "from datetime import datetime, timedelta\n",
    "from matplotlib import pyplot as plt\n",
    "import plotly.express as px\n",
    "from plotly import graph_objects as go\n",
    "import seaborn as sns\n",
    "from datetime import datetime as dt\n",
    "from scipy import stats\n",
    "import math\n",
    "import warnings\n",
    "warnings.filterwarnings('ignore')"
   ]
  },
  {
   "cell_type": "markdown",
   "metadata": {},
   "source": [
    "<div class=\"alert alert-success\">\n",
    "<font size=\"5\"><b>Комментарий ревьюера</b></font>\n",
    "\n",
    "Успех: Правильно, что весь импорт ты проводишь в первой ячейке работы. Так твой коллега, запускающий работу, будет в курсе используемых в ней библиотек и сможет при необходимости быстро настроить окружение. \n",
    "\n",
    "</div>"
   ]
  },
  {
   "cell_type": "code",
   "execution_count": 2,
   "metadata": {},
   "outputs": [],
   "source": [
    "marketing_events = pd.read_csv('/datasets/ab_project_marketing_events.csv', parse_dates=['start_dt', 'finish_dt']) # календарь маркетинговых событий на 2020 год\n",
    "ab_new_users = pd.read_csv('/datasets/final_ab_new_users.csv', parse_dates=['first_date']) # пользователи, зарегистрировавшиеся с 7 по 21 декабря 2020 года\n",
    "ab_events = pd.read_csv('/datasets/final_ab_events.csv', parse_dates=['event_dt']) # действия новых пользователей в период с 7 декабря 2020 по 4 января 2021 года\n",
    "ab_participants = pd.read_csv('/datasets/final_ab_participants.csv') # таблица участников тестов"
   ]
  },
  {
   "cell_type": "code",
   "execution_count": 3,
   "metadata": {
    "scrolled": false
   },
   "outputs": [
    {
     "name": "stdout",
     "output_type": "stream",
     "text": [
      "<class 'pandas.core.frame.DataFrame'>\n",
      "RangeIndex: 14 entries, 0 to 13\n",
      "Data columns (total 4 columns):\n",
      " #   Column     Non-Null Count  Dtype         \n",
      "---  ------     --------------  -----         \n",
      " 0   name       14 non-null     object        \n",
      " 1   regions    14 non-null     object        \n",
      " 2   start_dt   14 non-null     datetime64[ns]\n",
      " 3   finish_dt  14 non-null     datetime64[ns]\n",
      "dtypes: datetime64[ns](2), object(2)\n",
      "memory usage: 576.0+ bytes\n"
     ]
    },
    {
     "data": {
      "text/html": [
       "<div>\n",
       "<style scoped>\n",
       "    .dataframe tbody tr th:only-of-type {\n",
       "        vertical-align: middle;\n",
       "    }\n",
       "\n",
       "    .dataframe tbody tr th {\n",
       "        vertical-align: top;\n",
       "    }\n",
       "\n",
       "    .dataframe thead th {\n",
       "        text-align: right;\n",
       "    }\n",
       "</style>\n",
       "<table border=\"1\" class=\"dataframe\">\n",
       "  <thead>\n",
       "    <tr style=\"text-align: right;\">\n",
       "      <th></th>\n",
       "      <th>name</th>\n",
       "      <th>regions</th>\n",
       "      <th>start_dt</th>\n",
       "      <th>finish_dt</th>\n",
       "    </tr>\n",
       "  </thead>\n",
       "  <tbody>\n",
       "    <tr>\n",
       "      <th>0</th>\n",
       "      <td>Christmas&amp;New Year Promo</td>\n",
       "      <td>EU, N.America</td>\n",
       "      <td>2020-12-25</td>\n",
       "      <td>2021-01-03</td>\n",
       "    </tr>\n",
       "    <tr>\n",
       "      <th>1</th>\n",
       "      <td>St. Valentine's Day Giveaway</td>\n",
       "      <td>EU, CIS, APAC, N.America</td>\n",
       "      <td>2020-02-14</td>\n",
       "      <td>2020-02-16</td>\n",
       "    </tr>\n",
       "    <tr>\n",
       "      <th>2</th>\n",
       "      <td>St. Patric's Day Promo</td>\n",
       "      <td>EU, N.America</td>\n",
       "      <td>2020-03-17</td>\n",
       "      <td>2020-03-19</td>\n",
       "    </tr>\n",
       "    <tr>\n",
       "      <th>3</th>\n",
       "      <td>Easter Promo</td>\n",
       "      <td>EU, CIS, APAC, N.America</td>\n",
       "      <td>2020-04-12</td>\n",
       "      <td>2020-04-19</td>\n",
       "    </tr>\n",
       "    <tr>\n",
       "      <th>4</th>\n",
       "      <td>4th of July Promo</td>\n",
       "      <td>N.America</td>\n",
       "      <td>2020-07-04</td>\n",
       "      <td>2020-07-11</td>\n",
       "    </tr>\n",
       "  </tbody>\n",
       "</table>\n",
       "</div>"
      ],
      "text/plain": [
       "                           name                   regions   start_dt  \\\n",
       "0      Christmas&New Year Promo             EU, N.America 2020-12-25   \n",
       "1  St. Valentine's Day Giveaway  EU, CIS, APAC, N.America 2020-02-14   \n",
       "2        St. Patric's Day Promo             EU, N.America 2020-03-17   \n",
       "3                  Easter Promo  EU, CIS, APAC, N.America 2020-04-12   \n",
       "4             4th of July Promo                 N.America 2020-07-04   \n",
       "\n",
       "   finish_dt  \n",
       "0 2021-01-03  \n",
       "1 2020-02-16  \n",
       "2 2020-03-19  \n",
       "3 2020-04-19  \n",
       "4 2020-07-11  "
      ]
     },
     "metadata": {},
     "output_type": "display_data"
    },
    {
     "data": {
      "text/plain": [
       "None"
      ]
     },
     "metadata": {},
     "output_type": "display_data"
    },
    {
     "data": {
      "text/plain": [
       "0"
      ]
     },
     "metadata": {},
     "output_type": "display_data"
    },
    {
     "name": "stdout",
     "output_type": "stream",
     "text": [
      "<class 'pandas.core.frame.DataFrame'>\n",
      "RangeIndex: 61733 entries, 0 to 61732\n",
      "Data columns (total 4 columns):\n",
      " #   Column      Non-Null Count  Dtype         \n",
      "---  ------      --------------  -----         \n",
      " 0   user_id     61733 non-null  object        \n",
      " 1   first_date  61733 non-null  datetime64[ns]\n",
      " 2   region      61733 non-null  object        \n",
      " 3   device      61733 non-null  object        \n",
      "dtypes: datetime64[ns](1), object(3)\n",
      "memory usage: 1.9+ MB\n"
     ]
    },
    {
     "data": {
      "text/html": [
       "<div>\n",
       "<style scoped>\n",
       "    .dataframe tbody tr th:only-of-type {\n",
       "        vertical-align: middle;\n",
       "    }\n",
       "\n",
       "    .dataframe tbody tr th {\n",
       "        vertical-align: top;\n",
       "    }\n",
       "\n",
       "    .dataframe thead th {\n",
       "        text-align: right;\n",
       "    }\n",
       "</style>\n",
       "<table border=\"1\" class=\"dataframe\">\n",
       "  <thead>\n",
       "    <tr style=\"text-align: right;\">\n",
       "      <th></th>\n",
       "      <th>user_id</th>\n",
       "      <th>first_date</th>\n",
       "      <th>region</th>\n",
       "      <th>device</th>\n",
       "    </tr>\n",
       "  </thead>\n",
       "  <tbody>\n",
       "    <tr>\n",
       "      <th>0</th>\n",
       "      <td>D72A72121175D8BE</td>\n",
       "      <td>2020-12-07</td>\n",
       "      <td>EU</td>\n",
       "      <td>PC</td>\n",
       "    </tr>\n",
       "    <tr>\n",
       "      <th>1</th>\n",
       "      <td>F1C668619DFE6E65</td>\n",
       "      <td>2020-12-07</td>\n",
       "      <td>N.America</td>\n",
       "      <td>Android</td>\n",
       "    </tr>\n",
       "    <tr>\n",
       "      <th>2</th>\n",
       "      <td>2E1BF1D4C37EA01F</td>\n",
       "      <td>2020-12-07</td>\n",
       "      <td>EU</td>\n",
       "      <td>PC</td>\n",
       "    </tr>\n",
       "    <tr>\n",
       "      <th>3</th>\n",
       "      <td>50734A22C0C63768</td>\n",
       "      <td>2020-12-07</td>\n",
       "      <td>EU</td>\n",
       "      <td>iPhone</td>\n",
       "    </tr>\n",
       "    <tr>\n",
       "      <th>4</th>\n",
       "      <td>E1BDDCE0DAFA2679</td>\n",
       "      <td>2020-12-07</td>\n",
       "      <td>N.America</td>\n",
       "      <td>iPhone</td>\n",
       "    </tr>\n",
       "  </tbody>\n",
       "</table>\n",
       "</div>"
      ],
      "text/plain": [
       "            user_id first_date     region   device\n",
       "0  D72A72121175D8BE 2020-12-07         EU       PC\n",
       "1  F1C668619DFE6E65 2020-12-07  N.America  Android\n",
       "2  2E1BF1D4C37EA01F 2020-12-07         EU       PC\n",
       "3  50734A22C0C63768 2020-12-07         EU   iPhone\n",
       "4  E1BDDCE0DAFA2679 2020-12-07  N.America   iPhone"
      ]
     },
     "metadata": {},
     "output_type": "display_data"
    },
    {
     "data": {
      "text/plain": [
       "None"
      ]
     },
     "metadata": {},
     "output_type": "display_data"
    },
    {
     "data": {
      "text/plain": [
       "0"
      ]
     },
     "metadata": {},
     "output_type": "display_data"
    },
    {
     "name": "stdout",
     "output_type": "stream",
     "text": [
      "<class 'pandas.core.frame.DataFrame'>\n",
      "RangeIndex: 440317 entries, 0 to 440316\n",
      "Data columns (total 4 columns):\n",
      " #   Column      Non-Null Count   Dtype         \n",
      "---  ------      --------------   -----         \n",
      " 0   user_id     440317 non-null  object        \n",
      " 1   event_dt    440317 non-null  datetime64[ns]\n",
      " 2   event_name  440317 non-null  object        \n",
      " 3   details     62740 non-null   float64       \n",
      "dtypes: datetime64[ns](1), float64(1), object(2)\n",
      "memory usage: 13.4+ MB\n"
     ]
    },
    {
     "data": {
      "text/html": [
       "<div>\n",
       "<style scoped>\n",
       "    .dataframe tbody tr th:only-of-type {\n",
       "        vertical-align: middle;\n",
       "    }\n",
       "\n",
       "    .dataframe tbody tr th {\n",
       "        vertical-align: top;\n",
       "    }\n",
       "\n",
       "    .dataframe thead th {\n",
       "        text-align: right;\n",
       "    }\n",
       "</style>\n",
       "<table border=\"1\" class=\"dataframe\">\n",
       "  <thead>\n",
       "    <tr style=\"text-align: right;\">\n",
       "      <th></th>\n",
       "      <th>user_id</th>\n",
       "      <th>event_dt</th>\n",
       "      <th>event_name</th>\n",
       "      <th>details</th>\n",
       "    </tr>\n",
       "  </thead>\n",
       "  <tbody>\n",
       "    <tr>\n",
       "      <th>0</th>\n",
       "      <td>E1BDDCE0DAFA2679</td>\n",
       "      <td>2020-12-07 20:22:03</td>\n",
       "      <td>purchase</td>\n",
       "      <td>99.99</td>\n",
       "    </tr>\n",
       "    <tr>\n",
       "      <th>1</th>\n",
       "      <td>7B6452F081F49504</td>\n",
       "      <td>2020-12-07 09:22:53</td>\n",
       "      <td>purchase</td>\n",
       "      <td>9.99</td>\n",
       "    </tr>\n",
       "    <tr>\n",
       "      <th>2</th>\n",
       "      <td>9CD9F34546DF254C</td>\n",
       "      <td>2020-12-07 12:59:29</td>\n",
       "      <td>purchase</td>\n",
       "      <td>4.99</td>\n",
       "    </tr>\n",
       "    <tr>\n",
       "      <th>3</th>\n",
       "      <td>96F27A054B191457</td>\n",
       "      <td>2020-12-07 04:02:40</td>\n",
       "      <td>purchase</td>\n",
       "      <td>4.99</td>\n",
       "    </tr>\n",
       "    <tr>\n",
       "      <th>4</th>\n",
       "      <td>1FD7660FDF94CA1F</td>\n",
       "      <td>2020-12-07 10:15:09</td>\n",
       "      <td>purchase</td>\n",
       "      <td>4.99</td>\n",
       "    </tr>\n",
       "  </tbody>\n",
       "</table>\n",
       "</div>"
      ],
      "text/plain": [
       "            user_id            event_dt event_name  details\n",
       "0  E1BDDCE0DAFA2679 2020-12-07 20:22:03   purchase    99.99\n",
       "1  7B6452F081F49504 2020-12-07 09:22:53   purchase     9.99\n",
       "2  9CD9F34546DF254C 2020-12-07 12:59:29   purchase     4.99\n",
       "3  96F27A054B191457 2020-12-07 04:02:40   purchase     4.99\n",
       "4  1FD7660FDF94CA1F 2020-12-07 10:15:09   purchase     4.99"
      ]
     },
     "metadata": {},
     "output_type": "display_data"
    },
    {
     "data": {
      "text/plain": [
       "None"
      ]
     },
     "metadata": {},
     "output_type": "display_data"
    },
    {
     "data": {
      "text/plain": [
       "0"
      ]
     },
     "metadata": {},
     "output_type": "display_data"
    },
    {
     "name": "stdout",
     "output_type": "stream",
     "text": [
      "<class 'pandas.core.frame.DataFrame'>\n",
      "RangeIndex: 18268 entries, 0 to 18267\n",
      "Data columns (total 3 columns):\n",
      " #   Column   Non-Null Count  Dtype \n",
      "---  ------   --------------  ----- \n",
      " 0   user_id  18268 non-null  object\n",
      " 1   group    18268 non-null  object\n",
      " 2   ab_test  18268 non-null  object\n",
      "dtypes: object(3)\n",
      "memory usage: 428.3+ KB\n"
     ]
    },
    {
     "data": {
      "text/html": [
       "<div>\n",
       "<style scoped>\n",
       "    .dataframe tbody tr th:only-of-type {\n",
       "        vertical-align: middle;\n",
       "    }\n",
       "\n",
       "    .dataframe tbody tr th {\n",
       "        vertical-align: top;\n",
       "    }\n",
       "\n",
       "    .dataframe thead th {\n",
       "        text-align: right;\n",
       "    }\n",
       "</style>\n",
       "<table border=\"1\" class=\"dataframe\">\n",
       "  <thead>\n",
       "    <tr style=\"text-align: right;\">\n",
       "      <th></th>\n",
       "      <th>user_id</th>\n",
       "      <th>group</th>\n",
       "      <th>ab_test</th>\n",
       "    </tr>\n",
       "  </thead>\n",
       "  <tbody>\n",
       "    <tr>\n",
       "      <th>0</th>\n",
       "      <td>D1ABA3E2887B6A73</td>\n",
       "      <td>A</td>\n",
       "      <td>recommender_system_test</td>\n",
       "    </tr>\n",
       "    <tr>\n",
       "      <th>1</th>\n",
       "      <td>A7A3664BD6242119</td>\n",
       "      <td>A</td>\n",
       "      <td>recommender_system_test</td>\n",
       "    </tr>\n",
       "    <tr>\n",
       "      <th>2</th>\n",
       "      <td>DABC14FDDFADD29E</td>\n",
       "      <td>A</td>\n",
       "      <td>recommender_system_test</td>\n",
       "    </tr>\n",
       "    <tr>\n",
       "      <th>3</th>\n",
       "      <td>04988C5DF189632E</td>\n",
       "      <td>A</td>\n",
       "      <td>recommender_system_test</td>\n",
       "    </tr>\n",
       "    <tr>\n",
       "      <th>4</th>\n",
       "      <td>482F14783456D21B</td>\n",
       "      <td>B</td>\n",
       "      <td>recommender_system_test</td>\n",
       "    </tr>\n",
       "  </tbody>\n",
       "</table>\n",
       "</div>"
      ],
      "text/plain": [
       "            user_id group                  ab_test\n",
       "0  D1ABA3E2887B6A73     A  recommender_system_test\n",
       "1  A7A3664BD6242119     A  recommender_system_test\n",
       "2  DABC14FDDFADD29E     A  recommender_system_test\n",
       "3  04988C5DF189632E     A  recommender_system_test\n",
       "4  482F14783456D21B     B  recommender_system_test"
      ]
     },
     "metadata": {},
     "output_type": "display_data"
    },
    {
     "data": {
      "text/plain": [
       "None"
      ]
     },
     "metadata": {},
     "output_type": "display_data"
    },
    {
     "data": {
      "text/plain": [
       "0"
      ]
     },
     "metadata": {},
     "output_type": "display_data"
    }
   ],
   "source": [
    "data_list = [marketing_events, ab_new_users, ab_events, ab_participants]\n",
    "pd.set_option('display.max_colwidth', 500)\n",
    "\n",
    "for df in data_list:\n",
    "    display(df.head(), df.info(), df.duplicated().sum())"
   ]
  },
  {
   "cell_type": "markdown",
   "metadata": {},
   "source": [
    "<div class=\"alert alert-success\">\n",
    "<font size=\"5\"><b>Комментарий ревьюера</b></font>\n",
    "\n",
    "Совет: Столбцы с датой в каждом случае у нас имеют тип данных object. Исправить это уже при считывании данных тебе поможет [данная статья](https://towardsdatascience.com/4-tricks-you-should-know-to-parse-date-columns-with-pandas-read-csv-27355bb2ad0e) о исправлении типов данных столбцов с датой уже при считывании таблицы. \n",
    "\n",
    "</div>"
   ]
  },
  {
   "cell_type": "markdown",
   "metadata": {},
   "source": [
    "<div class=\"alert alert-info\">\n",
    "<font size=\"2\"><b>Комментарий студента</b></font>\n",
    "    \n",
    "Спасибо! добавила.\n",
    "</div>"
   ]
  },
  {
   "cell_type": "markdown",
   "metadata": {},
   "source": [
    "<div class=\"alert alert-success\">\n",
    "<font size=\"5\"><b>Комментарий ревьюера 2</b></font>\n",
    "\n",
    "Успех: Здорово, что ты освоила способ устранения проблем в данных уже на стадии их считывания. \n",
    "\n",
    "</div>"
   ]
  },
  {
   "cell_type": "code",
   "execution_count": 4,
   "metadata": {},
   "outputs": [],
   "source": [
    "# для удобства оставим только дату в ab_events\n",
    "ab_events['event_dt'] = ab_events['event_dt'].dt.date"
   ]
  },
  {
   "cell_type": "code",
   "execution_count": 5,
   "metadata": {},
   "outputs": [
    {
     "data": {
      "text/plain": [
       "array(['purchase', 'product_cart', 'product_page', 'login'], dtype=object)"
      ]
     },
     "execution_count": 5,
     "metadata": {},
     "output_type": "execute_result"
    }
   ],
   "source": [
    "ab_events['event_name'].unique()"
   ]
  },
  {
   "cell_type": "code",
   "execution_count": 6,
   "metadata": {},
   "outputs": [
    {
     "data": {
      "text/plain": [
       "array(['product_cart', 'product_page', 'login'], dtype=object)"
      ]
     },
     "execution_count": 6,
     "metadata": {},
     "output_type": "execute_result"
    }
   ],
   "source": [
    "ab_events[ab_events['details'].isna()]['event_name'].unique()"
   ]
  },
  {
   "cell_type": "code",
   "execution_count": 7,
   "metadata": {},
   "outputs": [
    {
     "data": {
      "text/plain": [
       "array(['purchase'], dtype=object)"
      ]
     },
     "execution_count": 7,
     "metadata": {},
     "output_type": "execute_result"
    }
   ],
   "source": [
    "ab_events[ab_events['details'].isna() == False]['event_name'].unique()"
   ]
  },
  {
   "cell_type": "markdown",
   "metadata": {},
   "source": [
    "Пропуски столбце details означают, что дополнительных данных для события нет. Дополнительные данные есть только для  purchase, в details для purchase хранится стоимость покупки в долларах."
   ]
  },
  {
   "cell_type": "markdown",
   "metadata": {},
   "source": [
    "Все типы кроме корректны."
   ]
  },
  {
   "cell_type": "markdown",
   "metadata": {},
   "source": [
    "<div class=\"alert alert-success\">\n",
    "<font size=\"5\"><b>Комментарий ревьюера</b></font>\n",
    "\n",
    "Успех: Первый взгляд на таблицы выполнен. Ошибки исправлены. Давай приступать к анализу полученной информации. \n",
    "\n",
    "</div>"
   ]
  },
  {
   "cell_type": "markdown",
   "metadata": {},
   "source": [
    "## Оценка корректности теста"
   ]
  },
  {
   "cell_type": "markdown",
   "metadata": {},
   "source": [
    "### Соответствие данных требованиям технического задания"
   ]
  },
  {
   "cell_type": "code",
   "execution_count": 8,
   "metadata": {
    "scrolled": true
   },
   "outputs": [
    {
     "data": {
      "text/plain": [
       "(datetime.date(2020, 12, 7), datetime.date(2020, 12, 30))"
      ]
     },
     "execution_count": 8,
     "metadata": {},
     "output_type": "execute_result"
    }
   ],
   "source": [
    "# посмотрим, данные за какой период представлены в таблице ab_events\n",
    "ab_events['event_dt'].min(), ab_events['event_dt'].max()"
   ]
  },
  {
   "cell_type": "markdown",
   "metadata": {},
   "source": [
    "По ТЗ нам для теста необходимы действия новых пользователей в период с 7 декабря 2020 по 4 января 2021 года, а мы имеем только с 7 по 30 декабря 2020 года."
   ]
  },
  {
   "cell_type": "code",
   "execution_count": 9,
   "metadata": {},
   "outputs": [
    {
     "data": {
      "text/plain": [
       "(Timestamp('2020-12-07 00:00:00'), Timestamp('2020-12-23 00:00:00'))"
      ]
     },
     "execution_count": 9,
     "metadata": {},
     "output_type": "execute_result"
    }
   ],
   "source": [
    "# посмотрим, данные за какой период представлены в таблице ab_new_users\n",
    "ab_new_users['first_date'].min(), ab_new_users['first_date'].max()"
   ]
  },
  {
   "cell_type": "markdown",
   "metadata": {},
   "source": [
    "По ТЗ дата остановки набора новых пользователей 2020-12-21, значит, в наши данные попали лишние регистрации."
   ]
  },
  {
   "cell_type": "code",
   "execution_count": 10,
   "metadata": {},
   "outputs": [
    {
     "data": {
      "text/html": [
       "<div>\n",
       "<style scoped>\n",
       "    .dataframe tbody tr th:only-of-type {\n",
       "        vertical-align: middle;\n",
       "    }\n",
       "\n",
       "    .dataframe tbody tr th {\n",
       "        vertical-align: top;\n",
       "    }\n",
       "\n",
       "    .dataframe thead th {\n",
       "        text-align: right;\n",
       "    }\n",
       "</style>\n",
       "<table border=\"1\" class=\"dataframe\">\n",
       "  <thead>\n",
       "    <tr style=\"text-align: right;\">\n",
       "      <th></th>\n",
       "      <th>user_id</th>\n",
       "      <th>first_date</th>\n",
       "      <th>region</th>\n",
       "      <th>device</th>\n",
       "    </tr>\n",
       "  </thead>\n",
       "  <tbody>\n",
       "    <tr>\n",
       "      <th>0</th>\n",
       "      <td>D72A72121175D8BE</td>\n",
       "      <td>2020-12-07</td>\n",
       "      <td>EU</td>\n",
       "      <td>PC</td>\n",
       "    </tr>\n",
       "    <tr>\n",
       "      <th>1</th>\n",
       "      <td>F1C668619DFE6E65</td>\n",
       "      <td>2020-12-07</td>\n",
       "      <td>N.America</td>\n",
       "      <td>Android</td>\n",
       "    </tr>\n",
       "    <tr>\n",
       "      <th>2</th>\n",
       "      <td>2E1BF1D4C37EA01F</td>\n",
       "      <td>2020-12-07</td>\n",
       "      <td>EU</td>\n",
       "      <td>PC</td>\n",
       "    </tr>\n",
       "    <tr>\n",
       "      <th>3</th>\n",
       "      <td>50734A22C0C63768</td>\n",
       "      <td>2020-12-07</td>\n",
       "      <td>EU</td>\n",
       "      <td>iPhone</td>\n",
       "    </tr>\n",
       "    <tr>\n",
       "      <th>4</th>\n",
       "      <td>E1BDDCE0DAFA2679</td>\n",
       "      <td>2020-12-07</td>\n",
       "      <td>N.America</td>\n",
       "      <td>iPhone</td>\n",
       "    </tr>\n",
       "  </tbody>\n",
       "</table>\n",
       "</div>"
      ],
      "text/plain": [
       "            user_id first_date     region   device\n",
       "0  D72A72121175D8BE 2020-12-07         EU       PC\n",
       "1  F1C668619DFE6E65 2020-12-07  N.America  Android\n",
       "2  2E1BF1D4C37EA01F 2020-12-07         EU       PC\n",
       "3  50734A22C0C63768 2020-12-07         EU   iPhone\n",
       "4  E1BDDCE0DAFA2679 2020-12-07  N.America   iPhone"
      ]
     },
     "execution_count": 10,
     "metadata": {},
     "output_type": "execute_result"
    }
   ],
   "source": [
    "# удалим из данных лишние регистрации\n",
    "ab_new_users_1 = ab_new_users[ab_new_users['first_date'] <= '2020-12-21 00:00:00']\n",
    "ab_new_users_1.head()"
   ]
  },
  {
   "cell_type": "markdown",
   "metadata": {},
   "source": [
    "<div class=\"alert alert-success\">\n",
    "<font size=\"5\"><b>Комментарий ревьюера</b></font>\n",
    "\n",
    "Успех: Соглашусь, таких пользователей в анализе учитывать не стоит. \n",
    "</div>"
   ]
  },
  {
   "cell_type": "markdown",
   "metadata": {},
   "source": [
    "Соединим таблицу с данными о новых пользователях, данными об их действиях и данными об участниках теста."
   ]
  },
  {
   "cell_type": "code",
   "execution_count": 11,
   "metadata": {},
   "outputs": [],
   "source": [
    "df = ab_new_users_1.merge(ab_events, on='user_id', how='inner')\n",
    "# inner оставит всех новых пользователей, которые участвовали в A-B тесте\n",
    "\n",
    "df_new_0 = df.merge(ab_participants, on='user_id', how='inner')\n",
    "# left оставит всех новых пользователей оставит всех новых пользователей"
   ]
  },
  {
   "cell_type": "markdown",
   "metadata": {},
   "source": [
    "По ТЗ ожидаемый эффект смотрим череез 14 дней с момента регистрации, смотрим на результаты теста recommender_system_test, нас интерусют пользователи из региона EU.\n",
    "\n",
    "Скорректируем датафрейм согласно этим условиям."
   ]
  },
  {
   "cell_type": "code",
   "execution_count": 12,
   "metadata": {},
   "outputs": [
    {
     "data": {
      "text/html": [
       "<div>\n",
       "<style scoped>\n",
       "    .dataframe tbody tr th:only-of-type {\n",
       "        vertical-align: middle;\n",
       "    }\n",
       "\n",
       "    .dataframe tbody tr th {\n",
       "        vertical-align: top;\n",
       "    }\n",
       "\n",
       "    .dataframe thead th {\n",
       "        text-align: right;\n",
       "    }\n",
       "</style>\n",
       "<table border=\"1\" class=\"dataframe\">\n",
       "  <thead>\n",
       "    <tr style=\"text-align: right;\">\n",
       "      <th></th>\n",
       "      <th>user_id</th>\n",
       "      <th>first_date</th>\n",
       "      <th>region</th>\n",
       "      <th>device</th>\n",
       "      <th>event_dt</th>\n",
       "      <th>event_name</th>\n",
       "      <th>details</th>\n",
       "      <th>group</th>\n",
       "      <th>ab_test</th>\n",
       "    </tr>\n",
       "  </thead>\n",
       "  <tbody>\n",
       "    <tr>\n",
       "      <th>0</th>\n",
       "      <td>D72A72121175D8BE</td>\n",
       "      <td>2020-12-07</td>\n",
       "      <td>EU</td>\n",
       "      <td>PC</td>\n",
       "      <td>2020-12-07</td>\n",
       "      <td>product_page</td>\n",
       "      <td>NaN</td>\n",
       "      <td>A</td>\n",
       "      <td>recommender_system_test</td>\n",
       "    </tr>\n",
       "    <tr>\n",
       "      <th>1</th>\n",
       "      <td>D72A72121175D8BE</td>\n",
       "      <td>2020-12-07</td>\n",
       "      <td>EU</td>\n",
       "      <td>PC</td>\n",
       "      <td>2020-12-07</td>\n",
       "      <td>login</td>\n",
       "      <td>NaN</td>\n",
       "      <td>A</td>\n",
       "      <td>recommender_system_test</td>\n",
       "    </tr>\n",
       "    <tr>\n",
       "      <th>42</th>\n",
       "      <td>DD4352CDCF8C3D57</td>\n",
       "      <td>2020-12-07</td>\n",
       "      <td>EU</td>\n",
       "      <td>Android</td>\n",
       "      <td>2020-12-07</td>\n",
       "      <td>product_page</td>\n",
       "      <td>NaN</td>\n",
       "      <td>B</td>\n",
       "      <td>recommender_system_test</td>\n",
       "    </tr>\n",
       "    <tr>\n",
       "      <th>44</th>\n",
       "      <td>DD4352CDCF8C3D57</td>\n",
       "      <td>2020-12-07</td>\n",
       "      <td>EU</td>\n",
       "      <td>Android</td>\n",
       "      <td>2020-12-08</td>\n",
       "      <td>product_page</td>\n",
       "      <td>NaN</td>\n",
       "      <td>B</td>\n",
       "      <td>recommender_system_test</td>\n",
       "    </tr>\n",
       "    <tr>\n",
       "      <th>46</th>\n",
       "      <td>DD4352CDCF8C3D57</td>\n",
       "      <td>2020-12-07</td>\n",
       "      <td>EU</td>\n",
       "      <td>Android</td>\n",
       "      <td>2020-12-10</td>\n",
       "      <td>product_page</td>\n",
       "      <td>NaN</td>\n",
       "      <td>B</td>\n",
       "      <td>recommender_system_test</td>\n",
       "    </tr>\n",
       "  </tbody>\n",
       "</table>\n",
       "</div>"
      ],
      "text/plain": [
       "             user_id first_date region   device    event_dt    event_name  \\\n",
       "0   D72A72121175D8BE 2020-12-07     EU       PC  2020-12-07  product_page   \n",
       "1   D72A72121175D8BE 2020-12-07     EU       PC  2020-12-07         login   \n",
       "42  DD4352CDCF8C3D57 2020-12-07     EU  Android  2020-12-07  product_page   \n",
       "44  DD4352CDCF8C3D57 2020-12-07     EU  Android  2020-12-08  product_page   \n",
       "46  DD4352CDCF8C3D57 2020-12-07     EU  Android  2020-12-10  product_page   \n",
       "\n",
       "    details group                  ab_test  \n",
       "0       NaN     A  recommender_system_test  \n",
       "1       NaN     A  recommender_system_test  \n",
       "42      NaN     B  recommender_system_test  \n",
       "44      NaN     B  recommender_system_test  \n",
       "46      NaN     B  recommender_system_test  "
      ]
     },
     "execution_count": 12,
     "metadata": {},
     "output_type": "execute_result"
    }
   ],
   "source": [
    "# удалим действия, совешенные пользователями через более чем 14 дней с момента регистрации\n",
    "df_new_1 = df_new_0.drop(df_new_0[df_new_0['event_dt'] > (df_new_0['first_date'] + pd.Timedelta(13, 'd'))].index)\n",
    "\n",
    "# оставим нужный регион\n",
    "df_new_2 = df_new_1[df_new_1['region'] == 'EU']\n",
    "\n",
    "# оставим только нужный тест\n",
    "df_new_3 = df_new_2[df_new_2['ab_test'] == 'recommender_system_test']\n",
    "df_new_3.head()"
   ]
  },
  {
   "cell_type": "markdown",
   "metadata": {},
   "source": [
    "В полученной таблице есть пустые значения столбца event_dt, значит, эти пользователи не совершали вообще никаких действий кроме регистрации."
   ]
  },
  {
   "cell_type": "markdown",
   "metadata": {},
   "source": [
    "<div class=\"alert alert-success\">\n",
    "<font size=\"5\"><b>Комментарий ревьюера</b></font>\n",
    "\n",
    "Успех: Здорово, что ты заметила таких пользователей. Действительно, такие у нас есть. \n",
    "\n",
    "</div>"
   ]
  },
  {
   "cell_type": "markdown",
   "metadata": {},
   "source": [
    "### Пересечение теста с другими маркетинговыми активностями"
   ]
  },
  {
   "cell_type": "markdown",
   "metadata": {},
   "source": [
    "Тест проходил в период с 7 декабря 2020 по 4 января 2021 года, посмотрим, были ли пересечения с маркетинговыми активностями."
   ]
  },
  {
   "cell_type": "code",
   "execution_count": 13,
   "metadata": {},
   "outputs": [
    {
     "data": {
      "text/html": [
       "<div>\n",
       "<style scoped>\n",
       "    .dataframe tbody tr th:only-of-type {\n",
       "        vertical-align: middle;\n",
       "    }\n",
       "\n",
       "    .dataframe tbody tr th {\n",
       "        vertical-align: top;\n",
       "    }\n",
       "\n",
       "    .dataframe thead th {\n",
       "        text-align: right;\n",
       "    }\n",
       "</style>\n",
       "<table border=\"1\" class=\"dataframe\">\n",
       "  <thead>\n",
       "    <tr style=\"text-align: right;\">\n",
       "      <th></th>\n",
       "      <th>name</th>\n",
       "      <th>regions</th>\n",
       "      <th>start_dt</th>\n",
       "      <th>finish_dt</th>\n",
       "    </tr>\n",
       "  </thead>\n",
       "  <tbody>\n",
       "    <tr>\n",
       "      <th>0</th>\n",
       "      <td>Christmas&amp;New Year Promo</td>\n",
       "      <td>EU, N.America</td>\n",
       "      <td>2020-12-25</td>\n",
       "      <td>2021-01-03</td>\n",
       "    </tr>\n",
       "    <tr>\n",
       "      <th>10</th>\n",
       "      <td>CIS New Year Gift Lottery</td>\n",
       "      <td>CIS</td>\n",
       "      <td>2020-12-30</td>\n",
       "      <td>2021-01-07</td>\n",
       "    </tr>\n",
       "  </tbody>\n",
       "</table>\n",
       "</div>"
      ],
      "text/plain": [
       "                         name        regions   start_dt  finish_dt\n",
       "0    Christmas&New Year Promo  EU, N.America 2020-12-25 2021-01-03\n",
       "10  CIS New Year Gift Lottery            CIS 2020-12-30 2021-01-07"
      ]
     },
     "execution_count": 13,
     "metadata": {},
     "output_type": "execute_result"
    }
   ],
   "source": [
    "marketing_events[(marketing_events['start_dt'] >= '2020-12-7') & (marketing_events['start_dt'] <= '2020-12-30')]"
   ]
  },
  {
   "cell_type": "code",
   "execution_count": 14,
   "metadata": {},
   "outputs": [
    {
     "data": {
      "text/html": [
       "<div>\n",
       "<style scoped>\n",
       "    .dataframe tbody tr th:only-of-type {\n",
       "        vertical-align: middle;\n",
       "    }\n",
       "\n",
       "    .dataframe tbody tr th {\n",
       "        vertical-align: top;\n",
       "    }\n",
       "\n",
       "    .dataframe thead th {\n",
       "        text-align: right;\n",
       "    }\n",
       "</style>\n",
       "<table border=\"1\" class=\"dataframe\">\n",
       "  <thead>\n",
       "    <tr style=\"text-align: right;\">\n",
       "      <th></th>\n",
       "      <th>name</th>\n",
       "      <th>regions</th>\n",
       "      <th>start_dt</th>\n",
       "      <th>finish_dt</th>\n",
       "    </tr>\n",
       "  </thead>\n",
       "  <tbody>\n",
       "  </tbody>\n",
       "</table>\n",
       "</div>"
      ],
      "text/plain": [
       "Empty DataFrame\n",
       "Columns: [name, regions, start_dt, finish_dt]\n",
       "Index: []"
      ]
     },
     "execution_count": 14,
     "metadata": {},
     "output_type": "execute_result"
    }
   ],
   "source": [
    "marketing_events[(marketing_events['finish_dt'] >= '2020-12-7') & (marketing_events['finish_dt'] <= '2020-12-30')]"
   ]
  },
  {
   "cell_type": "markdown",
   "metadata": {},
   "source": [
    "Период проведения теста в рассматриваемом регионе EU пересекается с 1 маркетинговой активностью, что может сильно искажать поведение пользователей. Здесь наиболее корректно будет убрать данные, собранные в период проведения активности, но тогда не будут выполнены условия ТЗ.\n",
    "\n",
    "Также мы можем заметить, что вообще тест целиком проведен в преддверии Нового года, что ставит под сомнение объективность полученных данных."
   ]
  },
  {
   "cell_type": "markdown",
   "metadata": {},
   "source": [
    "<div class=\"alert alert-success\">\n",
    "<font size=\"5\"><b>Комментарий ревьюера</b></font>\n",
    "\n",
    "Успех: Тест сильно пересекается с новогодней промкой в EU. Это не слишком хорошо - нужно избегать таких ситуаций. Здорово, что ты заметила данную особенность. \n",
    "\n",
    "</div>"
   ]
  },
  {
   "cell_type": "markdown",
   "metadata": {},
   "source": [
    "### Изучение аудитории теста"
   ]
  },
  {
   "cell_type": "code",
   "execution_count": 15,
   "metadata": {},
   "outputs": [
    {
     "data": {
      "text/plain": [
       "array(['EU', 'APAC', 'CIS', 'N.America'], dtype=object)"
      ]
     },
     "execution_count": 15,
     "metadata": {},
     "output_type": "execute_result"
    }
   ],
   "source": [
    "# посмотрим исходный фрейм с фильтрацией по нужному тесту\n",
    "df_new_0[df_new_0['ab_test'] == 'recommender_system_test']['region'].unique()"
   ]
  },
  {
   "cell_type": "markdown",
   "metadata": {},
   "source": [
    "<div class=\"alert alert-warning\">\n",
    "<font size=\"5\"><b>Комментарий ревьюера</b></font>\n",
    "\n",
    "Совет: Стоило вывести количество пользователей в регионах. Но ты удалила пользователей других регионов, что правильно. В принципе, 5% пользователей иных регионов - допустимая погрешность. Они не повлияют значительно. на результаты нашего теста. \n",
    "\n",
    "</div>"
   ]
  },
  {
   "cell_type": "markdown",
   "metadata": {},
   "source": [
    "Здесь видим не соответвие ТЗ. Нам необходимо было запустить тест на новых пользователей из региона EU, а тест был запущен еще и на 3 других регоиона."
   ]
  },
  {
   "cell_type": "code",
   "execution_count": 16,
   "metadata": {
    "scrolled": false
   },
   "outputs": [
    {
     "data": {
      "text/html": [
       "<div>\n",
       "<style scoped>\n",
       "    .dataframe tbody tr th:only-of-type {\n",
       "        vertical-align: middle;\n",
       "    }\n",
       "\n",
       "    .dataframe tbody tr th {\n",
       "        vertical-align: top;\n",
       "    }\n",
       "\n",
       "    .dataframe thead th {\n",
       "        text-align: right;\n",
       "    }\n",
       "</style>\n",
       "<table border=\"1\" class=\"dataframe\">\n",
       "  <thead>\n",
       "    <tr style=\"text-align: right;\">\n",
       "      <th>ab_test</th>\n",
       "      <th>user_id</th>\n",
       "      <th>interface_eu_test</th>\n",
       "      <th>recommender_system_test</th>\n",
       "    </tr>\n",
       "  </thead>\n",
       "  <tbody>\n",
       "    <tr>\n",
       "      <th>0</th>\n",
       "      <td>0002CE61FF2C4011</td>\n",
       "      <td>1.0</td>\n",
       "      <td>NaN</td>\n",
       "    </tr>\n",
       "    <tr>\n",
       "      <th>1</th>\n",
       "      <td>001064FEAAB631A1</td>\n",
       "      <td>1.0</td>\n",
       "      <td>1.0</td>\n",
       "    </tr>\n",
       "    <tr>\n",
       "      <th>2</th>\n",
       "      <td>0010A1C096941592</td>\n",
       "      <td>NaN</td>\n",
       "      <td>1.0</td>\n",
       "    </tr>\n",
       "    <tr>\n",
       "      <th>3</th>\n",
       "      <td>001E72F50D1C48FA</td>\n",
       "      <td>1.0</td>\n",
       "      <td>NaN</td>\n",
       "    </tr>\n",
       "    <tr>\n",
       "      <th>4</th>\n",
       "      <td>002412F1EB3F6E38</td>\n",
       "      <td>1.0</td>\n",
       "      <td>NaN</td>\n",
       "    </tr>\n",
       "    <tr>\n",
       "      <th>5</th>\n",
       "      <td>002540BE89C930FB</td>\n",
       "      <td>1.0</td>\n",
       "      <td>NaN</td>\n",
       "    </tr>\n",
       "    <tr>\n",
       "      <th>6</th>\n",
       "      <td>0031F1B5E9FBF708</td>\n",
       "      <td>1.0</td>\n",
       "      <td>NaN</td>\n",
       "    </tr>\n",
       "    <tr>\n",
       "      <th>7</th>\n",
       "      <td>003346BB64227D0C</td>\n",
       "      <td>1.0</td>\n",
       "      <td>NaN</td>\n",
       "    </tr>\n",
       "    <tr>\n",
       "      <th>8</th>\n",
       "      <td>00341D8401F0F665</td>\n",
       "      <td>1.0</td>\n",
       "      <td>1.0</td>\n",
       "    </tr>\n",
       "    <tr>\n",
       "      <th>9</th>\n",
       "      <td>0036BE15EE4D319D</td>\n",
       "      <td>1.0</td>\n",
       "      <td>NaN</td>\n",
       "    </tr>\n",
       "  </tbody>\n",
       "</table>\n",
       "</div>"
      ],
      "text/plain": [
       "ab_test           user_id  interface_eu_test  recommender_system_test\n",
       "0        0002CE61FF2C4011                1.0                      NaN\n",
       "1        001064FEAAB631A1                1.0                      1.0\n",
       "2        0010A1C096941592                NaN                      1.0\n",
       "3        001E72F50D1C48FA                1.0                      NaN\n",
       "4        002412F1EB3F6E38                1.0                      NaN\n",
       "5        002540BE89C930FB                1.0                      NaN\n",
       "6        0031F1B5E9FBF708                1.0                      NaN\n",
       "7        003346BB64227D0C                1.0                      NaN\n",
       "8        00341D8401F0F665                1.0                      1.0\n",
       "9        0036BE15EE4D319D                1.0                      NaN"
      ]
     },
     "execution_count": 16,
     "metadata": {},
     "output_type": "execute_result"
    }
   ],
   "source": [
    "# берем датафрейм без фильтрации по нужному тесту\n",
    "users_tests = df_new_2.pivot_table(index='user_id', columns='ab_test', values='group', aggfunc='nunique').reset_index()\n",
    "users_tests.head(10)"
   ]
  },
  {
   "cell_type": "code",
   "execution_count": 17,
   "metadata": {},
   "outputs": [
    {
     "data": {
      "text/plain": [
       "887"
      ]
     },
     "execution_count": 17,
     "metadata": {},
     "output_type": "execute_result"
    }
   ],
   "source": [
    "users_tests['tests_count'] = users_tests['interface_eu_test'] + users_tests['recommender_system_test']\n",
    "users_tests[users_tests['tests_count'] == 2]['user_id'].count()"
   ]
  },
  {
   "cell_type": "code",
   "execution_count": 18,
   "metadata": {},
   "outputs": [
    {
     "data": {
      "text/plain": [
       "25.481183567940246"
      ]
     },
     "execution_count": 18,
     "metadata": {},
     "output_type": "execute_result"
    }
   ],
   "source": [
    "users_tests[users_tests['tests_count'] == 2]['user_id'].count() / df_new_3['user_id'].nunique() *100"
   ]
  },
  {
   "cell_type": "markdown",
   "metadata": {},
   "source": [
    "Получаем, что у нас есть пользователи (из тех пользователей, данные по которым мы используем для оценки теста), которые участвовали в двух тестах: interface_eu_test и recommender_system_test.\n",
    "\n",
    "Получается, что есть пересечение с конкурирующим тестом, это не очень хорошо, но не критично. Доля таких пользователей от общего количества составляет 34%, это достаточно много."
   ]
  },
  {
   "cell_type": "markdown",
   "metadata": {},
   "source": [
    "<div class=\"alert alert-danger\">\n",
    "<font size=\"5\"><b>Комментарий ревьюера</b></font>\n",
    "\n",
    "Ошибка: Категорически не согласен с удалением пользователей, попавших в оба теста. Такое бывает в реальной практике, что пользователи пересекаются. Это нехорошо, но не так уж и критично. Если посмотреть на долю данных пользователей, то такой объем данных выкидывать рискованно. Уж очень много данных ты отрезаешь. На практике это нормальная ситуация, что один юзер участвует сразу в нескольких экспериментах. Тут важно чтобы метки были сбалансированы: т.е. чтобы в каждой группе нашего теста было одинаковое соотношение меток другого теста. Так результаты нашего теста не искажаются. \n",
    "\n",
    "</div>"
   ]
  },
  {
   "cell_type": "markdown",
   "metadata": {},
   "source": [
    "<div class=\"alert alert-info\">\n",
    "<font size=\"2\"><b>Комментарий студента</b></font>\n",
    "    \n",
    "Спасибо! Исправила.\n",
    "      \n",
    "Мне, конечно, кажется, что тут все-таки зависит от контекста изменений. Если мы, например, в каждом тесте изменили по одной кнопки в приложении, мы не поймем, что именно повлияло на изменение поведения пользователя в приложении: измененная кнопка из теста 1 или измененная кнопка из теста 2.\n",
    "</div>"
   ]
  },
  {
   "cell_type": "markdown",
   "metadata": {},
   "source": [
    "<div class=\"alert alert-success\">\n",
    "<font size=\"5\"><b>Комментарий ревьюера 2</b></font>\n",
    "\n",
    "Успех: В таком случае для лишней страховки стоит удалить лишь пользователей группы В конкурирующего теста, ведь на пользователей группы А изменения не внедряются. \n",
    "\n",
    "</div>"
   ]
  },
  {
   "cell_type": "code",
   "execution_count": 19,
   "metadata": {
    "scrolled": false
   },
   "outputs": [
    {
     "data": {
      "text/html": [
       "<div>\n",
       "<style scoped>\n",
       "    .dataframe tbody tr th:only-of-type {\n",
       "        vertical-align: middle;\n",
       "    }\n",
       "\n",
       "    .dataframe tbody tr th {\n",
       "        vertical-align: top;\n",
       "    }\n",
       "\n",
       "    .dataframe thead th {\n",
       "        text-align: right;\n",
       "    }\n",
       "</style>\n",
       "<table border=\"1\" class=\"dataframe\">\n",
       "  <thead>\n",
       "    <tr style=\"text-align: right;\">\n",
       "      <th></th>\n",
       "      <th>group</th>\n",
       "    </tr>\n",
       "    <tr>\n",
       "      <th>user_id</th>\n",
       "      <th></th>\n",
       "    </tr>\n",
       "  </thead>\n",
       "  <tbody>\n",
       "    <tr>\n",
       "      <th>001064FEAAB631A1</th>\n",
       "      <td>1</td>\n",
       "    </tr>\n",
       "    <tr>\n",
       "      <th>ABABE1BAB6C77540</th>\n",
       "      <td>1</td>\n",
       "    </tr>\n",
       "    <tr>\n",
       "      <th>AB0D9A9D709F476A</th>\n",
       "      <td>1</td>\n",
       "    </tr>\n",
       "    <tr>\n",
       "      <th>AB30C03FCEC72466</th>\n",
       "      <td>1</td>\n",
       "    </tr>\n",
       "    <tr>\n",
       "      <th>AB4EA096BF581CFB</th>\n",
       "      <td>1</td>\n",
       "    </tr>\n",
       "  </tbody>\n",
       "</table>\n",
       "</div>"
      ],
      "text/plain": [
       "                  group\n",
       "user_id                \n",
       "001064FEAAB631A1      1\n",
       "ABABE1BAB6C77540      1\n",
       "AB0D9A9D709F476A      1\n",
       "AB30C03FCEC72466      1\n",
       "AB4EA096BF581CFB      1"
      ]
     },
     "execution_count": 19,
     "metadata": {},
     "output_type": "execute_result"
    }
   ],
   "source": [
    "df_new_3.groupby('user_id').agg({'group':'nunique'}).sort_values(by='group', ascending=False).head()"
   ]
  },
  {
   "cell_type": "markdown",
   "metadata": {},
   "source": [
    "Пользователей, которые попали в обе группы (А и B) отсутствуют."
   ]
  },
  {
   "cell_type": "markdown",
   "metadata": {},
   "source": [
    "<div class=\"alert alert-success\">\n",
    "<font size=\"5\"><b>Комментарий ревьюера</b></font>\n",
    "\n",
    "Успех: Важное наблюдение. \n",
    "\n",
    "</div>"
   ]
  },
  {
   "cell_type": "code",
   "execution_count": 20,
   "metadata": {},
   "outputs": [
    {
     "data": {
      "text/html": [
       "<div>\n",
       "<style scoped>\n",
       "    .dataframe tbody tr th:only-of-type {\n",
       "        vertical-align: middle;\n",
       "    }\n",
       "\n",
       "    .dataframe tbody tr th {\n",
       "        vertical-align: top;\n",
       "    }\n",
       "\n",
       "    .dataframe thead th {\n",
       "        text-align: right;\n",
       "    }\n",
       "</style>\n",
       "<table border=\"1\" class=\"dataframe\">\n",
       "  <thead>\n",
       "    <tr style=\"text-align: right;\">\n",
       "      <th></th>\n",
       "      <th>group</th>\n",
       "      <th>user_id</th>\n",
       "    </tr>\n",
       "  </thead>\n",
       "  <tbody>\n",
       "    <tr>\n",
       "      <th>0</th>\n",
       "      <td>A</td>\n",
       "      <td>2604</td>\n",
       "    </tr>\n",
       "    <tr>\n",
       "      <th>1</th>\n",
       "      <td>B</td>\n",
       "      <td>877</td>\n",
       "    </tr>\n",
       "  </tbody>\n",
       "</table>\n",
       "</div>"
      ],
      "text/plain": [
       "  group  user_id\n",
       "0     A     2604\n",
       "1     B      877"
      ]
     },
     "execution_count": 20,
     "metadata": {},
     "output_type": "execute_result"
    }
   ],
   "source": [
    "users_groups = df_new_3.groupby('group').agg({'user_id':'nunique'}).reset_index()\n",
    "users_groups "
   ]
  },
  {
   "cell_type": "code",
   "execution_count": 21,
   "metadata": {},
   "outputs": [
    {
     "data": {
      "text/plain": [
       "0    0.748061\n",
       "1    0.251939\n",
       "Name: user_id, dtype: float64"
      ]
     },
     "execution_count": 21,
     "metadata": {},
     "output_type": "execute_result"
    }
   ],
   "source": [
    "users_groups['user_id'] / users_groups['user_id'].sum()"
   ]
  },
  {
   "cell_type": "markdown",
   "metadata": {},
   "source": [
    "Пользователи между группами распределены неравномерно. В процентном соотношении группа А состаляет 74,8%, группа B 25,2% при необходимом процентном соотношении для корректного А-B теста 50/50 %."
   ]
  },
  {
   "cell_type": "code",
   "execution_count": 22,
   "metadata": {},
   "outputs": [
    {
     "data": {
      "text/plain": [
       "3481"
      ]
     },
     "execution_count": 22,
     "metadata": {},
     "output_type": "execute_result"
    }
   ],
   "source": [
    "# общее количество участников теста\n",
    "df_new_3['user_id'].nunique()"
   ]
  },
  {
   "cell_type": "markdown",
   "metadata": {},
   "source": [
    "Таким образом, общее количество участников теста составило 3481 при необходимых 6000."
   ]
  },
  {
   "cell_type": "code",
   "execution_count": 23,
   "metadata": {},
   "outputs": [
    {
     "data": {
      "text/plain": [
       "8.22153991497402"
      ]
     },
     "execution_count": 23,
     "metadata": {},
     "output_type": "execute_result"
    }
   ],
   "source": [
    "# проверим условие о том, что аудитория теста - это 15% новых пользователей из региона EU\n",
    "df_new_3['user_id'].nunique() / ab_new_users_1[ab_new_users['region'] == 'EU']['user_id'].nunique() * 100"
   ]
  },
  {
   "cell_type": "markdown",
   "metadata": {},
   "source": [
    "По данному параметру также есть несоответсвие ТЗ."
   ]
  },
  {
   "cell_type": "code",
   "execution_count": 24,
   "metadata": {},
   "outputs": [
    {
     "data": {
      "text/plain": [
       "'0.000'"
      ]
     },
     "metadata": {},
     "output_type": "display_data"
    },
    {
     "data": {
      "text/plain": [
       "'Разница между долями статистически значима'"
      ]
     },
     "metadata": {},
     "output_type": "display_data"
    }
   ],
   "source": [
    "# проверим, значима ли получаемая разница между долями\n",
    "count = df_new_3['user_id'].nunique()\n",
    "nobs = (ab_new_users_1[ab_new_users['region'] == 'EU']['user_id'].nunique())*0.15\n",
    "value = 0.05\n",
    "stat, pval = proportions_ztest(count, nobs, value)\n",
    "display('{0:0.3f}'.format(pval))\n",
    "\n",
    "if pval < value:\n",
    "    display('Разница между долями статистически значима')\n",
    "else:\n",
    "    display('Статистически значимая разница между долями отсутствует')"
   ]
  },
  {
   "cell_type": "markdown",
   "metadata": {},
   "source": [
    "<div class=\"alert alert-warning\">\n",
    "<font size=\"5\"><b>Комментарий ревьюера</b></font>\n",
    "\n",
    "Совет: Рассчитай долю новых пользователей повторно после исправления помарок выше. После нахождения доли хорошо бы проверить насколько получаемая разница статистически значима. В этом тебе поможет метод https://www.statsmodels.org/stable/generated/statsmodels.stats.proportion.proportions_ztest.html.\n",
    "    \n",
    "</div>"
   ]
  },
  {
   "cell_type": "markdown",
   "metadata": {},
   "source": [
    "<div class=\"alert alert-info\">\n",
    "<font size=\"2\"><b>Комментарий студента</b></font>\n",
    "    \n",
    "Исправила.\n",
    "\n",
    "Добавила проверку. Проверь, пожалуйста, правильно ли я поняла, какие именно доли надо сравнить.\n",
    "</div>"
   ]
  },
  {
   "cell_type": "code",
   "execution_count": 39,
   "metadata": {},
   "outputs": [
    {
     "data": {
      "text/plain": [
       "'0.000'"
      ]
     },
     "metadata": {},
     "output_type": "display_data"
    },
    {
     "data": {
      "text/plain": [
       "'Разница между долями статистически значима'"
      ]
     },
     "metadata": {},
     "output_type": "display_data"
    }
   ],
   "source": [
    "# Код ревьюера\n",
    "count = df_new_3['user_id'].nunique()\n",
    "nobs = (ab_new_users_1[ab_new_users['region'] == 'EU']['user_id'].nunique())\n",
    "value = 0.15\n",
    "stat, pval = proportions_ztest(count, nobs, value)\n",
    "display('{0:0.3f}'.format(pval))\n",
    "\n",
    "if pval < value:\n",
    "    display('Разница между долями статистически значима')\n",
    "else:\n",
    "    display('Статистически значимая разница между долями отсутствует')"
   ]
  },
  {
   "cell_type": "markdown",
   "metadata": {},
   "source": [
    "<div class=\"alert alert-success\">\n",
    "<font size=\"5\"><b>Комментарий ревьюера 2</b></font>\n",
    "\n",
    "Успех: Не совсем правильно. Выше привел исправленный вариант. Смотри, в value передается не alpha, а та доля, с которой мы сравниваем нашу долю. count/nobs - у тебя рассчитано это соотношение в ячейке 23. Именно эту долю мы и сравниваем с 0.15.\n",
    "\n",
    "</div>"
   ]
  },
  {
   "cell_type": "markdown",
   "metadata": {},
   "source": [
    "### Вывод"
   ]
  },
  {
   "cell_type": "markdown",
   "metadata": {},
   "source": [
    "Согласно проведенной оценке можно сделать вывод, что тест не корректен, это обосновывают следующие критические несоответсвия ТЗ:\n",
    "\n",
    "1. По ТЗ нам для теста необходимы действия новых пользователей в период с 7 декабря 2020 по 4 января 2021 года, а мы имеем только с 7 по 30 декабря 2020 года.\n",
    "\n",
    "2. Тест необходимо было запустить на новых пользователей только из региона EU, а тест был запущен еще и на 3 других регоиона.\n",
    "\n",
    "3. Период проведения теста в рассматриваемом регионе EU пересекается с 1 маркетинговой активностью, что может сильно искажать поведение пользователей.\n",
    "\n",
    "4. Тест целиком проведен в преддверии Нового года, в такие периоды поьзователи ведут себя аномально, данные об их действиях не подходят для анализа.\n",
    "\n",
    "5. Пользователи между группами распределены неравномерно. В процентном соотношении группа А состаляет 74,8%, группа B 25,2%. Для для корректного А-B теста необходимо соотношение 50/50 %.\n",
    "\n",
    "6. Аудитория состваляет 8,2% новых пользователей из региона EU вместо необходимых 15%.\n",
    "\n",
    "7. Количество участников теста 3481 вместо необходимых 6000."
   ]
  },
  {
   "cell_type": "markdown",
   "metadata": {},
   "source": [
    "<div class=\"alert alert-danger\">\n",
    "<font size=\"5\"><b>Комментарий ревьюера</b></font>\n",
    "\n",
    "Ошибка: Т.к. мы сами не планировали тест и не следили за его проведением, нам прежде всего нужно проверить адекватность его проведения. Надо проверить, была ли аудитория теста сформирована правильно - речь идет про регион новых пользователей. Посмотри на распределение пользователей нашего теста по регионам.\n",
    "   \n",
    "</div>"
   ]
  },
  {
   "cell_type": "markdown",
   "metadata": {},
   "source": [
    "<div class=\"alert alert-info\">\n",
    "<font size=\"2\"><b>Комментарий студента</b></font>\n",
    "    \n",
    "Спасибо! Добавила изучение регионов в начале п.3.3 и в вывод.\n",
    "\n",
    "</div>"
   ]
  },
  {
   "cell_type": "markdown",
   "metadata": {},
   "source": [
    "<div class=\"alert alert-success\">\n",
    "<font size=\"5\"><b>Комментарий ревьюера 2</b></font>\n",
    "\n",
    "Успех: Увидел. \n",
    "\n",
    "</div>"
   ]
  },
  {
   "cell_type": "markdown",
   "metadata": {},
   "source": [
    "## Исследовательский анализ данных"
   ]
  },
  {
   "cell_type": "markdown",
   "metadata": {},
   "source": [
    "### Количество событий на пользователя"
   ]
  },
  {
   "cell_type": "code",
   "execution_count": 26,
   "metadata": {},
   "outputs": [
    {
     "data": {
      "text/plain": [
       "4"
      ]
     },
     "execution_count": 26,
     "metadata": {},
     "output_type": "execute_result"
    }
   ],
   "source": [
    "# найдем количество событий в логе\n",
    "df_new_3['event_name'].nunique()"
   ]
  },
  {
   "cell_type": "code",
   "execution_count": 27,
   "metadata": {
    "scrolled": false
   },
   "outputs": [
    {
     "data": {
      "text/html": [
       "<div>\n",
       "<style scoped>\n",
       "    .dataframe tbody tr th:only-of-type {\n",
       "        vertical-align: middle;\n",
       "    }\n",
       "\n",
       "    .dataframe tbody tr th {\n",
       "        vertical-align: top;\n",
       "    }\n",
       "\n",
       "    .dataframe thead th {\n",
       "        text-align: right;\n",
       "    }\n",
       "</style>\n",
       "<table border=\"1\" class=\"dataframe\">\n",
       "  <thead>\n",
       "    <tr style=\"text-align: right;\">\n",
       "      <th></th>\n",
       "      <th>user_id</th>\n",
       "      <th>group</th>\n",
       "      <th>event_name</th>\n",
       "    </tr>\n",
       "  </thead>\n",
       "  <tbody>\n",
       "    <tr>\n",
       "      <th>0</th>\n",
       "      <td>001064FEAAB631A1</td>\n",
       "      <td>B</td>\n",
       "      <td>6</td>\n",
       "    </tr>\n",
       "    <tr>\n",
       "      <th>1</th>\n",
       "      <td>0010A1C096941592</td>\n",
       "      <td>A</td>\n",
       "      <td>12</td>\n",
       "    </tr>\n",
       "    <tr>\n",
       "      <th>2</th>\n",
       "      <td>00341D8401F0F665</td>\n",
       "      <td>A</td>\n",
       "      <td>2</td>\n",
       "    </tr>\n",
       "    <tr>\n",
       "      <th>3</th>\n",
       "      <td>003DF44D7589BBD4</td>\n",
       "      <td>A</td>\n",
       "      <td>15</td>\n",
       "    </tr>\n",
       "    <tr>\n",
       "      <th>4</th>\n",
       "      <td>00505E15A9D81546</td>\n",
       "      <td>A</td>\n",
       "      <td>5</td>\n",
       "    </tr>\n",
       "  </tbody>\n",
       "</table>\n",
       "</div>"
      ],
      "text/plain": [
       "            user_id group  event_name\n",
       "0  001064FEAAB631A1     B           6\n",
       "1  0010A1C096941592     A          12\n",
       "2  00341D8401F0F665     A           2\n",
       "3  003DF44D7589BBD4     A          15\n",
       "4  00505E15A9D81546     A           5"
      ]
     },
     "execution_count": 27,
     "metadata": {},
     "output_type": "execute_result"
    }
   ],
   "source": [
    "df_events = df_new_3.groupby(['user_id', 'group']).agg({'event_name':'count'}).reset_index()\n",
    "df_events.head()"
   ]
  },
  {
   "cell_type": "code",
   "execution_count": 28,
   "metadata": {},
   "outputs": [
    {
     "data": {
      "text/html": [
       "<div>\n",
       "<style scoped>\n",
       "    .dataframe tbody tr th:only-of-type {\n",
       "        vertical-align: middle;\n",
       "    }\n",
       "\n",
       "    .dataframe tbody tr th {\n",
       "        vertical-align: top;\n",
       "    }\n",
       "\n",
       "    .dataframe thead th {\n",
       "        text-align: right;\n",
       "    }\n",
       "</style>\n",
       "<table border=\"1\" class=\"dataframe\">\n",
       "  <thead>\n",
       "    <tr style=\"text-align: right;\">\n",
       "      <th></th>\n",
       "      <th></th>\n",
       "      <th>user_id</th>\n",
       "    </tr>\n",
       "    <tr>\n",
       "      <th>event_name</th>\n",
       "      <th>group</th>\n",
       "      <th></th>\n",
       "    </tr>\n",
       "  </thead>\n",
       "  <tbody>\n",
       "    <tr>\n",
       "      <th rowspan=\"2\" valign=\"top\">1</th>\n",
       "      <th>A</th>\n",
       "      <td>35</td>\n",
       "    </tr>\n",
       "    <tr>\n",
       "      <th>B</th>\n",
       "      <td>22</td>\n",
       "    </tr>\n",
       "    <tr>\n",
       "      <th rowspan=\"2\" valign=\"top\">2</th>\n",
       "      <th>A</th>\n",
       "      <td>210</td>\n",
       "    </tr>\n",
       "    <tr>\n",
       "      <th>B</th>\n",
       "      <td>125</td>\n",
       "    </tr>\n",
       "    <tr>\n",
       "      <th>3</th>\n",
       "      <th>A</th>\n",
       "      <td>236</td>\n",
       "    </tr>\n",
       "  </tbody>\n",
       "</table>\n",
       "</div>"
      ],
      "text/plain": [
       "                  user_id\n",
       "event_name group         \n",
       "1          A           35\n",
       "           B           22\n",
       "2          A          210\n",
       "           B          125\n",
       "3          A          236"
      ]
     },
     "execution_count": 28,
     "metadata": {},
     "output_type": "execute_result"
    }
   ],
   "source": [
    "df_events.groupby(['event_name','group']).agg({'user_id':'count'}).head()"
   ]
  },
  {
   "cell_type": "code",
   "execution_count": 29,
   "metadata": {},
   "outputs": [
    {
     "data": {
      "image/png": "[encoded data removed]",
      "text/plain": [
       "<Figure size 864x504 with 1 Axes>"
      ]
     },
     "metadata": {
      "needs_background": "light"
     },
     "output_type": "display_data"
    }
   ],
   "source": [
    "plt.figure(figsize=(12, 7))\n",
    "ax = df_events.groupby(['event_name','group']).agg({'user_id':'count'}).reset_index()\n",
    "sns.barplot(x='event_name', y='user_id', hue='group', data=ax)\n",
    "plt.title('Распределение количества событий на пользователя в выборках')\n",
    "plt.xlabel('Кол-во событий')\n",
    "plt.ylabel('Кол-во пользователей')\n",
    "plt.show()"
   ]
  },
  {
   "cell_type": "markdown",
   "metadata": {},
   "source": [
    "Количество событий на пользователя в выборках распредеделены схоже, а именно, в обеих группах преобладают пользователи со средним количеством 4 и 6 событий на пользователя. Провалы средних значений мы также видим в схожих местах. \n",
    "\n",
    "Из-за неравномерного разделения количества пользователей на группы, количество пользователей для каждого количества событий в группе А сильно больше."
   ]
  },
  {
   "cell_type": "code",
   "execution_count": 30,
   "metadata": {},
   "outputs": [
    {
     "name": "stdout",
     "output_type": "stream",
     "text": [
      "p-значение: 5.641372898119324e-22\n"
     ]
    },
    {
     "data": {
      "text/plain": [
       "'Разница между средними статистически значима'"
      ]
     },
     "metadata": {},
     "output_type": "display_data"
    }
   ],
   "source": [
    "sample_1 = df_events[df_events['group'] == 'A']['event_name']\n",
    "sample_2 = df_events[df_events['group'] == 'B']['event_name']\n",
    "\n",
    "alpha = 0.05 # критический уровень статистической значимости\n",
    "# если p-value окажется меньше него - отвергнем гипотезу\n",
    "\n",
    "results = st.ttest_ind(\n",
    "    sample_1, \n",
    "    sample_2)\n",
    "\n",
    "print('p-значение:', results.pvalue)\n",
    "\n",
    "if results.pvalue < alpha:\n",
    "    display('Разница между средними статистически значима')\n",
    "else:\n",
    "    display('Статистически значимая разница между средними отсутствует')"
   ]
  },
  {
   "cell_type": "markdown",
   "metadata": {},
   "source": [
    "<div class=\"alert alert-success\">\n",
    "<font size=\"5\"><b>Комментарий ревьюера</b></font>\n",
    "\n",
    "Успех: Будет здорово, если ты проведешь стат. тест на равенство среднего числа событий по группам.\n",
    "\n",
    "</div>"
   ]
  },
  {
   "cell_type": "markdown",
   "metadata": {},
   "source": [
    "<div class=\"alert alert-info\">\n",
    "<font size=\"2\"><b>Комментарий студента</b></font>\n",
    "    \n",
    "Добавила.\n",
    "\n",
    "</div>"
   ]
  },
  {
   "cell_type": "markdown",
   "metadata": {},
   "source": [
    "<div class=\"alert alert-success\">\n",
    "<font size=\"5\"><b>Комментарий ревьюера 2</b></font>\n",
    "\n",
    "Успех: Все верно!\n",
    "\n",
    "</div>"
   ]
  },
  {
   "cell_type": "markdown",
   "metadata": {},
   "source": [
    "### Число событий в выборках по дням"
   ]
  },
  {
   "cell_type": "code",
   "execution_count": 31,
   "metadata": {},
   "outputs": [
    {
     "data": {
      "image/png": "[encoded data removed]",
      "text/plain": [
       "<Figure size 864x504 with 1 Axes>"
      ]
     },
     "metadata": {
      "needs_background": "light"
     },
     "output_type": "display_data"
    }
   ],
   "source": [
    "plt.figure(figsize=(12, 7))\n",
    "ax = df_new_3.groupby(['event_dt', 'group'])['user_id'].count().reset_index()\n",
    "sns.barplot(x='event_dt', y='user_id', hue='group', data=ax)\n",
    "plt.title('Количество событий в выборках по дням')\n",
    "plt.xlabel('Дата')\n",
    "plt.ylabel('Кол-во пользователей')\n",
    "plt.xticks(rotation=45) \n",
    "plt.show()"
   ]
  },
  {
   "cell_type": "markdown",
   "metadata": {},
   "source": [
    "Число событий в выборках по дням распределено неравномерно. В группе А мы видим сильный всплекс 14 декабря 2020 г, а также 20 декабря 2020 г, возможно это вызвано тех.сбоем. Далее тренд на снижение в группах схож.\n",
    "\n",
    "Интересно, что на дату начала маркетинговой активности  всплеска на графике нет."
   ]
  },
  {
   "cell_type": "markdown",
   "metadata": {},
   "source": [
    "<div class=\"alert alert-success\">\n",
    "<font size=\"5\"><b>Комментарий ревьюера</b></font>\n",
    "\n",
    "Успех: 14 числа по группе А мы видим резкий рост, который может быть связан со сбоем. Об этом стоит сообщить в выводах.\n",
    "\n",
    "</div>"
   ]
  },
  {
   "cell_type": "markdown",
   "metadata": {},
   "source": [
    "### Конверсия"
   ]
  },
  {
   "cell_type": "code",
   "execution_count": 32,
   "metadata": {},
   "outputs": [
    {
     "data": {
      "text/plain": [
       "array(['product_page', 'login', 'purchase', 'product_cart'], dtype=object)"
      ]
     },
     "execution_count": 32,
     "metadata": {},
     "output_type": "execute_result"
    }
   ],
   "source": [
    "df_new_3['event_name'].unique()"
   ]
  },
  {
   "cell_type": "code",
   "execution_count": 33,
   "metadata": {
    "scrolled": false
   },
   "outputs": [
    {
     "data": {
      "text/html": [
       "<div>\n",
       "<style scoped>\n",
       "    .dataframe tbody tr th:only-of-type {\n",
       "        vertical-align: middle;\n",
       "    }\n",
       "\n",
       "    .dataframe tbody tr th {\n",
       "        vertical-align: top;\n",
       "    }\n",
       "\n",
       "    .dataframe thead th {\n",
       "        text-align: right;\n",
       "    }\n",
       "</style>\n",
       "<table border=\"1\" class=\"dataframe\">\n",
       "  <thead>\n",
       "    <tr style=\"text-align: right;\">\n",
       "      <th></th>\n",
       "      <th>event_name</th>\n",
       "      <th>group</th>\n",
       "      <th>user_id</th>\n",
       "      <th>conversion_A</th>\n",
       "      <th>conversion_B</th>\n",
       "    </tr>\n",
       "  </thead>\n",
       "  <tbody>\n",
       "    <tr>\n",
       "      <th>0</th>\n",
       "      <td>login</td>\n",
       "      <td>A</td>\n",
       "      <td>2604</td>\n",
       "      <td>100.0</td>\n",
       "      <td>NaN</td>\n",
       "    </tr>\n",
       "    <tr>\n",
       "      <th>1</th>\n",
       "      <td>login</td>\n",
       "      <td>B</td>\n",
       "      <td>876</td>\n",
       "      <td>NaN</td>\n",
       "      <td>100.0</td>\n",
       "    </tr>\n",
       "    <tr>\n",
       "      <th>2</th>\n",
       "      <td>product_cart</td>\n",
       "      <td>A</td>\n",
       "      <td>782</td>\n",
       "      <td>30.0</td>\n",
       "      <td>NaN</td>\n",
       "    </tr>\n",
       "    <tr>\n",
       "      <th>3</th>\n",
       "      <td>product_cart</td>\n",
       "      <td>B</td>\n",
       "      <td>244</td>\n",
       "      <td>NaN</td>\n",
       "      <td>27.9</td>\n",
       "    </tr>\n",
       "    <tr>\n",
       "      <th>4</th>\n",
       "      <td>product_page</td>\n",
       "      <td>A</td>\n",
       "      <td>1685</td>\n",
       "      <td>64.7</td>\n",
       "      <td>NaN</td>\n",
       "    </tr>\n",
       "    <tr>\n",
       "      <th>5</th>\n",
       "      <td>product_page</td>\n",
       "      <td>B</td>\n",
       "      <td>493</td>\n",
       "      <td>NaN</td>\n",
       "      <td>56.3</td>\n",
       "    </tr>\n",
       "    <tr>\n",
       "      <th>6</th>\n",
       "      <td>purchase</td>\n",
       "      <td>A</td>\n",
       "      <td>833</td>\n",
       "      <td>32.0</td>\n",
       "      <td>NaN</td>\n",
       "    </tr>\n",
       "    <tr>\n",
       "      <th>7</th>\n",
       "      <td>purchase</td>\n",
       "      <td>B</td>\n",
       "      <td>249</td>\n",
       "      <td>NaN</td>\n",
       "      <td>28.4</td>\n",
       "    </tr>\n",
       "  </tbody>\n",
       "</table>\n",
       "</div>"
      ],
      "text/plain": [
       "     event_name group  user_id  conversion_A  conversion_B\n",
       "0         login     A     2604         100.0           NaN\n",
       "1         login     B      876           NaN         100.0\n",
       "2  product_cart     A      782          30.0           NaN\n",
       "3  product_cart     B      244           NaN          27.9\n",
       "4  product_page     A     1685          64.7           NaN\n",
       "5  product_page     B      493           NaN          56.3\n",
       "6      purchase     A      833          32.0           NaN\n",
       "7      purchase     B      249           NaN          28.4"
      ]
     },
     "execution_count": 33,
     "metadata": {},
     "output_type": "execute_result"
    }
   ],
   "source": [
    "events = df_new_3.groupby(['event_name', 'group']).nunique().reset_index()\n",
    "events = events[['event_name', 'group', 'user_id']]\n",
    "events['conversion_A'] = (events[events['group'] == 'A']['user_id'] / events[events['group'] == 'A']['user_id'].values[0] * 100).round(1)\n",
    "events['conversion_B'] = (events[events['group'] == 'B']['user_id'] / events[events['group'] == 'B']['user_id'].values[0] * 100).round(1)\n",
    "events"
   ]
  },
  {
   "cell_type": "code",
   "execution_count": 34,
   "metadata": {},
   "outputs": [],
   "source": [
    "# скорретируем порядок этапов покупки\n",
    "new_index = [0, 1, 4, 5, 2, 3, 6, 7]\n",
    "events = events.reindex(new_index) "
   ]
  },
  {
   "cell_type": "code",
   "execution_count": 35,
   "metadata": {},
   "outputs": [
    {
     "data": {
      "image/png": "[encoded data removed]",
      "text/plain": [
       "<Figure size 720x360 with 1 Axes>"
      ]
     },
     "metadata": {
      "needs_background": "light"
     },
     "output_type": "display_data"
    }
   ],
   "source": [
    "plt.figure(figsize=(10, 5))\n",
    "ax = events\n",
    "sns.barplot(x='event_name', y='conversion_A', hue='group', data=ax)\n",
    "sns.barplot(x='event_name', y='conversion_B', hue='group', data=ax)\n",
    "plt.title('Изменение конверсии в воронке в выборках на разных этапах')\n",
    "plt.xlabel('Событие')\n",
    "plt.ylabel('Конверсия')\n",
    "plt.xticks(rotation=45) \n",
    "plt.show()"
   ]
  },
  {
   "cell_type": "markdown",
   "metadata": {},
   "source": [
    "Конверсия в воронке в выборках на разных этапах имеет схожий характер. \n",
    "\n",
    "По ТЗ ожидаемый эффект: за 14 дней с момента регистрации в системе пользователи покажут улучшение каждой метрики не менее, чем на 10%.\n",
    "\n",
    "Конверсия группы B на каждом этапе показывает ухудшение относительно группы А."
   ]
  },
  {
   "cell_type": "markdown",
   "metadata": {},
   "source": [
    "<div class=\"alert alert-danger\">\n",
    "<font size=\"5\"><b>Комментарий ревьюера</b></font>\n",
    "\n",
    "Ошибка: Для визуализации пути пользователей давай все же расставим шаги по своим местам. Реализуй это. Учти, что оплата должна быть заключительным этапом воронки, даже если число таких событий больше, чем у корзины. В смене порядка строк тебе поможет метод reindex. \n",
    "\n",
    "</div>"
   ]
  },
  {
   "cell_type": "markdown",
   "metadata": {},
   "source": [
    "<div class=\"alert alert-info\">\n",
    "<font size=\"2\"><b>Комментарий студента</b></font>\n",
    "\n",
    "Спасибо, изменила. Не знала про такой метод)\n",
    "    \n",
    "</div>"
   ]
  },
  {
   "cell_type": "markdown",
   "metadata": {},
   "source": [
    "<div class=\"alert alert-success\">\n",
    "<font size=\"5\"><b>Комментарий ревьюера 2</b></font>\n",
    "\n",
    "Успех: Отличная реализация. Молодец, что разобралась. \n",
    "\n",
    "</div>"
   ]
  },
  {
   "cell_type": "markdown",
   "metadata": {},
   "source": [
    "### Вывод"
   ]
  },
  {
   "cell_type": "markdown",
   "metadata": {},
   "source": [
    "- Количество событий на пользователя в выборках распредеделены схоже, а именно, в обеих группах преобладают пользователи со средним количеством 4 и 6 событий на пользователя. Провалы средних значений мы также видим в схожих местах.\n",
    "Из-за неравномерного разделения количества пользователей на группы, количество пользователей для каждого количества событий в группе А сильно больше.\n",
    "\n",
    "\n",
    "- Число событий в выборках по дням распределено неравномерно. В группе А мы видим сильный всплекс 14 декабря 2020 г, а также 20 декабря 2020 г. Далее тренд на снижение в группах схож.\n",
    "Интересно, что на дату начала маркетинговой активности  всплеска на графике нет. Необходимо проверить наличие технических сбоев в даты необосновано больших всплесков.\n",
    "\n",
    "\n",
    "- Конверсия в воронке в выборках на разных этапах имеет схожий характер.\n",
    "По ТЗ ожидаемый эффект: за 14 дней с момента регистрации в системе пользователи покажут улучшение каждой метрики не менее, чем на 10%.\n",
    "Конверсия группы B на каждом этапе показывает ухудшение относительно группы А.\n",
    "\n",
    "Прежде чем приступать к A/B-тестированию надо учесть следующие особенности:\n",
    "- Количество пользователей на шаге \"покупка\" больше, чем на шаге \"корзина\" из-за того, что некоторые пользователи совершаю быструю покупку одного товара без перехода к корзине.\n",
    "- Конверсия на каждом шаге показала ухудшение"
   ]
  },
  {
   "cell_type": "markdown",
   "metadata": {},
   "source": [
    "<div class=\"alert alert-success\">\n",
    "<font size=\"5\"><b>Комментарий ревьюера</b></font>\n",
    "\n",
    "Успех: Здорово, что ты не забываешь делать выводы по каждому пункту анализа. \n",
    "\n",
    "</div>"
   ]
  },
  {
   "cell_type": "markdown",
   "metadata": {},
   "source": [
    "## Результаты A/B-тестирования"
   ]
  },
  {
   "cell_type": "markdown",
   "metadata": {},
   "source": [
    "Сформулируем гипотезы:\n",
    "- Нулевая гипотеза: статистически значимой разницы между долями нет\n",
    "- Альтернативная гипотеза: нет оснований считать, что статистически значимая разница между долями отсутствует\n",
    "\n",
    "Для статической проверки равенства долей будем использовать z-test."
   ]
  },
  {
   "cell_type": "code",
   "execution_count": 36,
   "metadata": {},
   "outputs": [
    {
     "data": {
      "text/html": [
       "<div>\n",
       "<style scoped>\n",
       "    .dataframe tbody tr th:only-of-type {\n",
       "        vertical-align: middle;\n",
       "    }\n",
       "\n",
       "    .dataframe tbody tr th {\n",
       "        vertical-align: top;\n",
       "    }\n",
       "\n",
       "    .dataframe thead th {\n",
       "        text-align: right;\n",
       "    }\n",
       "</style>\n",
       "<table border=\"1\" class=\"dataframe\">\n",
       "  <thead>\n",
       "    <tr style=\"text-align: right;\">\n",
       "      <th></th>\n",
       "      <th>user_id</th>\n",
       "    </tr>\n",
       "    <tr>\n",
       "      <th>group</th>\n",
       "      <th></th>\n",
       "    </tr>\n",
       "  </thead>\n",
       "  <tbody>\n",
       "    <tr>\n",
       "      <th>A</th>\n",
       "      <td>2604</td>\n",
       "    </tr>\n",
       "    <tr>\n",
       "      <th>B</th>\n",
       "      <td>877</td>\n",
       "    </tr>\n",
       "  </tbody>\n",
       "</table>\n",
       "</div>"
      ],
      "text/plain": [
       "       user_id\n",
       "group         \n",
       "A         2604\n",
       "B          877"
      ]
     },
     "metadata": {},
     "output_type": "display_data"
    },
    {
     "data": {
      "text/html": [
       "<div>\n",
       "<style scoped>\n",
       "    .dataframe tbody tr th:only-of-type {\n",
       "        vertical-align: middle;\n",
       "    }\n",
       "\n",
       "    .dataframe tbody tr th {\n",
       "        vertical-align: top;\n",
       "    }\n",
       "\n",
       "    .dataframe thead th {\n",
       "        text-align: right;\n",
       "    }\n",
       "</style>\n",
       "<table border=\"1\" class=\"dataframe\">\n",
       "  <thead>\n",
       "    <tr style=\"text-align: right;\">\n",
       "      <th>group</th>\n",
       "      <th>A</th>\n",
       "      <th>B</th>\n",
       "    </tr>\n",
       "    <tr>\n",
       "      <th>event_name</th>\n",
       "      <th></th>\n",
       "      <th></th>\n",
       "    </tr>\n",
       "  </thead>\n",
       "  <tbody>\n",
       "    <tr>\n",
       "      <th>login</th>\n",
       "      <td>2604</td>\n",
       "      <td>876</td>\n",
       "    </tr>\n",
       "    <tr>\n",
       "      <th>product_cart</th>\n",
       "      <td>782</td>\n",
       "      <td>244</td>\n",
       "    </tr>\n",
       "    <tr>\n",
       "      <th>product_page</th>\n",
       "      <td>1685</td>\n",
       "      <td>493</td>\n",
       "    </tr>\n",
       "    <tr>\n",
       "      <th>purchase</th>\n",
       "      <td>833</td>\n",
       "      <td>249</td>\n",
       "    </tr>\n",
       "  </tbody>\n",
       "</table>\n",
       "</div>"
      ],
      "text/plain": [
       "group            A    B\n",
       "event_name             \n",
       "login         2604  876\n",
       "product_cart   782  244\n",
       "product_page  1685  493\n",
       "purchase       833  249"
      ]
     },
     "metadata": {},
     "output_type": "display_data"
    }
   ],
   "source": [
    "# посмотрим, сколько пользователей в каждой группе эксперимента\n",
    "trials = df_new_3.groupby('group').agg({'user_id':'nunique'})\n",
    "\n",
    "# построим воронку для каждой группы экперимента\n",
    "funnel = df_new_3.pivot_table(index='event_name', columns='group', values='user_id', aggfunc='nunique')\n",
    "display(trials)\n",
    "display(funnel)"
   ]
  },
  {
   "cell_type": "code",
   "execution_count": 37,
   "metadata": {},
   "outputs": [],
   "source": [
    "alpha = 0.05 # критический уровень статистической значимости принимаем 0.05\n",
    "# создадим функцию для проверки гипотез\n",
    "def z_test(success1, success2, trial1, trial2):\n",
    "    p1 = success1/trial1 # отношение целевых действий ко всем 1 группы\n",
    "    p2 = success2/trial2 # отношение целевых действий ко всем 2 группы\n",
    "    p_combined = (success1+success2)/(trial1+trial2)\n",
    "    difference = p1 - p2\n",
    "    z_value = difference / math.sqrt(p_combined * (1 - p_combined) * (1/trial1 + 1/trial2))\n",
    "    distr = stats.norm(0,1)\n",
    "    p_value = (1 - distr.cdf(abs(z_value))) * 2\n",
    "    #alpha = 0.05 критический уровень статистической значимости принимаем 0.05\n",
    "    return p_value\n",
    "    #if p_value < alpha:\n",
    "        #return('Отвергаем нулевую гипотезу: между группами есть значимая разница')\n",
    "    #else:\n",
    "        #return('Не получилось отвергнуть нулевую гипотезу: нет оснований считать группы разными') "
   ]
  },
  {
   "cell_type": "markdown",
   "metadata": {},
   "source": [
    "<div class=\"alert alert-success\">\n",
    "<font size=\"5\"><b>Комментарий ревьюера</b></font>\n",
    "\n",
    "Успех: Правильно, что ты создала функцию для проведения теста. Действительно, тестов проводить много, так что она не будет лишней. \n",
    "    \n",
    "Также верно, что ты работаешь с долями относительно общего числа клиентов в группах. Ранее мы выяснили, что проход по всем этапам воронки не является обязательным, так что работать нужно именно относительно общего числа клиентов. \n",
    "    \n",
    "</div>"
   ]
  },
  {
   "cell_type": "code",
   "execution_count": 38,
   "metadata": {},
   "outputs": [
    {
     "data": {
      "text/html": [
       "<div>\n",
       "<style scoped>\n",
       "    .dataframe tbody tr th:only-of-type {\n",
       "        vertical-align: middle;\n",
       "    }\n",
       "\n",
       "    .dataframe tbody tr th {\n",
       "        vertical-align: top;\n",
       "    }\n",
       "\n",
       "    .dataframe thead th {\n",
       "        text-align: right;\n",
       "    }\n",
       "</style>\n",
       "<table border=\"1\" class=\"dataframe\">\n",
       "  <thead>\n",
       "    <tr style=\"text-align: right;\">\n",
       "      <th></th>\n",
       "      <th>A</th>\n",
       "      <th>B</th>\n",
       "      <th>event_name</th>\n",
       "      <th>p-value</th>\n",
       "      <th>reject_h0</th>\n",
       "      <th>reject_h0_b</th>\n",
       "    </tr>\n",
       "  </thead>\n",
       "  <tbody>\n",
       "    <tr>\n",
       "      <th>0</th>\n",
       "      <td>A</td>\n",
       "      <td>B</td>\n",
       "      <td>login</td>\n",
       "      <td>0.084818</td>\n",
       "      <td>False</td>\n",
       "      <td>False</td>\n",
       "    </tr>\n",
       "    <tr>\n",
       "      <th>1</th>\n",
       "      <td>A</td>\n",
       "      <td>B</td>\n",
       "      <td>product_cart</td>\n",
       "      <td>0.214692</td>\n",
       "      <td>False</td>\n",
       "      <td>False</td>\n",
       "    </tr>\n",
       "    <tr>\n",
       "      <th>2</th>\n",
       "      <td>A</td>\n",
       "      <td>B</td>\n",
       "      <td>product_page</td>\n",
       "      <td>0.000007</td>\n",
       "      <td>True</td>\n",
       "      <td>True</td>\n",
       "    </tr>\n",
       "    <tr>\n",
       "      <th>3</th>\n",
       "      <td>A</td>\n",
       "      <td>B</td>\n",
       "      <td>purchase</td>\n",
       "      <td>0.046525</td>\n",
       "      <td>True</td>\n",
       "      <td>False</td>\n",
       "    </tr>\n",
       "  </tbody>\n",
       "</table>\n",
       "</div>"
      ],
      "text/plain": [
       "   A  B    event_name   p-value  reject_h0  reject_h0_b\n",
       "0  A  B         login  0.084818      False        False\n",
       "1  A  B  product_cart  0.214692      False        False\n",
       "2  A  B  product_page  0.000007       True         True\n",
       "3  A  B      purchase  0.046525       True        False"
      ]
     },
     "execution_count": 38,
     "metadata": {},
     "output_type": "execute_result"
    }
   ],
   "source": [
    "p_values = []\n",
    "\n",
    "for groups in [['A', 'B']]:\n",
    "    for event in funnel.index:\n",
    "        p = z_test(funnel.loc[event, groups[0]], funnel.loc[event, groups[1]], trials.loc[groups[0]].values[0], trials.loc[groups[1]].values[0])\n",
    "        p_values += [[groups[0], groups[1], event, p]]\n",
    "p_values = pd.DataFrame(p_values, columns = ['A', 'B', 'event_name', 'p-value'])\n",
    "\n",
    "# добавим колонку с проверкой\n",
    "p_values['reject_h0'] = p_values['p-value'] < alpha\n",
    "\n",
    "# посчитаем поправку Борферрони, чтобы скорректировать\n",
    "# критический уровень статистической значимости\n",
    "alpha = 0.05\n",
    "alpha_b = alpha / p_values.shape[0] # делим на число экспериментов\n",
    "\n",
    "p_values['reject_h0_b'] = p_values['p-value'] < alpha_b\n",
    "p_values"
   ]
  },
  {
   "cell_type": "markdown",
   "metadata": {},
   "source": [
    "Получили, что во всех случаях, как с поправкой, так и без результат одинаковый.\n",
    "\n",
    "Отвергнуть нулевую гипотезу можем только при переходе на страницу продукта, значит, на этом этапе нет оснований считать, что статистически значимая разница между долями отсутствует. \n",
    "На других этапах - статистически значимой разницы между долями нет."
   ]
  },
  {
   "cell_type": "markdown",
   "metadata": {},
   "source": [
    "<div class=\"alert alert-success\">\n",
    "<font size=\"5\"><b>Комментарий ревьюера</b></font>\n",
    "\n",
    "Успех: Тесты проведены корректно. \n",
    "    \n",
    "</div>"
   ]
  },
  {
   "cell_type": "markdown",
   "metadata": {},
   "source": [
    "## Выводы"
   ]
  },
  {
   "cell_type": "markdown",
   "metadata": {},
   "source": [
    "На этапе исследовательского анализа было определено, что конверсия на каждом шаге показала ухудшение.\n",
    "\n",
    "На этапе оценки результатов A/B-тестирования мы получили, что статистически значимая разница между долями есть только на этапе перехода на страницу продукта.\n",
    "\n",
    "Но какие-либо оценки по данным результатам делать некорректно, т.к. тест не корректен из-за следующих несоотвестсвий ТЗ, которые в том числе противоречат базовым принципам проведения A/B-текстирования:\n",
    "\n",
    "1. По ТЗ нам для теста необходимы действия новых пользователей в период с 7 декабря 2020 по 4 января 2021 года, а мы имеем только с 7 по 30 декабря 2020 года.\n",
    "\n",
    "2. Тест необходимо было запустить на новых пользователей только из региона EU, а тест был запущен еще и на 3 других регоиона.\n",
    "\n",
    "3. Период проведения теста в рассматриваемом регионе EU пересекается с 1 маркетинговой активностью, что может сильно искажать поведение пользователей.\n",
    "\n",
    "4. Тест целиком проведен в преддверии Нового года, в такие периоды поьзователи ведут себя аномально, данные об их действиях не подходят для анализа.\n",
    "\n",
    "5. Пользователи между группами распределены неравномерно. В процентном соотношении группа А состаляет 74,8%, группа B 25,2%. Для для корректного А-B теста необходимо соотношение 50/50 %.\n",
    "\n",
    "6. Аудитория состваляет 8,2% новых пользователей из региона EU вместо необходимых 15%.\n",
    "\n",
    "7. Количество участников теста 3481 вместо необходимых 6000.\n",
    "\n",
    "Рекомендуется переделать сбор данных с учетом проверки наличия технических сбоев и соответсвия всех пунктов ТЗ, после этого будет возможно проведение корректного анализа и формулировка выводов."
   ]
  },
  {
   "cell_type": "markdown",
   "metadata": {},
   "source": [
    "<div class=\"alert alert-success\">\n",
    "<font size=\"5\"><b>Комментарий ревьюера</b></font>\n",
    "\n",
    "Успех: Отлично, вывод сформулирован. Ты вывела основные результаты и верно заметила, что тест сложно назвать корректным. Какие рекомендации бизнесу ты можешь дать в связи с такой ситуацией?\n",
    "</div>"
   ]
  },
  {
   "cell_type": "markdown",
   "metadata": {},
   "source": [
    "<div class=\"alert alert-info\">\n",
    "<font size=\"5\"><b>Комментарий ревьюера</b></font>\n",
    "    \n",
    "Привожу ссылки на статьи по А/В-тестам. Надеюсь, будет интересно) \n",
    "    \n",
    "https://emailsoldiers.ru/blog/12-rules-for-ab-testing\n",
    "    \n",
    "https://ppc.world/articles/ab-testirovanie-v-yandeksdirekte-kak-provesti-i-gde-brat-idei/\n",
    "    \n",
    "https://in-scale.ru/blog/chto-takoe-ab-testirovanie-i-kak-ego-provesti/\n",
    "\n",
    "Ты проделала большую работу, молодец! Критических замечаний немного. Однако их важно исправить. Думаю, ты справишься со всеми ними. Жду твою работу :)\n",
    "\n",
    "</div>"
   ]
  },
  {
   "cell_type": "markdown",
   "metadata": {},
   "source": [
    "<div class=\"alert alert-success\">\n",
    "<font size=\"5\"><b>Комментарий ревьюера 2</b></font>\n",
    "\n",
    "Помарки исправлены, и теперь работа выполнена хорошо. Ты здорово поработала, молодец. Поздравляю со сданным проектом. Надеюсь, он был интересен и познавателен. Продолжай в том же духе. Успехов в дальнейшем пути :)\n",
    "\n",
    "</div>"
   ]
  }
 ],
 "metadata": {
  "ExecuteTimeLog": [
   {
    "duration": 153,
    "start_time": "2022-04-28T17:14:25.212Z"
   },
   {
    "duration": 114,
    "start_time": "2022-04-28T17:14:31.779Z"
   },
   {
    "duration": 1722,
    "start_time": "2022-04-28T17:18:44.838Z"
   },
   {
    "duration": 1008,
    "start_time": "2022-04-28T17:18:52.377Z"
   },
   {
    "duration": 22,
    "start_time": "2022-04-28T17:18:59.784Z"
   },
   {
    "duration": 28,
    "start_time": "2022-04-28T17:19:10.840Z"
   },
   {
    "duration": 47,
    "start_time": "2022-04-28T17:19:20.371Z"
   },
   {
    "duration": 12,
    "start_time": "2022-04-28T17:19:28.970Z"
   },
   {
    "duration": 84,
    "start_time": "2022-04-28T17:19:38.979Z"
   },
   {
    "duration": 131,
    "start_time": "2022-04-28T17:19:48.193Z"
   },
   {
    "duration": 24,
    "start_time": "2022-04-28T17:19:55.818Z"
   },
   {
    "duration": 14,
    "start_time": "2022-04-28T17:20:04.042Z"
   },
   {
    "duration": 21,
    "start_time": "2022-04-28T17:20:10.980Z"
   },
   {
    "duration": 13,
    "start_time": "2022-04-28T17:21:10.201Z"
   },
   {
    "duration": 12,
    "start_time": "2022-04-28T17:22:08.969Z"
   },
   {
    "duration": 62,
    "start_time": "2022-04-28T17:22:28.191Z"
   },
   {
    "duration": 20,
    "start_time": "2022-04-28T17:23:01.015Z"
   },
   {
    "duration": 1397,
    "start_time": "2022-04-28T19:03:01.197Z"
   },
   {
    "duration": 618,
    "start_time": "2022-04-28T19:03:02.597Z"
   },
   {
    "duration": 15,
    "start_time": "2022-04-28T19:03:03.217Z"
   },
   {
    "duration": 17,
    "start_time": "2022-04-28T19:03:03.234Z"
   },
   {
    "duration": 43,
    "start_time": "2022-04-28T19:03:03.253Z"
   },
   {
    "duration": 25,
    "start_time": "2022-04-28T19:03:03.298Z"
   },
   {
    "duration": 10,
    "start_time": "2022-04-28T19:03:03.386Z"
   },
   {
    "duration": 67,
    "start_time": "2022-04-28T19:03:03.716Z"
   },
   {
    "duration": 27,
    "start_time": "2022-04-28T19:03:04.101Z"
   },
   {
    "duration": 58,
    "start_time": "2022-04-28T19:03:04.489Z"
   },
   {
    "duration": 15,
    "start_time": "2022-04-28T19:03:04.956Z"
   },
   {
    "duration": 9,
    "start_time": "2022-04-28T19:03:07.082Z"
   },
   {
    "duration": 15,
    "start_time": "2022-04-28T19:03:07.567Z"
   },
   {
    "duration": 34,
    "start_time": "2022-04-28T19:06:44.188Z"
   },
   {
    "duration": 1105,
    "start_time": "2022-04-28T19:18:27.405Z"
   },
   {
    "duration": 572,
    "start_time": "2022-04-28T19:18:29.186Z"
   },
   {
    "duration": 132,
    "start_time": "2022-04-28T19:18:30.612Z"
   },
   {
    "duration": 474,
    "start_time": "2022-04-28T19:21:27.943Z"
   },
   {
    "duration": 759,
    "start_time": "2022-04-28T19:21:54.417Z"
   },
   {
    "duration": 472,
    "start_time": "2022-04-28T19:22:14.764Z"
   },
   {
    "duration": 475,
    "start_time": "2022-04-28T19:22:28.326Z"
   },
   {
    "duration": 30,
    "start_time": "2022-04-28T19:22:40.581Z"
   },
   {
    "duration": 60,
    "start_time": "2022-04-28T19:22:41.017Z"
   },
   {
    "duration": 19,
    "start_time": "2022-04-28T19:22:41.571Z"
   },
   {
    "duration": 421,
    "start_time": "2022-04-28T19:27:53.128Z"
   },
   {
    "duration": 91,
    "start_time": "2022-04-28T19:28:55.071Z"
   },
   {
    "duration": 9,
    "start_time": "2022-04-28T19:29:50.749Z"
   },
   {
    "duration": 2461,
    "start_time": "2022-04-28T19:31:15.113Z"
   },
   {
    "duration": 4,
    "start_time": "2022-04-28T19:31:36.942Z"
   },
   {
    "duration": 10,
    "start_time": "2022-04-28T19:31:47.948Z"
   },
   {
    "duration": 11,
    "start_time": "2022-04-28T19:32:01.668Z"
   },
   {
    "duration": 9,
    "start_time": "2022-04-28T19:32:46.133Z"
   },
   {
    "duration": 1722,
    "start_time": "2022-04-28T19:33:57.104Z"
   },
   {
    "duration": 105,
    "start_time": "2022-04-28T19:35:25.893Z"
   },
   {
    "duration": 1367,
    "start_time": "2022-04-29T05:56:08.607Z"
   },
   {
    "duration": 572,
    "start_time": "2022-04-29T05:56:09.976Z"
   },
   {
    "duration": 460,
    "start_time": "2022-04-29T05:56:10.549Z"
   },
   {
    "duration": 24,
    "start_time": "2022-04-29T05:56:11.011Z"
   },
   {
    "duration": 74,
    "start_time": "2022-04-29T05:56:11.036Z"
   },
   {
    "duration": 16,
    "start_time": "2022-04-29T05:56:11.111Z"
   },
   {
    "duration": 120,
    "start_time": "2022-04-29T05:56:11.128Z"
   },
   {
    "duration": 12,
    "start_time": "2022-04-29T06:03:35.316Z"
   },
   {
    "duration": 102,
    "start_time": "2022-04-29T06:04:03.087Z"
   },
   {
    "duration": 1345,
    "start_time": "2022-04-29T06:05:06.384Z"
   },
   {
    "duration": 610,
    "start_time": "2022-04-29T06:05:07.732Z"
   },
   {
    "duration": 492,
    "start_time": "2022-04-29T06:05:08.344Z"
   },
   {
    "duration": 29,
    "start_time": "2022-04-29T06:05:08.854Z"
   },
   {
    "duration": 70,
    "start_time": "2022-04-29T06:05:08.886Z"
   },
   {
    "duration": 32,
    "start_time": "2022-04-29T06:05:08.958Z"
   },
   {
    "duration": 165,
    "start_time": "2022-04-29T06:05:09.840Z"
   },
   {
    "duration": 13,
    "start_time": "2022-04-29T06:05:12.627Z"
   },
   {
    "duration": 1553,
    "start_time": "2022-04-29T06:07:03.848Z"
   },
   {
    "duration": 734,
    "start_time": "2022-04-29T06:07:05.404Z"
   },
   {
    "duration": 481,
    "start_time": "2022-04-29T06:07:12.412Z"
   },
   {
    "duration": 25,
    "start_time": "2022-04-29T06:07:13.292Z"
   },
   {
    "duration": 54,
    "start_time": "2022-04-29T06:07:14.090Z"
   },
   {
    "duration": 23,
    "start_time": "2022-04-29T06:07:14.453Z"
   },
   {
    "duration": 104,
    "start_time": "2022-04-29T06:07:17.171Z"
   },
   {
    "duration": 8,
    "start_time": "2022-04-29T06:07:21.703Z"
   },
   {
    "duration": 108,
    "start_time": "2022-04-29T06:08:32.539Z"
   },
   {
    "duration": 149,
    "start_time": "2022-04-29T06:09:10.650Z"
   },
   {
    "duration": 54,
    "start_time": "2022-04-29T06:09:15.056Z"
   },
   {
    "duration": 407,
    "start_time": "2022-04-29T06:09:18.519Z"
   },
   {
    "duration": 10,
    "start_time": "2022-04-29T06:11:13.886Z"
   },
   {
    "duration": 12,
    "start_time": "2022-04-29T06:12:47.971Z"
   },
   {
    "duration": 5,
    "start_time": "2022-04-29T06:13:10.082Z"
   },
   {
    "duration": 296,
    "start_time": "2022-04-29T06:23:50.445Z"
   },
   {
    "duration": 260,
    "start_time": "2022-04-29T06:24:05.332Z"
   },
   {
    "duration": 266,
    "start_time": "2022-04-29T06:24:17.758Z"
   },
   {
    "duration": 13,
    "start_time": "2022-04-29T06:25:00.108Z"
   },
   {
    "duration": 12,
    "start_time": "2022-04-29T06:25:08.111Z"
   },
   {
    "duration": 214,
    "start_time": "2022-04-29T06:25:37.440Z"
   },
   {
    "duration": 250,
    "start_time": "2022-04-29T06:25:51.803Z"
   },
   {
    "duration": 487,
    "start_time": "2022-04-29T06:26:21.506Z"
   },
   {
    "duration": 6,
    "start_time": "2022-04-29T06:31:08.925Z"
   },
   {
    "duration": 5,
    "start_time": "2022-04-29T06:31:20.806Z"
   },
   {
    "duration": 16,
    "start_time": "2022-04-29T06:34:31.804Z"
   },
   {
    "duration": 22,
    "start_time": "2022-04-29T06:34:56.608Z"
   },
   {
    "duration": 165,
    "start_time": "2022-04-29T06:35:01.715Z"
   },
   {
    "duration": 26,
    "start_time": "2022-04-29T06:35:17.329Z"
   },
   {
    "duration": 10,
    "start_time": "2022-04-29T06:35:28.918Z"
   },
   {
    "duration": 14,
    "start_time": "2022-04-29T06:35:44.584Z"
   },
   {
    "duration": 20,
    "start_time": "2022-04-29T06:35:50.520Z"
   },
   {
    "duration": 1267,
    "start_time": "2022-04-29T06:47:46.576Z"
   },
   {
    "duration": 529,
    "start_time": "2022-04-29T06:47:47.845Z"
   },
   {
    "duration": 443,
    "start_time": "2022-04-29T06:47:48.375Z"
   },
   {
    "duration": 35,
    "start_time": "2022-04-29T06:47:48.820Z"
   },
   {
    "duration": 51,
    "start_time": "2022-04-29T06:47:48.857Z"
   },
   {
    "duration": 17,
    "start_time": "2022-04-29T06:47:48.909Z"
   },
   {
    "duration": 232,
    "start_time": "2022-04-29T06:47:48.927Z"
   },
   {
    "duration": 47,
    "start_time": "2022-04-29T06:47:49.161Z"
   },
   {
    "duration": 310,
    "start_time": "2022-04-29T06:47:49.209Z"
   },
   {
    "duration": 5,
    "start_time": "2022-04-29T06:47:49.521Z"
   },
   {
    "duration": 8,
    "start_time": "2022-04-29T06:47:49.528Z"
   },
   {
    "duration": 257,
    "start_time": "2022-04-29T06:47:49.538Z"
   },
   {
    "duration": 2,
    "start_time": "2022-04-29T06:47:49.797Z"
   },
   {
    "duration": 1360,
    "start_time": "2022-04-29T06:54:42.594Z"
   },
   {
    "duration": 583,
    "start_time": "2022-04-29T06:54:43.956Z"
   },
   {
    "duration": 473,
    "start_time": "2022-04-29T06:54:44.540Z"
   },
   {
    "duration": 50,
    "start_time": "2022-04-29T06:54:45.016Z"
   },
   {
    "duration": 56,
    "start_time": "2022-04-29T06:54:45.068Z"
   },
   {
    "duration": 35,
    "start_time": "2022-04-29T06:54:45.126Z"
   },
   {
    "duration": 223,
    "start_time": "2022-04-29T06:54:45.163Z"
   },
   {
    "duration": 49,
    "start_time": "2022-04-29T06:54:45.388Z"
   },
   {
    "duration": 333,
    "start_time": "2022-04-29T06:54:45.439Z"
   },
   {
    "duration": 5,
    "start_time": "2022-04-29T06:54:45.774Z"
   },
   {
    "duration": 8,
    "start_time": "2022-04-29T06:54:45.781Z"
   },
   {
    "duration": 299,
    "start_time": "2022-04-29T06:54:45.790Z"
   },
   {
    "duration": 3,
    "start_time": "2022-04-29T06:54:46.090Z"
   },
   {
    "duration": 185,
    "start_time": "2022-04-29T06:55:24.228Z"
   },
   {
    "duration": 171,
    "start_time": "2022-04-29T06:55:37.487Z"
   },
   {
    "duration": 187,
    "start_time": "2022-04-29T06:55:45.181Z"
   },
   {
    "duration": 212,
    "start_time": "2022-04-29T06:57:08.484Z"
   },
   {
    "duration": 237,
    "start_time": "2022-04-29T06:57:41.961Z"
   },
   {
    "duration": 219,
    "start_time": "2022-04-29T06:58:56.616Z"
   },
   {
    "duration": 228,
    "start_time": "2022-04-29T06:59:06.411Z"
   },
   {
    "duration": 3012,
    "start_time": "2022-04-29T07:01:50.019Z"
   },
   {
    "duration": 2604,
    "start_time": "2022-04-29T07:02:19.536Z"
   },
   {
    "duration": 2547,
    "start_time": "2022-04-29T07:02:42.495Z"
   },
   {
    "duration": 230,
    "start_time": "2022-04-29T07:02:52.186Z"
   },
   {
    "duration": 6,
    "start_time": "2022-04-29T07:02:54.518Z"
   },
   {
    "duration": 11,
    "start_time": "2022-04-29T07:03:02.018Z"
   },
   {
    "duration": 1433,
    "start_time": "2022-04-29T07:05:12.055Z"
   },
   {
    "duration": 15,
    "start_time": "2022-04-29T07:05:19.035Z"
   },
   {
    "duration": 88,
    "start_time": "2022-04-29T07:05:27.959Z"
   },
   {
    "duration": 91,
    "start_time": "2022-04-29T07:06:42.947Z"
   },
   {
    "duration": 18,
    "start_time": "2022-04-29T07:11:55.030Z"
   },
   {
    "duration": 61,
    "start_time": "2022-04-29T07:12:05.928Z"
   },
   {
    "duration": 58,
    "start_time": "2022-04-29T07:12:28.098Z"
   },
   {
    "duration": 72,
    "start_time": "2022-04-29T07:12:41.649Z"
   },
   {
    "duration": 45,
    "start_time": "2022-04-29T07:12:42.667Z"
   },
   {
    "duration": 1523,
    "start_time": "2022-04-29T07:13:22.855Z"
   },
   {
    "duration": 713,
    "start_time": "2022-04-29T07:13:24.381Z"
   },
   {
    "duration": 477,
    "start_time": "2022-04-29T07:13:25.096Z"
   },
   {
    "duration": 26,
    "start_time": "2022-04-29T07:13:25.575Z"
   },
   {
    "duration": 101,
    "start_time": "2022-04-29T07:13:25.604Z"
   },
   {
    "duration": 23,
    "start_time": "2022-04-29T07:13:25.707Z"
   },
   {
    "duration": 192,
    "start_time": "2022-04-29T07:13:25.732Z"
   },
   {
    "duration": 9,
    "start_time": "2022-04-29T07:13:25.926Z"
   },
   {
    "duration": 3,
    "start_time": "2022-04-29T07:13:25.937Z"
   },
   {
    "duration": 7,
    "start_time": "2022-04-29T07:13:25.954Z"
   },
   {
    "duration": 12,
    "start_time": "2022-04-29T07:13:25.963Z"
   },
   {
    "duration": 350,
    "start_time": "2022-04-29T07:13:25.978Z"
   },
   {
    "duration": 89,
    "start_time": "2022-04-29T07:13:26.331Z"
   },
   {
    "duration": 126,
    "start_time": "2022-04-29T07:13:26.424Z"
   },
   {
    "duration": 66,
    "start_time": "2022-04-29T07:13:26.554Z"
   },
   {
    "duration": 10,
    "start_time": "2022-04-29T07:37:58.745Z"
   },
   {
    "duration": 148,
    "start_time": "2022-04-29T07:38:06.450Z"
   },
   {
    "duration": 20,
    "start_time": "2022-04-29T07:38:14.763Z"
   },
   {
    "duration": 12,
    "start_time": "2022-04-29T07:38:58.799Z"
   },
   {
    "duration": 1299,
    "start_time": "2022-04-29T07:43:18.697Z"
   },
   {
    "duration": 822,
    "start_time": "2022-04-29T07:43:19.999Z"
   },
   {
    "duration": 674,
    "start_time": "2022-04-29T07:43:20.823Z"
   },
   {
    "duration": 60,
    "start_time": "2022-04-29T07:43:21.499Z"
   },
   {
    "duration": 53,
    "start_time": "2022-04-29T07:43:21.561Z"
   },
   {
    "duration": 17,
    "start_time": "2022-04-29T07:43:21.615Z"
   },
   {
    "duration": 179,
    "start_time": "2022-04-29T07:43:21.718Z"
   },
   {
    "duration": 9,
    "start_time": "2022-04-29T07:43:22.689Z"
   },
   {
    "duration": 3,
    "start_time": "2022-04-29T07:43:23.435Z"
   },
   {
    "duration": 7,
    "start_time": "2022-04-29T07:43:24.102Z"
   },
   {
    "duration": 8,
    "start_time": "2022-04-29T07:43:25.040Z"
   },
   {
    "duration": 460,
    "start_time": "2022-04-29T07:43:25.958Z"
   },
   {
    "duration": 147,
    "start_time": "2022-04-29T07:43:27.262Z"
   },
   {
    "duration": 56,
    "start_time": "2022-04-29T07:43:31.129Z"
   },
   {
    "duration": 28,
    "start_time": "2022-04-29T07:44:44.344Z"
   },
   {
    "duration": 21,
    "start_time": "2022-04-29T07:44:57.456Z"
   },
   {
    "duration": 1698,
    "start_time": "2022-04-29T07:45:45.617Z"
   },
   {
    "duration": 840,
    "start_time": "2022-04-29T07:45:47.318Z"
   },
   {
    "duration": 498,
    "start_time": "2022-04-29T07:45:48.161Z"
   },
   {
    "duration": 28,
    "start_time": "2022-04-29T07:45:48.661Z"
   },
   {
    "duration": 77,
    "start_time": "2022-04-29T07:45:48.690Z"
   },
   {
    "duration": 18,
    "start_time": "2022-04-29T07:45:48.769Z"
   },
   {
    "duration": 128,
    "start_time": "2022-04-29T07:45:48.789Z"
   },
   {
    "duration": 8,
    "start_time": "2022-04-29T07:45:48.919Z"
   },
   {
    "duration": 3,
    "start_time": "2022-04-29T07:45:48.928Z"
   },
   {
    "duration": 25,
    "start_time": "2022-04-29T07:45:48.934Z"
   },
   {
    "duration": 7,
    "start_time": "2022-04-29T07:45:48.961Z"
   },
   {
    "duration": 327,
    "start_time": "2022-04-29T07:45:48.970Z"
   },
   {
    "duration": 123,
    "start_time": "2022-04-29T07:45:49.299Z"
   },
   {
    "duration": 32,
    "start_time": "2022-04-29T07:45:49.423Z"
   },
   {
    "duration": 22,
    "start_time": "2022-04-29T07:45:57.346Z"
   },
   {
    "duration": 5,
    "start_time": "2022-04-29T07:46:20.724Z"
   },
   {
    "duration": 26,
    "start_time": "2022-04-29T07:46:26.578Z"
   },
   {
    "duration": 20,
    "start_time": "2022-04-29T07:47:01.776Z"
   },
   {
    "duration": 30,
    "start_time": "2022-04-29T07:48:00.606Z"
   },
   {
    "duration": 6,
    "start_time": "2022-04-29T07:52:18.157Z"
   },
   {
    "duration": 9,
    "start_time": "2022-04-29T07:52:22.637Z"
   },
   {
    "duration": 95,
    "start_time": "2022-04-29T07:53:35.844Z"
   },
   {
    "duration": 8,
    "start_time": "2022-04-29T07:53:46.066Z"
   },
   {
    "duration": 21,
    "start_time": "2022-04-29T07:54:01.925Z"
   },
   {
    "duration": 7,
    "start_time": "2022-04-29T07:54:33.642Z"
   },
   {
    "duration": 8,
    "start_time": "2022-04-29T07:54:42.111Z"
   },
   {
    "duration": 1797,
    "start_time": "2022-04-29T15:21:43.722Z"
   },
   {
    "duration": 739,
    "start_time": "2022-04-29T15:21:45.522Z"
   },
   {
    "duration": 593,
    "start_time": "2022-04-29T15:21:46.263Z"
   },
   {
    "duration": 61,
    "start_time": "2022-04-29T15:21:46.859Z"
   },
   {
    "duration": 89,
    "start_time": "2022-04-29T15:21:46.922Z"
   },
   {
    "duration": 21,
    "start_time": "2022-04-29T15:21:47.014Z"
   },
   {
    "duration": 159,
    "start_time": "2022-04-29T15:21:47.037Z"
   },
   {
    "duration": 8,
    "start_time": "2022-04-29T15:21:47.198Z"
   },
   {
    "duration": 4,
    "start_time": "2022-04-29T15:21:47.208Z"
   },
   {
    "duration": 12,
    "start_time": "2022-04-29T15:21:47.215Z"
   },
   {
    "duration": 9,
    "start_time": "2022-04-29T15:21:47.229Z"
   },
   {
    "duration": 448,
    "start_time": "2022-04-29T15:21:47.240Z"
   },
   {
    "duration": 202,
    "start_time": "2022-04-29T15:21:47.693Z"
   },
   {
    "duration": 63,
    "start_time": "2022-04-29T15:21:47.898Z"
   },
   {
    "duration": 44,
    "start_time": "2022-04-29T15:21:47.963Z"
   },
   {
    "duration": 11,
    "start_time": "2022-04-29T15:21:48.009Z"
   },
   {
    "duration": 10,
    "start_time": "2022-04-29T15:21:48.022Z"
   },
   {
    "duration": 28,
    "start_time": "2022-04-29T15:23:40.282Z"
   },
   {
    "duration": 7,
    "start_time": "2022-04-29T15:24:29.956Z"
   },
   {
    "duration": 19,
    "start_time": "2022-04-29T15:24:38.073Z"
   },
   {
    "duration": 27,
    "start_time": "2022-04-29T15:25:50.597Z"
   },
   {
    "duration": 25,
    "start_time": "2022-04-29T15:34:59.247Z"
   },
   {
    "duration": 54,
    "start_time": "2022-04-29T15:35:41.359Z"
   },
   {
    "duration": 33,
    "start_time": "2022-04-29T15:36:02.486Z"
   },
   {
    "duration": 28,
    "start_time": "2022-04-29T15:36:18.364Z"
   },
   {
    "duration": 28,
    "start_time": "2022-04-29T15:36:27.913Z"
   },
   {
    "duration": 28,
    "start_time": "2022-04-29T15:37:45.098Z"
   },
   {
    "duration": 13,
    "start_time": "2022-04-29T15:56:04.357Z"
   },
   {
    "duration": 149,
    "start_time": "2022-04-29T16:00:04.898Z"
   },
   {
    "duration": 15,
    "start_time": "2022-04-29T16:00:36.332Z"
   },
   {
    "duration": 3841,
    "start_time": "2022-04-29T16:01:04.393Z"
   },
   {
    "duration": 15,
    "start_time": "2022-04-29T16:01:09.803Z"
   },
   {
    "duration": 28,
    "start_time": "2022-04-29T16:01:36.671Z"
   },
   {
    "duration": 13,
    "start_time": "2022-04-29T16:02:10.173Z"
   },
   {
    "duration": 26,
    "start_time": "2022-04-29T16:04:44.578Z"
   },
   {
    "duration": 14,
    "start_time": "2022-04-29T16:05:03.930Z"
   },
   {
    "duration": 1738,
    "start_time": "2022-04-29T16:16:48.892Z"
   },
   {
    "duration": 791,
    "start_time": "2022-04-29T16:16:50.632Z"
   },
   {
    "duration": 644,
    "start_time": "2022-04-29T16:16:51.426Z"
   },
   {
    "duration": 59,
    "start_time": "2022-04-29T16:16:52.072Z"
   },
   {
    "duration": 97,
    "start_time": "2022-04-29T16:16:52.134Z"
   },
   {
    "duration": 24,
    "start_time": "2022-04-29T16:16:52.233Z"
   },
   {
    "duration": 179,
    "start_time": "2022-04-29T16:16:52.259Z"
   },
   {
    "duration": 9,
    "start_time": "2022-04-29T16:16:52.441Z"
   },
   {
    "duration": 8,
    "start_time": "2022-04-29T16:16:52.452Z"
   },
   {
    "duration": 36,
    "start_time": "2022-04-29T16:16:52.462Z"
   },
   {
    "duration": 478,
    "start_time": "2022-04-29T16:16:52.500Z"
   },
   {
    "duration": 263,
    "start_time": "2022-04-29T16:16:52.980Z"
   },
   {
    "duration": 13,
    "start_time": "2022-04-29T16:16:53.245Z"
   },
   {
    "duration": 37,
    "start_time": "2022-04-29T16:16:53.261Z"
   },
   {
    "duration": 31,
    "start_time": "2022-04-29T16:16:53.300Z"
   },
   {
    "duration": 15,
    "start_time": "2022-04-29T16:16:53.333Z"
   },
   {
    "duration": 46,
    "start_time": "2022-04-29T16:16:53.350Z"
   },
   {
    "duration": 17,
    "start_time": "2022-04-29T16:16:53.398Z"
   },
   {
    "duration": 29,
    "start_time": "2022-04-29T16:23:14.906Z"
   },
   {
    "duration": 6,
    "start_time": "2022-04-29T16:24:04.214Z"
   },
   {
    "duration": 34,
    "start_time": "2022-04-29T16:24:11.493Z"
   },
   {
    "duration": 230,
    "start_time": "2022-04-29T16:24:34.722Z"
   },
   {
    "duration": 146,
    "start_time": "2022-04-29T16:24:37.852Z"
   },
   {
    "duration": 59,
    "start_time": "2022-04-29T16:25:03.611Z"
   },
   {
    "duration": 160,
    "start_time": "2022-04-29T16:25:18.886Z"
   },
   {
    "duration": 74,
    "start_time": "2022-04-29T16:25:53.919Z"
   },
   {
    "duration": 43,
    "start_time": "2022-04-29T16:26:23.027Z"
   },
   {
    "duration": 24,
    "start_time": "2022-04-29T16:27:10.599Z"
   },
   {
    "duration": 23,
    "start_time": "2022-04-29T16:27:16.480Z"
   },
   {
    "duration": 121,
    "start_time": "2022-04-29T16:27:49.644Z"
   },
   {
    "duration": 26,
    "start_time": "2022-04-29T16:28:03.496Z"
   },
   {
    "duration": 298,
    "start_time": "2022-04-29T16:28:51.489Z"
   },
   {
    "duration": 76,
    "start_time": "2022-04-29T16:29:30.315Z"
   },
   {
    "duration": 1783,
    "start_time": "2022-04-29T16:29:42.649Z"
   },
   {
    "duration": 784,
    "start_time": "2022-04-29T16:29:44.435Z"
   },
   {
    "duration": 642,
    "start_time": "2022-04-29T16:29:45.221Z"
   },
   {
    "duration": 45,
    "start_time": "2022-04-29T16:29:45.892Z"
   },
   {
    "duration": 107,
    "start_time": "2022-04-29T16:29:45.940Z"
   },
   {
    "duration": 25,
    "start_time": "2022-04-29T16:29:46.050Z"
   },
   {
    "duration": 175,
    "start_time": "2022-04-29T16:29:46.077Z"
   },
   {
    "duration": 11,
    "start_time": "2022-04-29T16:29:46.254Z"
   },
   {
    "duration": 27,
    "start_time": "2022-04-29T16:29:46.268Z"
   },
   {
    "duration": 10,
    "start_time": "2022-04-29T16:29:46.301Z"
   },
   {
    "duration": 490,
    "start_time": "2022-04-29T16:29:46.314Z"
   },
   {
    "duration": 264,
    "start_time": "2022-04-29T16:29:46.807Z"
   },
   {
    "duration": 23,
    "start_time": "2022-04-29T16:29:47.073Z"
   },
   {
    "duration": 12,
    "start_time": "2022-04-29T16:29:47.098Z"
   },
   {
    "duration": 30,
    "start_time": "2022-04-29T16:29:47.112Z"
   },
   {
    "duration": 51,
    "start_time": "2022-04-29T16:29:47.144Z"
   },
   {
    "duration": 12,
    "start_time": "2022-04-29T16:29:47.197Z"
   },
   {
    "duration": 302,
    "start_time": "2022-04-29T16:29:47.211Z"
   },
   {
    "duration": 25,
    "start_time": "2022-04-29T16:29:47.516Z"
   },
   {
    "duration": 96,
    "start_time": "2022-04-29T16:29:47.544Z"
   },
   {
    "duration": 113,
    "start_time": "2022-04-29T16:29:47.643Z"
   },
   {
    "duration": 45,
    "start_time": "2022-04-29T16:29:47.758Z"
   },
   {
    "duration": 15,
    "start_time": "2022-04-29T16:31:22.728Z"
   },
   {
    "duration": 6,
    "start_time": "2022-04-29T16:31:52.583Z"
   },
   {
    "duration": 14,
    "start_time": "2022-04-29T16:33:04.773Z"
   },
   {
    "duration": 1841,
    "start_time": "2022-04-29T16:36:26.395Z"
   },
   {
    "duration": 791,
    "start_time": "2022-04-29T16:36:28.239Z"
   },
   {
    "duration": 671,
    "start_time": "2022-04-29T16:36:29.032Z"
   },
   {
    "duration": 43,
    "start_time": "2022-04-29T16:36:29.707Z"
   },
   {
    "duration": 113,
    "start_time": "2022-04-29T16:36:29.753Z"
   },
   {
    "duration": 35,
    "start_time": "2022-04-29T16:36:29.868Z"
   },
   {
    "duration": 178,
    "start_time": "2022-04-29T16:36:29.905Z"
   },
   {
    "duration": 13,
    "start_time": "2022-04-29T16:36:30.086Z"
   },
   {
    "duration": 12,
    "start_time": "2022-04-29T16:36:30.101Z"
   },
   {
    "duration": 33,
    "start_time": "2022-04-29T16:36:30.117Z"
   },
   {
    "duration": 545,
    "start_time": "2022-04-29T16:36:30.152Z"
   },
   {
    "duration": 261,
    "start_time": "2022-04-29T16:36:30.700Z"
   },
   {
    "duration": 13,
    "start_time": "2022-04-29T16:36:30.963Z"
   },
   {
    "duration": 23,
    "start_time": "2022-04-29T16:36:30.978Z"
   },
   {
    "duration": 35,
    "start_time": "2022-04-29T16:36:31.003Z"
   },
   {
    "duration": 17,
    "start_time": "2022-04-29T16:36:31.040Z"
   },
   {
    "duration": 42,
    "start_time": "2022-04-29T16:36:31.060Z"
   },
   {
    "duration": 391,
    "start_time": "2022-04-29T16:36:31.106Z"
   },
   {
    "duration": 0,
    "start_time": "2022-04-29T16:36:31.499Z"
   },
   {
    "duration": 0,
    "start_time": "2022-04-29T16:36:31.501Z"
   },
   {
    "duration": 0,
    "start_time": "2022-04-29T16:36:31.502Z"
   },
   {
    "duration": 0,
    "start_time": "2022-04-29T16:36:31.504Z"
   },
   {
    "duration": 0,
    "start_time": "2022-04-29T16:36:31.505Z"
   },
   {
    "duration": 0,
    "start_time": "2022-04-29T16:36:31.507Z"
   },
   {
    "duration": 0,
    "start_time": "2022-04-29T16:36:31.508Z"
   },
   {
    "duration": 16,
    "start_time": "2022-04-29T16:36:35.494Z"
   },
   {
    "duration": 70,
    "start_time": "2022-04-29T16:38:05.731Z"
   },
   {
    "duration": 1760,
    "start_time": "2022-04-29T16:38:17.907Z"
   },
   {
    "duration": 801,
    "start_time": "2022-04-29T16:38:19.670Z"
   },
   {
    "duration": 659,
    "start_time": "2022-04-29T16:38:20.473Z"
   },
   {
    "duration": 67,
    "start_time": "2022-04-29T16:38:21.134Z"
   },
   {
    "duration": 90,
    "start_time": "2022-04-29T16:38:21.205Z"
   },
   {
    "duration": 24,
    "start_time": "2022-04-29T16:38:21.297Z"
   },
   {
    "duration": 173,
    "start_time": "2022-04-29T16:38:21.323Z"
   },
   {
    "duration": 13,
    "start_time": "2022-04-29T16:38:21.499Z"
   },
   {
    "duration": 9,
    "start_time": "2022-04-29T16:38:21.515Z"
   },
   {
    "duration": 15,
    "start_time": "2022-04-29T16:38:21.527Z"
   },
   {
    "duration": 682,
    "start_time": "2022-04-29T16:38:21.545Z"
   },
   {
    "duration": 277,
    "start_time": "2022-04-29T16:38:22.230Z"
   },
   {
    "duration": 14,
    "start_time": "2022-04-29T16:38:22.509Z"
   },
   {
    "duration": 13,
    "start_time": "2022-04-29T16:38:22.527Z"
   },
   {
    "duration": 61,
    "start_time": "2022-04-29T16:38:22.542Z"
   },
   {
    "duration": 16,
    "start_time": "2022-04-29T16:38:22.605Z"
   },
   {
    "duration": 17,
    "start_time": "2022-04-29T16:38:22.624Z"
   },
   {
    "duration": 61,
    "start_time": "2022-04-29T16:38:22.644Z"
   },
   {
    "duration": 213,
    "start_time": "2022-04-29T16:38:22.709Z"
   },
   {
    "duration": 0,
    "start_time": "2022-04-29T16:38:22.925Z"
   },
   {
    "duration": 0,
    "start_time": "2022-04-29T16:38:22.927Z"
   },
   {
    "duration": 0,
    "start_time": "2022-04-29T16:38:22.929Z"
   },
   {
    "duration": 0,
    "start_time": "2022-04-29T16:38:22.931Z"
   },
   {
    "duration": 0,
    "start_time": "2022-04-29T16:38:22.933Z"
   },
   {
    "duration": 0,
    "start_time": "2022-04-29T16:38:22.934Z"
   },
   {
    "duration": 0,
    "start_time": "2022-04-29T16:38:22.936Z"
   },
   {
    "duration": 152,
    "start_time": "2022-04-29T16:38:52.358Z"
   },
   {
    "duration": 23,
    "start_time": "2022-04-29T16:39:03.874Z"
   },
   {
    "duration": 5,
    "start_time": "2022-04-29T16:39:19.929Z"
   },
   {
    "duration": 4991,
    "start_time": "2022-04-29T16:40:00.134Z"
   },
   {
    "duration": 77,
    "start_time": "2022-04-29T16:40:20.647Z"
   },
   {
    "duration": 72,
    "start_time": "2022-04-29T16:48:29.621Z"
   },
   {
    "duration": 73,
    "start_time": "2022-04-29T16:48:42.001Z"
   },
   {
    "duration": 62,
    "start_time": "2022-04-29T16:48:46.532Z"
   },
   {
    "duration": 61,
    "start_time": "2022-04-29T16:54:20.791Z"
   },
   {
    "duration": 17,
    "start_time": "2022-04-29T16:57:37.148Z"
   },
   {
    "duration": 44,
    "start_time": "2022-04-29T16:58:00.293Z"
   },
   {
    "duration": 49,
    "start_time": "2022-04-29T16:58:23.620Z"
   },
   {
    "duration": 50,
    "start_time": "2022-04-29T16:58:42.337Z"
   },
   {
    "duration": 50,
    "start_time": "2022-04-29T16:58:49.739Z"
   },
   {
    "duration": 50,
    "start_time": "2022-04-29T16:59:18.007Z"
   },
   {
    "duration": 1940,
    "start_time": "2022-04-29T17:12:11.993Z"
   },
   {
    "duration": 789,
    "start_time": "2022-04-29T17:12:13.936Z"
   },
   {
    "duration": 666,
    "start_time": "2022-04-29T17:12:14.727Z"
   },
   {
    "duration": 42,
    "start_time": "2022-04-29T17:12:15.396Z"
   },
   {
    "duration": 96,
    "start_time": "2022-04-29T17:12:15.440Z"
   },
   {
    "duration": 25,
    "start_time": "2022-04-29T17:12:15.538Z"
   },
   {
    "duration": 170,
    "start_time": "2022-04-29T17:12:15.565Z"
   },
   {
    "duration": 9,
    "start_time": "2022-04-29T17:12:15.737Z"
   },
   {
    "duration": 7,
    "start_time": "2022-04-29T17:12:15.748Z"
   },
   {
    "duration": 34,
    "start_time": "2022-04-29T17:12:15.759Z"
   },
   {
    "duration": 443,
    "start_time": "2022-04-29T17:12:15.796Z"
   },
   {
    "duration": 333,
    "start_time": "2022-04-29T17:12:16.241Z"
   },
   {
    "duration": 0,
    "start_time": "2022-04-29T17:12:16.577Z"
   },
   {
    "duration": 0,
    "start_time": "2022-04-29T17:12:16.578Z"
   },
   {
    "duration": 0,
    "start_time": "2022-04-29T17:12:16.580Z"
   },
   {
    "duration": 0,
    "start_time": "2022-04-29T17:12:16.581Z"
   },
   {
    "duration": 0,
    "start_time": "2022-04-29T17:12:16.593Z"
   },
   {
    "duration": 0,
    "start_time": "2022-04-29T17:12:16.595Z"
   },
   {
    "duration": 0,
    "start_time": "2022-04-29T17:12:16.596Z"
   },
   {
    "duration": 0,
    "start_time": "2022-04-29T17:12:16.597Z"
   },
   {
    "duration": 0,
    "start_time": "2022-04-29T17:12:16.598Z"
   },
   {
    "duration": 0,
    "start_time": "2022-04-29T17:12:16.599Z"
   },
   {
    "duration": 0,
    "start_time": "2022-04-29T17:12:16.601Z"
   },
   {
    "duration": 0,
    "start_time": "2022-04-29T17:12:16.602Z"
   },
   {
    "duration": 0,
    "start_time": "2022-04-29T17:12:16.604Z"
   },
   {
    "duration": 0,
    "start_time": "2022-04-29T17:12:16.605Z"
   },
   {
    "duration": 189,
    "start_time": "2022-04-29T17:13:04.123Z"
   },
   {
    "duration": 12,
    "start_time": "2022-04-29T17:13:13.306Z"
   },
   {
    "duration": 12,
    "start_time": "2022-04-29T17:13:13.786Z"
   },
   {
    "duration": 10,
    "start_time": "2022-04-29T17:13:17.961Z"
   },
   {
    "duration": 28,
    "start_time": "2022-04-29T17:13:21.152Z"
   },
   {
    "duration": 14,
    "start_time": "2022-04-29T17:13:22.929Z"
   },
   {
    "duration": 11,
    "start_time": "2022-04-29T17:13:23.255Z"
   },
   {
    "duration": 64,
    "start_time": "2022-04-29T17:13:26.457Z"
   },
   {
    "duration": 62,
    "start_time": "2022-04-29T17:13:33.803Z"
   },
   {
    "duration": 71,
    "start_time": "2022-04-29T17:13:34.445Z"
   },
   {
    "duration": 24,
    "start_time": "2022-04-29T17:13:34.943Z"
   },
   {
    "duration": 14,
    "start_time": "2022-04-29T17:13:42.333Z"
   },
   {
    "duration": 228,
    "start_time": "2022-04-29T17:13:48.153Z"
   },
   {
    "duration": 28,
    "start_time": "2022-04-29T17:14:07.202Z"
   },
   {
    "duration": 233,
    "start_time": "2022-04-29T17:14:21.580Z"
   },
   {
    "duration": 116,
    "start_time": "2022-04-29T17:15:41.220Z"
   },
   {
    "duration": 303,
    "start_time": "2022-04-29T17:18:02.824Z"
   },
   {
    "duration": 27,
    "start_time": "2022-04-29T17:18:34.821Z"
   },
   {
    "duration": 27,
    "start_time": "2022-04-29T17:19:24.246Z"
   },
   {
    "duration": 30,
    "start_time": "2022-04-29T17:19:44.622Z"
   },
   {
    "duration": 29,
    "start_time": "2022-04-29T17:20:47.963Z"
   },
   {
    "duration": 31,
    "start_time": "2022-04-29T17:22:31.305Z"
   },
   {
    "duration": 210,
    "start_time": "2022-04-29T17:22:37.638Z"
   },
   {
    "duration": 43,
    "start_time": "2022-04-29T17:24:48.588Z"
   },
   {
    "duration": 19,
    "start_time": "2022-04-29T17:25:40.537Z"
   },
   {
    "duration": 1403,
    "start_time": "2022-04-30T07:26:40.216Z"
   },
   {
    "duration": 854,
    "start_time": "2022-04-30T07:26:41.621Z"
   },
   {
    "duration": 415,
    "start_time": "2022-04-30T07:26:42.477Z"
   },
   {
    "duration": 43,
    "start_time": "2022-04-30T07:26:42.893Z"
   },
   {
    "duration": 49,
    "start_time": "2022-04-30T07:26:42.938Z"
   },
   {
    "duration": 16,
    "start_time": "2022-04-30T07:26:42.988Z"
   },
   {
    "duration": 125,
    "start_time": "2022-04-30T07:26:43.005Z"
   },
   {
    "duration": 6,
    "start_time": "2022-04-30T07:26:43.132Z"
   },
   {
    "duration": 5,
    "start_time": "2022-04-30T07:26:43.139Z"
   },
   {
    "duration": 6,
    "start_time": "2022-04-30T07:26:43.145Z"
   },
   {
    "duration": 303,
    "start_time": "2022-04-30T07:26:43.153Z"
   },
   {
    "duration": 174,
    "start_time": "2022-04-30T07:26:43.458Z"
   },
   {
    "duration": 8,
    "start_time": "2022-04-30T07:26:43.634Z"
   },
   {
    "duration": 8,
    "start_time": "2022-04-30T07:26:43.644Z"
   },
   {
    "duration": 19,
    "start_time": "2022-04-30T07:26:43.654Z"
   },
   {
    "duration": 10,
    "start_time": "2022-04-30T07:26:43.675Z"
   },
   {
    "duration": 42,
    "start_time": "2022-04-30T07:26:43.687Z"
   },
   {
    "duration": 18,
    "start_time": "2022-04-30T07:26:43.731Z"
   },
   {
    "duration": 158,
    "start_time": "2022-04-30T07:26:43.751Z"
   },
   {
    "duration": 21,
    "start_time": "2022-04-30T07:26:43.911Z"
   },
   {
    "duration": 13,
    "start_time": "2022-04-30T07:26:43.934Z"
   },
   {
    "duration": 23,
    "start_time": "2022-04-30T07:27:41.274Z"
   },
   {
    "duration": 142,
    "start_time": "2022-04-30T07:29:36.698Z"
   },
   {
    "duration": 149,
    "start_time": "2022-04-30T07:30:21.267Z"
   },
   {
    "duration": 5,
    "start_time": "2022-04-30T07:31:40.786Z"
   },
   {
    "duration": 13,
    "start_time": "2022-04-30T07:31:47.348Z"
   },
   {
    "duration": 14,
    "start_time": "2022-04-30T07:32:30.556Z"
   },
   {
    "duration": 8,
    "start_time": "2022-04-30T07:32:41.279Z"
   },
   {
    "duration": 2185,
    "start_time": "2022-04-30T07:33:21.773Z"
   },
   {
    "duration": 2236,
    "start_time": "2022-04-30T07:33:35.194Z"
   },
   {
    "duration": 11,
    "start_time": "2022-04-30T07:33:49.468Z"
   },
   {
    "duration": 146,
    "start_time": "2022-04-30T07:34:10.882Z"
   },
   {
    "duration": 2268,
    "start_time": "2022-04-30T07:34:16.282Z"
   },
   {
    "duration": 4,
    "start_time": "2022-04-30T07:34:28.253Z"
   },
   {
    "duration": 9,
    "start_time": "2022-04-30T07:34:52.499Z"
   },
   {
    "duration": 7,
    "start_time": "2022-04-30T07:34:58.873Z"
   },
   {
    "duration": 19,
    "start_time": "2022-04-30T07:38:07.790Z"
   },
   {
    "duration": 14,
    "start_time": "2022-04-30T07:44:54.674Z"
   },
   {
    "duration": 5,
    "start_time": "2022-04-30T07:45:30.250Z"
   },
   {
    "duration": 5,
    "start_time": "2022-04-30T07:46:05.554Z"
   },
   {
    "duration": 131,
    "start_time": "2022-04-30T07:46:09.145Z"
   },
   {
    "duration": 5,
    "start_time": "2022-04-30T07:46:11.984Z"
   },
   {
    "duration": 18,
    "start_time": "2022-04-30T08:11:30.199Z"
   },
   {
    "duration": 11,
    "start_time": "2022-04-30T08:11:42.518Z"
   },
   {
    "duration": 18,
    "start_time": "2022-04-30T08:11:57.739Z"
   },
   {
    "duration": 18,
    "start_time": "2022-04-30T08:12:34.982Z"
   },
   {
    "duration": 5,
    "start_time": "2022-04-30T08:12:56.825Z"
   },
   {
    "duration": 6,
    "start_time": "2022-04-30T08:13:17.284Z"
   },
   {
    "duration": 8,
    "start_time": "2022-04-30T08:13:54.343Z"
   },
   {
    "duration": 4,
    "start_time": "2022-04-30T08:15:42.420Z"
   },
   {
    "duration": 4,
    "start_time": "2022-04-30T08:15:53.156Z"
   },
   {
    "duration": 5,
    "start_time": "2022-04-30T08:18:57.202Z"
   },
   {
    "duration": 26,
    "start_time": "2022-04-30T08:19:13.389Z"
   },
   {
    "duration": 31,
    "start_time": "2022-04-30T08:19:20.143Z"
   },
   {
    "duration": 7,
    "start_time": "2022-04-30T08:19:54.456Z"
   },
   {
    "duration": 7,
    "start_time": "2022-04-30T08:19:59.756Z"
   },
   {
    "duration": 17,
    "start_time": "2022-04-30T08:20:17.176Z"
   },
   {
    "duration": 6,
    "start_time": "2022-04-30T08:23:45.923Z"
   },
   {
    "duration": 5,
    "start_time": "2022-04-30T08:24:22.700Z"
   },
   {
    "duration": 17,
    "start_time": "2022-04-30T08:24:40.063Z"
   },
   {
    "duration": 7,
    "start_time": "2022-04-30T08:25:27.774Z"
   },
   {
    "duration": 9,
    "start_time": "2022-04-30T08:25:33.318Z"
   },
   {
    "duration": 4,
    "start_time": "2022-04-30T08:25:47.241Z"
   },
   {
    "duration": 5,
    "start_time": "2022-04-30T08:25:52.539Z"
   },
   {
    "duration": 10,
    "start_time": "2022-04-30T08:25:57.732Z"
   },
   {
    "duration": 11,
    "start_time": "2022-04-30T08:26:11.051Z"
   },
   {
    "duration": 12,
    "start_time": "2022-04-30T08:26:24.960Z"
   },
   {
    "duration": 133,
    "start_time": "2022-04-30T08:26:58.753Z"
   },
   {
    "duration": 1272,
    "start_time": "2022-04-30T08:27:31.711Z"
   },
   {
    "duration": 792,
    "start_time": "2022-04-30T08:27:32.985Z"
   },
   {
    "duration": 676,
    "start_time": "2022-04-30T08:27:33.779Z"
   },
   {
    "duration": 43,
    "start_time": "2022-04-30T08:27:34.457Z"
   },
   {
    "duration": 78,
    "start_time": "2022-04-30T08:27:34.524Z"
   },
   {
    "duration": 31,
    "start_time": "2022-04-30T08:27:34.604Z"
   },
   {
    "duration": 190,
    "start_time": "2022-04-30T08:27:34.637Z"
   },
   {
    "duration": 8,
    "start_time": "2022-04-30T08:27:34.829Z"
   },
   {
    "duration": 6,
    "start_time": "2022-04-30T08:27:34.839Z"
   },
   {
    "duration": 8,
    "start_time": "2022-04-30T08:27:34.847Z"
   },
   {
    "duration": 465,
    "start_time": "2022-04-30T08:27:34.857Z"
   },
   {
    "duration": 275,
    "start_time": "2022-04-30T08:27:35.324Z"
   },
   {
    "duration": 11,
    "start_time": "2022-04-30T08:27:35.601Z"
   },
   {
    "duration": 9,
    "start_time": "2022-04-30T08:27:35.626Z"
   },
   {
    "duration": 20,
    "start_time": "2022-04-30T08:27:35.637Z"
   },
   {
    "duration": 10,
    "start_time": "2022-04-30T08:27:35.659Z"
   },
   {
    "duration": 9,
    "start_time": "2022-04-30T08:27:35.671Z"
   },
   {
    "duration": 171,
    "start_time": "2022-04-30T08:27:35.681Z"
   },
   {
    "duration": 7,
    "start_time": "2022-04-30T08:27:35.854Z"
   },
   {
    "duration": 18,
    "start_time": "2022-04-30T08:27:35.862Z"
   },
   {
    "duration": 12,
    "start_time": "2022-04-30T08:27:35.882Z"
   },
   {
    "duration": 29,
    "start_time": "2022-04-30T08:27:35.896Z"
   },
   {
    "duration": 8,
    "start_time": "2022-04-30T08:27:35.927Z"
   },
   {
    "duration": 17,
    "start_time": "2022-04-30T08:27:35.937Z"
   },
   {
    "duration": 6,
    "start_time": "2022-04-30T08:27:35.955Z"
   },
   {
    "duration": 10,
    "start_time": "2022-04-30T08:27:35.963Z"
   },
   {
    "duration": 166,
    "start_time": "2022-04-30T08:27:35.974Z"
   },
   {
    "duration": 130,
    "start_time": "2022-04-30T08:27:36.142Z"
   },
   {
    "duration": 10,
    "start_time": "2022-04-30T08:29:59.985Z"
   },
   {
    "duration": 28,
    "start_time": "2022-04-30T08:30:38.508Z"
   },
   {
    "duration": 7,
    "start_time": "2022-04-30T08:32:49.303Z"
   },
   {
    "duration": 121,
    "start_time": "2022-04-30T08:33:05.027Z"
   },
   {
    "duration": 145,
    "start_time": "2022-04-30T08:33:09.012Z"
   },
   {
    "duration": 153,
    "start_time": "2022-04-30T08:33:54.613Z"
   },
   {
    "duration": 8,
    "start_time": "2022-04-30T08:58:33.992Z"
   },
   {
    "duration": 4,
    "start_time": "2022-04-30T08:59:12.068Z"
   },
   {
    "duration": 96,
    "start_time": "2022-04-30T08:59:52.375Z"
   },
   {
    "duration": 5,
    "start_time": "2022-04-30T09:00:12.297Z"
   },
   {
    "duration": 13,
    "start_time": "2022-04-30T09:00:16.031Z"
   },
   {
    "duration": 13,
    "start_time": "2022-04-30T09:00:32.849Z"
   },
   {
    "duration": 6,
    "start_time": "2022-04-30T09:01:02.727Z"
   },
   {
    "duration": 1612,
    "start_time": "2022-04-30T09:02:10.859Z"
   },
   {
    "duration": 8,
    "start_time": "2022-04-30T09:02:14.624Z"
   },
   {
    "duration": 136,
    "start_time": "2022-04-30T09:02:26.148Z"
   },
   {
    "duration": 12,
    "start_time": "2022-04-30T09:02:29.202Z"
   },
   {
    "duration": 14,
    "start_time": "2022-04-30T09:02:51.419Z"
   },
   {
    "duration": 12,
    "start_time": "2022-04-30T09:03:03.113Z"
   },
   {
    "duration": 14,
    "start_time": "2022-04-30T09:04:39.771Z"
   },
   {
    "duration": 11,
    "start_time": "2022-04-30T09:05:48.304Z"
   },
   {
    "duration": 18,
    "start_time": "2022-04-30T09:06:00.302Z"
   },
   {
    "duration": 15,
    "start_time": "2022-04-30T09:06:03.225Z"
   },
   {
    "duration": 6,
    "start_time": "2022-04-30T09:06:59.050Z"
   },
   {
    "duration": 6,
    "start_time": "2022-04-30T09:07:37.661Z"
   },
   {
    "duration": 15,
    "start_time": "2022-04-30T09:07:38.404Z"
   },
   {
    "duration": 8,
    "start_time": "2022-04-30T09:07:41.128Z"
   },
   {
    "duration": 13,
    "start_time": "2022-04-30T09:07:43.159Z"
   },
   {
    "duration": 29,
    "start_time": "2022-04-30T09:07:44.469Z"
   },
   {
    "duration": 8,
    "start_time": "2022-04-30T09:07:45.152Z"
   },
   {
    "duration": 175,
    "start_time": "2022-04-30T09:07:47.772Z"
   },
   {
    "duration": 119,
    "start_time": "2022-04-30T09:07:53.673Z"
   },
   {
    "duration": 1266,
    "start_time": "2022-04-30T09:19:50.077Z"
   },
   {
    "duration": 574,
    "start_time": "2022-04-30T09:19:51.345Z"
   },
   {
    "duration": 481,
    "start_time": "2022-04-30T09:19:51.921Z"
   },
   {
    "duration": 43,
    "start_time": "2022-04-30T09:19:52.405Z"
   },
   {
    "duration": 68,
    "start_time": "2022-04-30T09:19:52.450Z"
   },
   {
    "duration": 95,
    "start_time": "2022-04-30T09:19:52.524Z"
   },
   {
    "duration": 122,
    "start_time": "2022-04-30T09:19:52.621Z"
   },
   {
    "duration": 8,
    "start_time": "2022-04-30T09:19:52.745Z"
   },
   {
    "duration": 30,
    "start_time": "2022-04-30T09:19:52.755Z"
   },
   {
    "duration": 36,
    "start_time": "2022-04-30T09:19:52.787Z"
   },
   {
    "duration": 287,
    "start_time": "2022-04-30T09:19:52.825Z"
   },
   {
    "duration": 181,
    "start_time": "2022-04-30T09:19:53.113Z"
   },
   {
    "duration": 9,
    "start_time": "2022-04-30T09:19:53.296Z"
   },
   {
    "duration": 19,
    "start_time": "2022-04-30T09:19:53.306Z"
   },
   {
    "duration": 155,
    "start_time": "2022-04-30T09:19:53.327Z"
   },
   {
    "duration": 7,
    "start_time": "2022-04-30T09:19:53.484Z"
   },
   {
    "duration": 12,
    "start_time": "2022-04-30T09:19:53.492Z"
   },
   {
    "duration": 30,
    "start_time": "2022-04-30T09:19:53.505Z"
   },
   {
    "duration": 14,
    "start_time": "2022-04-30T09:19:53.536Z"
   },
   {
    "duration": 5,
    "start_time": "2022-04-30T09:19:53.552Z"
   },
   {
    "duration": 9,
    "start_time": "2022-04-30T09:19:53.559Z"
   },
   {
    "duration": 7,
    "start_time": "2022-04-30T09:19:53.569Z"
   },
   {
    "duration": 53,
    "start_time": "2022-04-30T09:19:53.578Z"
   },
   {
    "duration": 6,
    "start_time": "2022-04-30T09:19:53.633Z"
   },
   {
    "duration": 25,
    "start_time": "2022-04-30T09:19:53.640Z"
   },
   {
    "duration": 6,
    "start_time": "2022-04-30T09:19:53.667Z"
   },
   {
    "duration": 13,
    "start_time": "2022-04-30T09:19:53.675Z"
   },
   {
    "duration": 120,
    "start_time": "2022-04-30T09:19:53.691Z"
   },
   {
    "duration": 0,
    "start_time": "2022-04-30T09:19:53.813Z"
   },
   {
    "duration": 0,
    "start_time": "2022-04-30T09:19:53.814Z"
   },
   {
    "duration": 0,
    "start_time": "2022-04-30T09:19:53.823Z"
   },
   {
    "duration": 24,
    "start_time": "2022-04-30T09:20:42.408Z"
   },
   {
    "duration": 13,
    "start_time": "2022-04-30T09:21:35.203Z"
   },
   {
    "duration": 1130,
    "start_time": "2022-04-30T09:24:35.568Z"
   },
   {
    "duration": 504,
    "start_time": "2022-04-30T09:24:36.700Z"
   },
   {
    "duration": 399,
    "start_time": "2022-04-30T09:24:37.205Z"
   },
   {
    "duration": 36,
    "start_time": "2022-04-30T09:24:37.606Z"
   },
   {
    "duration": 57,
    "start_time": "2022-04-30T09:24:37.644Z"
   },
   {
    "duration": 23,
    "start_time": "2022-04-30T09:24:37.703Z"
   },
   {
    "duration": 109,
    "start_time": "2022-04-30T09:24:37.728Z"
   },
   {
    "duration": 8,
    "start_time": "2022-04-30T09:24:37.839Z"
   },
   {
    "duration": 5,
    "start_time": "2022-04-30T09:24:37.848Z"
   },
   {
    "duration": 6,
    "start_time": "2022-04-30T09:24:37.855Z"
   },
   {
    "duration": 11,
    "start_time": "2022-04-30T09:24:37.862Z"
   },
   {
    "duration": 280,
    "start_time": "2022-04-30T09:24:37.874Z"
   },
   {
    "duration": 49,
    "start_time": "2022-04-30T09:24:38.156Z"
   },
   {
    "duration": 19,
    "start_time": "2022-04-30T09:24:38.206Z"
   },
   {
    "duration": 11,
    "start_time": "2022-04-30T09:24:38.227Z"
   },
   {
    "duration": 71,
    "start_time": "2022-04-30T09:24:38.240Z"
   },
   {
    "duration": 16,
    "start_time": "2022-04-30T09:24:38.312Z"
   },
   {
    "duration": 9,
    "start_time": "2022-04-30T09:24:38.330Z"
   },
   {
    "duration": 15,
    "start_time": "2022-04-30T09:24:38.340Z"
   },
   {
    "duration": 11,
    "start_time": "2022-04-30T09:24:38.357Z"
   },
   {
    "duration": 5,
    "start_time": "2022-04-30T09:24:38.369Z"
   },
   {
    "duration": 10,
    "start_time": "2022-04-30T09:24:38.376Z"
   },
   {
    "duration": 36,
    "start_time": "2022-04-30T09:24:38.388Z"
   },
   {
    "duration": 22,
    "start_time": "2022-04-30T09:24:38.426Z"
   },
   {
    "duration": 6,
    "start_time": "2022-04-30T09:24:38.449Z"
   },
   {
    "duration": 16,
    "start_time": "2022-04-30T09:24:38.456Z"
   },
   {
    "duration": 5,
    "start_time": "2022-04-30T09:24:38.473Z"
   },
   {
    "duration": 43,
    "start_time": "2022-04-30T09:24:38.481Z"
   },
   {
    "duration": 89,
    "start_time": "2022-04-30T09:24:38.526Z"
   },
   {
    "duration": 0,
    "start_time": "2022-04-30T09:24:38.617Z"
   },
   {
    "duration": 0,
    "start_time": "2022-04-30T09:24:38.623Z"
   },
   {
    "duration": 0,
    "start_time": "2022-04-30T09:24:38.624Z"
   },
   {
    "duration": 1177,
    "start_time": "2022-04-30T09:26:36.220Z"
   },
   {
    "duration": 501,
    "start_time": "2022-04-30T09:26:37.399Z"
   },
   {
    "duration": 408,
    "start_time": "2022-04-30T09:26:37.901Z"
   },
   {
    "duration": 33,
    "start_time": "2022-04-30T09:26:38.310Z"
   },
   {
    "duration": 49,
    "start_time": "2022-04-30T09:26:38.346Z"
   },
   {
    "duration": 41,
    "start_time": "2022-04-30T09:26:38.396Z"
   },
   {
    "duration": 105,
    "start_time": "2022-04-30T09:26:38.438Z"
   },
   {
    "duration": 6,
    "start_time": "2022-04-30T09:26:38.545Z"
   },
   {
    "duration": 6,
    "start_time": "2022-04-30T09:26:38.552Z"
   },
   {
    "duration": 7,
    "start_time": "2022-04-30T09:26:38.560Z"
   },
   {
    "duration": 12,
    "start_time": "2022-04-30T09:26:38.569Z"
   },
   {
    "duration": 441,
    "start_time": "2022-04-30T09:26:38.583Z"
   },
   {
    "duration": 123,
    "start_time": "2022-04-30T09:26:39.026Z"
   },
   {
    "duration": 12,
    "start_time": "2022-04-30T09:26:39.153Z"
   },
   {
    "duration": 65,
    "start_time": "2022-04-30T09:26:39.167Z"
   },
   {
    "duration": 110,
    "start_time": "2022-04-30T09:26:39.234Z"
   },
   {
    "duration": 7,
    "start_time": "2022-04-30T09:26:39.346Z"
   },
   {
    "duration": 8,
    "start_time": "2022-04-30T09:26:39.354Z"
   },
   {
    "duration": 66,
    "start_time": "2022-04-30T09:26:39.363Z"
   },
   {
    "duration": 11,
    "start_time": "2022-04-30T09:26:39.431Z"
   },
   {
    "duration": 5,
    "start_time": "2022-04-30T09:26:39.443Z"
   },
   {
    "duration": 10,
    "start_time": "2022-04-30T09:26:39.449Z"
   },
   {
    "duration": 4,
    "start_time": "2022-04-30T09:26:39.460Z"
   },
   {
    "duration": 75,
    "start_time": "2022-04-30T09:26:39.466Z"
   },
   {
    "duration": 5,
    "start_time": "2022-04-30T09:26:39.543Z"
   },
   {
    "duration": 14,
    "start_time": "2022-04-30T09:26:39.549Z"
   },
   {
    "duration": 5,
    "start_time": "2022-04-30T09:26:39.564Z"
   },
   {
    "duration": 65,
    "start_time": "2022-04-30T09:26:39.570Z"
   },
   {
    "duration": 193,
    "start_time": "2022-04-30T09:26:39.637Z"
   },
   {
    "duration": 0,
    "start_time": "2022-04-30T09:26:39.831Z"
   },
   {
    "duration": 0,
    "start_time": "2022-04-30T09:26:39.833Z"
   },
   {
    "duration": 0,
    "start_time": "2022-04-30T09:26:39.834Z"
   },
   {
    "duration": 1210,
    "start_time": "2022-04-30T09:27:56.096Z"
   },
   {
    "duration": 501,
    "start_time": "2022-04-30T09:27:57.309Z"
   },
   {
    "duration": 429,
    "start_time": "2022-04-30T09:27:57.812Z"
   },
   {
    "duration": 24,
    "start_time": "2022-04-30T09:27:58.242Z"
   },
   {
    "duration": 70,
    "start_time": "2022-04-30T09:27:58.269Z"
   },
   {
    "duration": 16,
    "start_time": "2022-04-30T09:27:58.341Z"
   },
   {
    "duration": 115,
    "start_time": "2022-04-30T09:27:58.358Z"
   },
   {
    "duration": 7,
    "start_time": "2022-04-30T09:27:58.475Z"
   },
   {
    "duration": 4,
    "start_time": "2022-04-30T09:27:58.484Z"
   },
   {
    "duration": 7,
    "start_time": "2022-04-30T09:27:58.490Z"
   },
   {
    "duration": 31,
    "start_time": "2022-04-30T09:27:58.498Z"
   },
   {
    "duration": 269,
    "start_time": "2022-04-30T09:27:58.531Z"
   },
   {
    "duration": 62,
    "start_time": "2022-04-30T09:27:58.802Z"
   },
   {
    "duration": 9,
    "start_time": "2022-04-30T09:27:58.867Z"
   },
   {
    "duration": 11,
    "start_time": "2022-04-30T09:27:58.878Z"
   },
   {
    "duration": 94,
    "start_time": "2022-04-30T09:27:58.891Z"
   },
   {
    "duration": 7,
    "start_time": "2022-04-30T09:27:58.986Z"
   },
   {
    "duration": 10,
    "start_time": "2022-04-30T09:27:58.995Z"
   },
   {
    "duration": 27,
    "start_time": "2022-04-30T09:27:59.007Z"
   },
   {
    "duration": 11,
    "start_time": "2022-04-30T09:27:59.036Z"
   },
   {
    "duration": 4,
    "start_time": "2022-04-30T09:27:59.049Z"
   },
   {
    "duration": 9,
    "start_time": "2022-04-30T09:27:59.055Z"
   },
   {
    "duration": 6,
    "start_time": "2022-04-30T09:27:59.065Z"
   },
   {
    "duration": 23,
    "start_time": "2022-04-30T09:27:59.072Z"
   },
   {
    "duration": 6,
    "start_time": "2022-04-30T09:27:59.124Z"
   },
   {
    "duration": 15,
    "start_time": "2022-04-30T09:27:59.132Z"
   },
   {
    "duration": 6,
    "start_time": "2022-04-30T09:27:59.148Z"
   },
   {
    "duration": 12,
    "start_time": "2022-04-30T09:27:59.155Z"
   },
   {
    "duration": 113,
    "start_time": "2022-04-30T09:27:59.169Z"
   },
   {
    "duration": 0,
    "start_time": "2022-04-30T09:27:59.283Z"
   },
   {
    "duration": 0,
    "start_time": "2022-04-30T09:27:59.285Z"
   },
   {
    "duration": 0,
    "start_time": "2022-04-30T09:27:59.286Z"
   },
   {
    "duration": 9,
    "start_time": "2022-04-30T09:28:49.149Z"
   },
   {
    "duration": 9,
    "start_time": "2022-04-30T09:29:14.188Z"
   },
   {
    "duration": 42,
    "start_time": "2022-04-30T09:29:22.576Z"
   },
   {
    "duration": 1179,
    "start_time": "2022-04-30T09:30:19.530Z"
   },
   {
    "duration": 523,
    "start_time": "2022-04-30T09:30:20.711Z"
   },
   {
    "duration": 436,
    "start_time": "2022-04-30T09:30:21.236Z"
   },
   {
    "duration": 25,
    "start_time": "2022-04-30T09:30:21.674Z"
   },
   {
    "duration": 71,
    "start_time": "2022-04-30T09:30:21.701Z"
   },
   {
    "duration": 15,
    "start_time": "2022-04-30T09:30:21.774Z"
   },
   {
    "duration": 121,
    "start_time": "2022-04-30T09:30:21.790Z"
   },
   {
    "duration": 11,
    "start_time": "2022-04-30T09:30:21.913Z"
   },
   {
    "duration": 5,
    "start_time": "2022-04-30T09:30:21.925Z"
   },
   {
    "duration": 6,
    "start_time": "2022-04-30T09:30:21.932Z"
   },
   {
    "duration": 14,
    "start_time": "2022-04-30T09:30:21.939Z"
   },
   {
    "duration": 290,
    "start_time": "2022-04-30T09:30:21.955Z"
   },
   {
    "duration": 173,
    "start_time": "2022-04-30T09:30:22.246Z"
   },
   {
    "duration": 9,
    "start_time": "2022-04-30T09:30:22.423Z"
   },
   {
    "duration": 9,
    "start_time": "2022-04-30T09:30:22.433Z"
   },
   {
    "duration": 163,
    "start_time": "2022-04-30T09:30:22.443Z"
   },
   {
    "duration": 16,
    "start_time": "2022-04-30T09:30:22.608Z"
   },
   {
    "duration": 9,
    "start_time": "2022-04-30T09:30:22.626Z"
   },
   {
    "duration": 16,
    "start_time": "2022-04-30T09:30:22.637Z"
   },
   {
    "duration": 12,
    "start_time": "2022-04-30T09:30:22.655Z"
   },
   {
    "duration": 5,
    "start_time": "2022-04-30T09:30:22.669Z"
   },
   {
    "duration": 8,
    "start_time": "2022-04-30T09:30:22.675Z"
   },
   {
    "duration": 41,
    "start_time": "2022-04-30T09:30:22.686Z"
   },
   {
    "duration": 23,
    "start_time": "2022-04-30T09:30:22.728Z"
   },
   {
    "duration": 6,
    "start_time": "2022-04-30T09:30:22.753Z"
   },
   {
    "duration": 18,
    "start_time": "2022-04-30T09:30:22.760Z"
   },
   {
    "duration": 5,
    "start_time": "2022-04-30T09:30:22.780Z"
   },
   {
    "duration": 41,
    "start_time": "2022-04-30T09:30:22.787Z"
   },
   {
    "duration": 102,
    "start_time": "2022-04-30T09:30:22.830Z"
   },
   {
    "duration": 0,
    "start_time": "2022-04-30T09:30:22.933Z"
   },
   {
    "duration": 0,
    "start_time": "2022-04-30T09:30:22.935Z"
   },
   {
    "duration": 0,
    "start_time": "2022-04-30T09:30:22.936Z"
   },
   {
    "duration": 1136,
    "start_time": "2022-04-30T09:32:58.161Z"
   },
   {
    "duration": 507,
    "start_time": "2022-04-30T09:32:59.299Z"
   },
   {
    "duration": 426,
    "start_time": "2022-04-30T09:32:59.807Z"
   },
   {
    "duration": 25,
    "start_time": "2022-04-30T09:33:00.235Z"
   },
   {
    "duration": 66,
    "start_time": "2022-04-30T09:33:00.262Z"
   },
   {
    "duration": 16,
    "start_time": "2022-04-30T09:33:00.329Z"
   },
   {
    "duration": 110,
    "start_time": "2022-04-30T09:33:00.346Z"
   },
   {
    "duration": 7,
    "start_time": "2022-04-30T09:33:00.458Z"
   },
   {
    "duration": 17,
    "start_time": "2022-04-30T09:33:00.466Z"
   },
   {
    "duration": 7,
    "start_time": "2022-04-30T09:33:00.484Z"
   },
   {
    "duration": 17,
    "start_time": "2022-04-30T09:33:00.493Z"
   },
   {
    "duration": 276,
    "start_time": "2022-04-30T09:33:00.512Z"
   },
   {
    "duration": 165,
    "start_time": "2022-04-30T09:33:00.790Z"
   },
   {
    "duration": 0,
    "start_time": "2022-04-30T09:33:00.957Z"
   },
   {
    "duration": 0,
    "start_time": "2022-04-30T09:33:00.958Z"
   },
   {
    "duration": 0,
    "start_time": "2022-04-30T09:33:00.960Z"
   },
   {
    "duration": 0,
    "start_time": "2022-04-30T09:33:00.961Z"
   },
   {
    "duration": 0,
    "start_time": "2022-04-30T09:33:00.962Z"
   },
   {
    "duration": 0,
    "start_time": "2022-04-30T09:33:00.963Z"
   },
   {
    "duration": 0,
    "start_time": "2022-04-30T09:33:00.964Z"
   },
   {
    "duration": 0,
    "start_time": "2022-04-30T09:33:00.965Z"
   },
   {
    "duration": 0,
    "start_time": "2022-04-30T09:33:00.966Z"
   },
   {
    "duration": 0,
    "start_time": "2022-04-30T09:33:00.966Z"
   },
   {
    "duration": 0,
    "start_time": "2022-04-30T09:33:00.967Z"
   },
   {
    "duration": 0,
    "start_time": "2022-04-30T09:33:00.968Z"
   },
   {
    "duration": 0,
    "start_time": "2022-04-30T09:33:00.969Z"
   },
   {
    "duration": 0,
    "start_time": "2022-04-30T09:33:00.970Z"
   },
   {
    "duration": 0,
    "start_time": "2022-04-30T09:33:00.971Z"
   },
   {
    "duration": 0,
    "start_time": "2022-04-30T09:33:00.972Z"
   },
   {
    "duration": 0,
    "start_time": "2022-04-30T09:33:00.974Z"
   },
   {
    "duration": 0,
    "start_time": "2022-04-30T09:33:00.975Z"
   },
   {
    "duration": 0,
    "start_time": "2022-04-30T09:33:00.976Z"
   },
   {
    "duration": 47,
    "start_time": "2022-04-30T09:33:19.765Z"
   },
   {
    "duration": 1189,
    "start_time": "2022-04-30T09:33:25.607Z"
   },
   {
    "duration": 515,
    "start_time": "2022-04-30T09:33:26.798Z"
   },
   {
    "duration": 416,
    "start_time": "2022-04-30T09:33:27.314Z"
   },
   {
    "duration": 22,
    "start_time": "2022-04-30T09:33:27.731Z"
   },
   {
    "duration": 50,
    "start_time": "2022-04-30T09:33:27.755Z"
   },
   {
    "duration": 18,
    "start_time": "2022-04-30T09:33:27.824Z"
   },
   {
    "duration": 112,
    "start_time": "2022-04-30T09:33:27.843Z"
   },
   {
    "duration": 6,
    "start_time": "2022-04-30T09:33:27.957Z"
   },
   {
    "duration": 5,
    "start_time": "2022-04-30T09:33:27.964Z"
   },
   {
    "duration": 8,
    "start_time": "2022-04-30T09:33:27.971Z"
   },
   {
    "duration": 12,
    "start_time": "2022-04-30T09:33:27.980Z"
   },
   {
    "duration": 295,
    "start_time": "2022-04-30T09:33:27.994Z"
   },
   {
    "duration": 62,
    "start_time": "2022-04-30T09:33:28.291Z"
   },
   {
    "duration": 10,
    "start_time": "2022-04-30T09:33:28.355Z"
   },
   {
    "duration": 9,
    "start_time": "2022-04-30T09:33:28.367Z"
   },
   {
    "duration": 97,
    "start_time": "2022-04-30T09:33:28.377Z"
   },
   {
    "duration": 7,
    "start_time": "2022-04-30T09:33:28.476Z"
   },
   {
    "duration": 11,
    "start_time": "2022-04-30T09:33:28.485Z"
   },
   {
    "duration": 32,
    "start_time": "2022-04-30T09:33:28.497Z"
   },
   {
    "duration": 11,
    "start_time": "2022-04-30T09:33:28.531Z"
   },
   {
    "duration": 4,
    "start_time": "2022-04-30T09:33:28.544Z"
   },
   {
    "duration": 8,
    "start_time": "2022-04-30T09:33:28.550Z"
   },
   {
    "duration": 8,
    "start_time": "2022-04-30T09:33:28.560Z"
   },
   {
    "duration": 22,
    "start_time": "2022-04-30T09:33:28.569Z"
   },
   {
    "duration": 35,
    "start_time": "2022-04-30T09:33:28.592Z"
   },
   {
    "duration": 16,
    "start_time": "2022-04-30T09:33:28.628Z"
   },
   {
    "duration": 5,
    "start_time": "2022-04-30T09:33:28.645Z"
   },
   {
    "duration": 10,
    "start_time": "2022-04-30T09:33:28.652Z"
   },
   {
    "duration": 115,
    "start_time": "2022-04-30T09:33:28.664Z"
   },
   {
    "duration": 0,
    "start_time": "2022-04-30T09:33:28.781Z"
   },
   {
    "duration": 0,
    "start_time": "2022-04-30T09:33:28.783Z"
   },
   {
    "duration": 0,
    "start_time": "2022-04-30T09:33:28.784Z"
   },
   {
    "duration": 345,
    "start_time": "2022-04-30T09:36:32.901Z"
   },
   {
    "duration": 1126,
    "start_time": "2022-04-30T09:36:38.972Z"
   },
   {
    "duration": 524,
    "start_time": "2022-04-30T09:36:40.101Z"
   },
   {
    "duration": 420,
    "start_time": "2022-04-30T09:36:40.627Z"
   },
   {
    "duration": 24,
    "start_time": "2022-04-30T09:36:41.049Z"
   },
   {
    "duration": 74,
    "start_time": "2022-04-30T09:36:41.076Z"
   },
   {
    "duration": 15,
    "start_time": "2022-04-30T09:36:41.151Z"
   },
   {
    "duration": 114,
    "start_time": "2022-04-30T09:36:41.168Z"
   },
   {
    "duration": 7,
    "start_time": "2022-04-30T09:36:41.284Z"
   },
   {
    "duration": 5,
    "start_time": "2022-04-30T09:36:41.292Z"
   },
   {
    "duration": 26,
    "start_time": "2022-04-30T09:36:41.298Z"
   },
   {
    "duration": 12,
    "start_time": "2022-04-30T09:36:41.325Z"
   },
   {
    "duration": 354,
    "start_time": "2022-04-30T09:36:41.339Z"
   },
   {
    "duration": 58,
    "start_time": "2022-04-30T09:36:41.694Z"
   },
   {
    "duration": 9,
    "start_time": "2022-04-30T09:36:41.754Z"
   },
   {
    "duration": 10,
    "start_time": "2022-04-30T09:36:41.765Z"
   },
   {
    "duration": 87,
    "start_time": "2022-04-30T09:36:41.776Z"
   },
   {
    "duration": 7,
    "start_time": "2022-04-30T09:36:41.865Z"
   },
   {
    "duration": 9,
    "start_time": "2022-04-30T09:36:41.874Z"
   },
   {
    "duration": 13,
    "start_time": "2022-04-30T09:36:41.884Z"
   },
   {
    "duration": 31,
    "start_time": "2022-04-30T09:36:41.899Z"
   },
   {
    "duration": 5,
    "start_time": "2022-04-30T09:36:41.931Z"
   },
   {
    "duration": 7,
    "start_time": "2022-04-30T09:36:41.937Z"
   },
   {
    "duration": 4,
    "start_time": "2022-04-30T09:36:41.945Z"
   },
   {
    "duration": 24,
    "start_time": "2022-04-30T09:36:41.951Z"
   },
   {
    "duration": 5,
    "start_time": "2022-04-30T09:36:41.976Z"
   },
   {
    "duration": 45,
    "start_time": "2022-04-30T09:36:41.983Z"
   },
   {
    "duration": 5,
    "start_time": "2022-04-30T09:36:42.029Z"
   },
   {
    "duration": 12,
    "start_time": "2022-04-30T09:36:42.036Z"
   },
   {
    "duration": 109,
    "start_time": "2022-04-30T09:36:42.050Z"
   },
   {
    "duration": 0,
    "start_time": "2022-04-30T09:36:42.160Z"
   },
   {
    "duration": 0,
    "start_time": "2022-04-30T09:36:42.161Z"
   },
   {
    "duration": 0,
    "start_time": "2022-04-30T09:36:42.162Z"
   },
   {
    "duration": 1172,
    "start_time": "2022-04-30T09:44:45.722Z"
   },
   {
    "duration": 512,
    "start_time": "2022-04-30T09:44:46.896Z"
   },
   {
    "duration": 432,
    "start_time": "2022-04-30T09:44:47.410Z"
   },
   {
    "duration": 25,
    "start_time": "2022-04-30T09:44:47.844Z"
   },
   {
    "duration": 55,
    "start_time": "2022-04-30T09:44:47.870Z"
   },
   {
    "duration": 19,
    "start_time": "2022-04-30T09:44:47.926Z"
   },
   {
    "duration": 99,
    "start_time": "2022-04-30T09:44:47.946Z"
   },
   {
    "duration": 6,
    "start_time": "2022-04-30T09:44:48.047Z"
   },
   {
    "duration": 4,
    "start_time": "2022-04-30T09:44:48.055Z"
   },
   {
    "duration": 5,
    "start_time": "2022-04-30T09:44:48.062Z"
   },
   {
    "duration": 11,
    "start_time": "2022-04-30T09:44:48.068Z"
   },
   {
    "duration": 273,
    "start_time": "2022-04-30T09:44:48.081Z"
   },
   {
    "duration": 57,
    "start_time": "2022-04-30T09:44:48.355Z"
   },
   {
    "duration": 12,
    "start_time": "2022-04-30T09:44:48.413Z"
   },
   {
    "duration": 11,
    "start_time": "2022-04-30T09:44:48.427Z"
   },
   {
    "duration": 99,
    "start_time": "2022-04-30T09:44:48.440Z"
   },
   {
    "duration": 7,
    "start_time": "2022-04-30T09:44:48.540Z"
   },
   {
    "duration": 12,
    "start_time": "2022-04-30T09:44:48.548Z"
   },
   {
    "duration": 18,
    "start_time": "2022-04-30T09:44:48.562Z"
   },
   {
    "duration": 12,
    "start_time": "2022-04-30T09:44:48.581Z"
   },
   {
    "duration": 7,
    "start_time": "2022-04-30T09:44:48.623Z"
   },
   {
    "duration": 10,
    "start_time": "2022-04-30T09:44:48.631Z"
   },
   {
    "duration": 6,
    "start_time": "2022-04-30T09:44:48.643Z"
   },
   {
    "duration": 75,
    "start_time": "2022-04-30T09:44:48.651Z"
   },
   {
    "duration": 6,
    "start_time": "2022-04-30T09:44:48.728Z"
   },
   {
    "duration": 21,
    "start_time": "2022-04-30T09:44:48.735Z"
   },
   {
    "duration": 6,
    "start_time": "2022-04-30T09:44:48.758Z"
   },
   {
    "duration": 58,
    "start_time": "2022-04-30T09:44:48.767Z"
   },
   {
    "duration": 98,
    "start_time": "2022-04-30T09:44:48.827Z"
   },
   {
    "duration": 0,
    "start_time": "2022-04-30T09:44:48.927Z"
   },
   {
    "duration": 0,
    "start_time": "2022-04-30T09:44:48.928Z"
   },
   {
    "duration": 0,
    "start_time": "2022-04-30T09:44:48.928Z"
   },
   {
    "duration": 1307,
    "start_time": "2022-04-30T10:00:31.921Z"
   },
   {
    "duration": 551,
    "start_time": "2022-04-30T10:00:33.230Z"
   },
   {
    "duration": 461,
    "start_time": "2022-04-30T10:00:33.782Z"
   },
   {
    "duration": 26,
    "start_time": "2022-04-30T10:00:34.245Z"
   },
   {
    "duration": 77,
    "start_time": "2022-04-30T10:00:34.273Z"
   },
   {
    "duration": 60,
    "start_time": "2022-04-30T10:00:34.352Z"
   },
   {
    "duration": 105,
    "start_time": "2022-04-30T10:00:34.414Z"
   },
   {
    "duration": 8,
    "start_time": "2022-04-30T10:00:34.524Z"
   },
   {
    "duration": 5,
    "start_time": "2022-04-30T10:00:34.534Z"
   },
   {
    "duration": 9,
    "start_time": "2022-04-30T10:00:34.540Z"
   },
   {
    "duration": 13,
    "start_time": "2022-04-30T10:00:34.551Z"
   },
   {
    "duration": 318,
    "start_time": "2022-04-30T10:00:34.566Z"
   },
   {
    "duration": 74,
    "start_time": "2022-04-30T10:00:34.886Z"
   },
   {
    "duration": 10,
    "start_time": "2022-04-30T10:00:34.963Z"
   },
   {
    "duration": 9,
    "start_time": "2022-04-30T10:00:34.975Z"
   },
   {
    "duration": 98,
    "start_time": "2022-04-30T10:00:34.986Z"
   },
   {
    "duration": 6,
    "start_time": "2022-04-30T10:00:35.086Z"
   },
   {
    "duration": 8,
    "start_time": "2022-04-30T10:00:35.094Z"
   },
   {
    "duration": 36,
    "start_time": "2022-04-30T10:00:35.104Z"
   },
   {
    "duration": 14,
    "start_time": "2022-04-30T10:00:35.141Z"
   },
   {
    "duration": 5,
    "start_time": "2022-04-30T10:00:35.157Z"
   },
   {
    "duration": 10,
    "start_time": "2022-04-30T10:00:35.163Z"
   },
   {
    "duration": 7,
    "start_time": "2022-04-30T10:00:35.175Z"
   },
   {
    "duration": 54,
    "start_time": "2022-04-30T10:00:35.184Z"
   },
   {
    "duration": 6,
    "start_time": "2022-04-30T10:00:35.240Z"
   },
   {
    "duration": 17,
    "start_time": "2022-04-30T10:00:35.248Z"
   },
   {
    "duration": 6,
    "start_time": "2022-04-30T10:00:35.267Z"
   },
   {
    "duration": 18,
    "start_time": "2022-04-30T10:00:35.274Z"
   },
   {
    "duration": 205,
    "start_time": "2022-04-30T10:00:35.294Z"
   },
   {
    "duration": 119,
    "start_time": "2022-04-30T10:00:59.336Z"
   },
   {
    "duration": 118,
    "start_time": "2022-04-30T10:01:19.066Z"
   },
   {
    "duration": 126,
    "start_time": "2022-04-30T10:01:33.500Z"
   },
   {
    "duration": 133,
    "start_time": "2022-04-30T10:02:07.339Z"
   },
   {
    "duration": 1134,
    "start_time": "2022-04-30T10:02:42.063Z"
   },
   {
    "duration": 504,
    "start_time": "2022-04-30T10:02:43.199Z"
   },
   {
    "duration": 419,
    "start_time": "2022-04-30T10:02:43.704Z"
   },
   {
    "duration": 28,
    "start_time": "2022-04-30T10:02:44.125Z"
   },
   {
    "duration": 50,
    "start_time": "2022-04-30T10:02:44.155Z"
   },
   {
    "duration": 27,
    "start_time": "2022-04-30T10:02:44.207Z"
   },
   {
    "duration": 112,
    "start_time": "2022-04-30T10:02:44.236Z"
   },
   {
    "duration": 6,
    "start_time": "2022-04-30T10:02:44.350Z"
   },
   {
    "duration": 5,
    "start_time": "2022-04-30T10:02:44.358Z"
   },
   {
    "duration": 8,
    "start_time": "2022-04-30T10:02:44.364Z"
   },
   {
    "duration": 11,
    "start_time": "2022-04-30T10:02:44.373Z"
   },
   {
    "duration": 375,
    "start_time": "2022-04-30T10:02:44.386Z"
   },
   {
    "duration": 61,
    "start_time": "2022-04-30T10:02:44.763Z"
   },
   {
    "duration": 9,
    "start_time": "2022-04-30T10:02:44.827Z"
   },
   {
    "duration": 8,
    "start_time": "2022-04-30T10:02:44.837Z"
   },
   {
    "duration": 85,
    "start_time": "2022-04-30T10:02:44.847Z"
   },
   {
    "duration": 7,
    "start_time": "2022-04-30T10:02:44.933Z"
   },
   {
    "duration": 8,
    "start_time": "2022-04-30T10:02:44.942Z"
   },
   {
    "duration": 13,
    "start_time": "2022-04-30T10:02:44.951Z"
   },
   {
    "duration": 11,
    "start_time": "2022-04-30T10:02:44.966Z"
   },
   {
    "duration": 5,
    "start_time": "2022-04-30T10:02:44.978Z"
   },
   {
    "duration": 41,
    "start_time": "2022-04-30T10:02:44.984Z"
   },
   {
    "duration": 6,
    "start_time": "2022-04-30T10:02:45.026Z"
   },
   {
    "duration": 24,
    "start_time": "2022-04-30T10:02:45.033Z"
   },
   {
    "duration": 6,
    "start_time": "2022-04-30T10:02:45.058Z"
   },
   {
    "duration": 15,
    "start_time": "2022-04-30T10:02:45.065Z"
   },
   {
    "duration": 5,
    "start_time": "2022-04-30T10:02:45.081Z"
   },
   {
    "duration": 45,
    "start_time": "2022-04-30T10:02:45.087Z"
   },
   {
    "duration": 138,
    "start_time": "2022-04-30T10:02:45.134Z"
   },
   {
    "duration": 126,
    "start_time": "2022-04-30T10:02:45.273Z"
   },
   {
    "duration": 154,
    "start_time": "2022-04-30T10:02:59.467Z"
   },
   {
    "duration": 128,
    "start_time": "2022-04-30T10:03:04.903Z"
   },
   {
    "duration": 125,
    "start_time": "2022-04-30T10:03:08.427Z"
   },
   {
    "duration": 1308,
    "start_time": "2022-04-30T10:04:30.396Z"
   },
   {
    "duration": 563,
    "start_time": "2022-04-30T10:04:31.706Z"
   },
   {
    "duration": 445,
    "start_time": "2022-04-30T10:04:32.271Z"
   },
   {
    "duration": 28,
    "start_time": "2022-04-30T10:04:32.724Z"
   },
   {
    "duration": 71,
    "start_time": "2022-04-30T10:04:32.754Z"
   },
   {
    "duration": 19,
    "start_time": "2022-04-30T10:04:32.827Z"
   },
   {
    "duration": 124,
    "start_time": "2022-04-30T10:04:32.848Z"
   },
   {
    "duration": 7,
    "start_time": "2022-04-30T10:04:32.973Z"
   },
   {
    "duration": 22,
    "start_time": "2022-04-30T10:04:32.981Z"
   },
   {
    "duration": 17,
    "start_time": "2022-04-30T10:04:33.005Z"
   },
   {
    "duration": 38,
    "start_time": "2022-04-30T10:04:33.024Z"
   },
   {
    "duration": 274,
    "start_time": "2022-04-30T10:04:33.064Z"
   },
   {
    "duration": 53,
    "start_time": "2022-04-30T10:04:33.339Z"
   },
   {
    "duration": 8,
    "start_time": "2022-04-30T10:04:33.395Z"
   },
   {
    "duration": 22,
    "start_time": "2022-04-30T10:04:33.405Z"
   },
   {
    "duration": 76,
    "start_time": "2022-04-30T10:04:33.429Z"
   },
   {
    "duration": 22,
    "start_time": "2022-04-30T10:04:33.507Z"
   },
   {
    "duration": 9,
    "start_time": "2022-04-30T10:04:33.531Z"
   },
   {
    "duration": 16,
    "start_time": "2022-04-30T10:04:33.542Z"
   },
   {
    "duration": 11,
    "start_time": "2022-04-30T10:04:33.560Z"
   },
   {
    "duration": 4,
    "start_time": "2022-04-30T10:04:33.572Z"
   },
   {
    "duration": 8,
    "start_time": "2022-04-30T10:04:33.578Z"
   },
   {
    "duration": 39,
    "start_time": "2022-04-30T10:04:33.587Z"
   },
   {
    "duration": 23,
    "start_time": "2022-04-30T10:04:33.627Z"
   },
   {
    "duration": 6,
    "start_time": "2022-04-30T10:04:33.651Z"
   },
   {
    "duration": 20,
    "start_time": "2022-04-30T10:04:33.658Z"
   },
   {
    "duration": 6,
    "start_time": "2022-04-30T10:04:33.679Z"
   },
   {
    "duration": 40,
    "start_time": "2022-04-30T10:04:33.687Z"
   },
   {
    "duration": 141,
    "start_time": "2022-04-30T10:04:33.729Z"
   },
   {
    "duration": 128,
    "start_time": "2022-04-30T10:04:33.871Z"
   },
   {
    "duration": 143,
    "start_time": "2022-04-30T10:04:55.420Z"
   },
   {
    "duration": 138,
    "start_time": "2022-04-30T10:05:03.641Z"
   },
   {
    "duration": 134,
    "start_time": "2022-04-30T10:05:08.843Z"
   },
   {
    "duration": 229,
    "start_time": "2022-04-30T10:05:19.782Z"
   },
   {
    "duration": 243,
    "start_time": "2022-04-30T10:05:28.415Z"
   },
   {
    "duration": 163,
    "start_time": "2022-04-30T10:05:33.195Z"
   },
   {
    "duration": 18,
    "start_time": "2022-04-30T10:09:54.145Z"
   },
   {
    "duration": 13,
    "start_time": "2022-04-30T10:11:12.537Z"
   },
   {
    "duration": 8,
    "start_time": "2022-04-30T10:11:35.162Z"
   },
   {
    "duration": 142,
    "start_time": "2022-04-30T10:11:58.713Z"
   },
   {
    "duration": 1201,
    "start_time": "2022-04-30T10:14:35.896Z"
   },
   {
    "duration": 504,
    "start_time": "2022-04-30T10:14:37.099Z"
   },
   {
    "duration": 426,
    "start_time": "2022-04-30T10:14:37.604Z"
   },
   {
    "duration": 25,
    "start_time": "2022-04-30T10:14:38.032Z"
   },
   {
    "duration": 73,
    "start_time": "2022-04-30T10:14:38.059Z"
   },
   {
    "duration": 17,
    "start_time": "2022-04-30T10:14:38.134Z"
   },
   {
    "duration": 190,
    "start_time": "2022-04-30T10:14:38.152Z"
   },
   {
    "duration": 0,
    "start_time": "2022-04-30T10:14:38.344Z"
   },
   {
    "duration": 0,
    "start_time": "2022-04-30T10:14:38.345Z"
   },
   {
    "duration": 0,
    "start_time": "2022-04-30T10:14:38.346Z"
   },
   {
    "duration": 0,
    "start_time": "2022-04-30T10:14:38.347Z"
   },
   {
    "duration": 0,
    "start_time": "2022-04-30T10:14:38.348Z"
   },
   {
    "duration": 0,
    "start_time": "2022-04-30T10:14:38.349Z"
   },
   {
    "duration": 0,
    "start_time": "2022-04-30T10:14:38.350Z"
   },
   {
    "duration": 0,
    "start_time": "2022-04-30T10:14:38.351Z"
   },
   {
    "duration": 0,
    "start_time": "2022-04-30T10:14:38.352Z"
   },
   {
    "duration": 0,
    "start_time": "2022-04-30T10:14:38.353Z"
   },
   {
    "duration": 1,
    "start_time": "2022-04-30T10:14:38.354Z"
   },
   {
    "duration": 0,
    "start_time": "2022-04-30T10:14:38.356Z"
   },
   {
    "duration": 0,
    "start_time": "2022-04-30T10:14:38.357Z"
   },
   {
    "duration": 0,
    "start_time": "2022-04-30T10:14:38.358Z"
   },
   {
    "duration": 0,
    "start_time": "2022-04-30T10:14:38.359Z"
   },
   {
    "duration": 0,
    "start_time": "2022-04-30T10:14:38.360Z"
   },
   {
    "duration": 0,
    "start_time": "2022-04-30T10:14:38.361Z"
   },
   {
    "duration": 0,
    "start_time": "2022-04-30T10:14:38.362Z"
   },
   {
    "duration": 0,
    "start_time": "2022-04-30T10:14:38.363Z"
   },
   {
    "duration": 0,
    "start_time": "2022-04-30T10:14:38.364Z"
   },
   {
    "duration": 0,
    "start_time": "2022-04-30T10:14:38.365Z"
   },
   {
    "duration": 0,
    "start_time": "2022-04-30T10:14:38.366Z"
   },
   {
    "duration": 0,
    "start_time": "2022-04-30T10:14:38.367Z"
   },
   {
    "duration": 0,
    "start_time": "2022-04-30T10:14:38.368Z"
   },
   {
    "duration": 0,
    "start_time": "2022-04-30T10:14:38.369Z"
   },
   {
    "duration": 1146,
    "start_time": "2022-04-30T10:14:55.852Z"
   },
   {
    "duration": 513,
    "start_time": "2022-04-30T10:14:57.001Z"
   },
   {
    "duration": 419,
    "start_time": "2022-04-30T10:14:57.516Z"
   },
   {
    "duration": 26,
    "start_time": "2022-04-30T10:14:57.937Z"
   },
   {
    "duration": 75,
    "start_time": "2022-04-30T10:14:57.965Z"
   },
   {
    "duration": 17,
    "start_time": "2022-04-30T10:14:58.042Z"
   },
   {
    "duration": 183,
    "start_time": "2022-04-30T10:14:58.061Z"
   },
   {
    "duration": 0,
    "start_time": "2022-04-30T10:14:58.246Z"
   },
   {
    "duration": 0,
    "start_time": "2022-04-30T10:14:58.247Z"
   },
   {
    "duration": 0,
    "start_time": "2022-04-30T10:14:58.248Z"
   },
   {
    "duration": 0,
    "start_time": "2022-04-30T10:14:58.249Z"
   },
   {
    "duration": 0,
    "start_time": "2022-04-30T10:14:58.250Z"
   },
   {
    "duration": 0,
    "start_time": "2022-04-30T10:14:58.251Z"
   },
   {
    "duration": 0,
    "start_time": "2022-04-30T10:14:58.252Z"
   },
   {
    "duration": 0,
    "start_time": "2022-04-30T10:14:58.253Z"
   },
   {
    "duration": 0,
    "start_time": "2022-04-30T10:14:58.254Z"
   },
   {
    "duration": 0,
    "start_time": "2022-04-30T10:14:58.255Z"
   },
   {
    "duration": 0,
    "start_time": "2022-04-30T10:14:58.255Z"
   },
   {
    "duration": 0,
    "start_time": "2022-04-30T10:14:58.257Z"
   },
   {
    "duration": 0,
    "start_time": "2022-04-30T10:14:58.258Z"
   },
   {
    "duration": 0,
    "start_time": "2022-04-30T10:14:58.259Z"
   },
   {
    "duration": 0,
    "start_time": "2022-04-30T10:14:58.260Z"
   },
   {
    "duration": 0,
    "start_time": "2022-04-30T10:14:58.260Z"
   },
   {
    "duration": 0,
    "start_time": "2022-04-30T10:14:58.261Z"
   },
   {
    "duration": 0,
    "start_time": "2022-04-30T10:14:58.262Z"
   },
   {
    "duration": 0,
    "start_time": "2022-04-30T10:14:58.263Z"
   },
   {
    "duration": 0,
    "start_time": "2022-04-30T10:14:58.264Z"
   },
   {
    "duration": 0,
    "start_time": "2022-04-30T10:14:58.265Z"
   },
   {
    "duration": 0,
    "start_time": "2022-04-30T10:14:58.266Z"
   },
   {
    "duration": 0,
    "start_time": "2022-04-30T10:14:58.266Z"
   },
   {
    "duration": 0,
    "start_time": "2022-04-30T10:14:58.267Z"
   },
   {
    "duration": 0,
    "start_time": "2022-04-30T10:14:58.268Z"
   },
   {
    "duration": 185,
    "start_time": "2022-04-30T10:15:24.997Z"
   },
   {
    "duration": 39,
    "start_time": "2022-04-30T10:15:26.663Z"
   },
   {
    "duration": 5,
    "start_time": "2022-04-30T10:15:26.988Z"
   },
   {
    "duration": 6,
    "start_time": "2022-04-30T10:15:28.507Z"
   },
   {
    "duration": 13,
    "start_time": "2022-04-30T10:15:28.917Z"
   },
   {
    "duration": 278,
    "start_time": "2022-04-30T10:15:29.742Z"
   },
   {
    "duration": 380,
    "start_time": "2022-04-30T10:15:30.251Z"
   },
   {
    "duration": 10,
    "start_time": "2022-04-30T10:15:31.299Z"
   },
   {
    "duration": 7,
    "start_time": "2022-04-30T10:15:31.530Z"
   },
   {
    "duration": 73,
    "start_time": "2022-04-30T10:15:32.308Z"
   },
   {
    "duration": 7,
    "start_time": "2022-04-30T10:15:32.541Z"
   },
   {
    "duration": 10,
    "start_time": "2022-04-30T10:15:33.058Z"
   },
   {
    "duration": 16,
    "start_time": "2022-04-30T10:15:33.275Z"
   },
   {
    "duration": 13,
    "start_time": "2022-04-30T10:15:33.873Z"
   },
   {
    "duration": 5,
    "start_time": "2022-04-30T10:15:34.165Z"
   },
   {
    "duration": 8,
    "start_time": "2022-04-30T10:15:34.708Z"
   },
   {
    "duration": 10,
    "start_time": "2022-04-30T10:15:35.960Z"
   },
   {
    "duration": 24,
    "start_time": "2022-04-30T10:15:36.948Z"
   },
   {
    "duration": 6,
    "start_time": "2022-04-30T10:15:40.281Z"
   },
   {
    "duration": 16,
    "start_time": "2022-04-30T10:15:42.191Z"
   },
   {
    "duration": 7,
    "start_time": "2022-04-30T10:15:43.597Z"
   },
   {
    "duration": 187,
    "start_time": "2022-04-30T10:15:44.110Z"
   },
   {
    "duration": 165,
    "start_time": "2022-04-30T10:15:44.610Z"
   },
   {
    "duration": 303,
    "start_time": "2022-04-30T10:15:47.141Z"
   },
   {
    "duration": 305,
    "start_time": "2022-04-30T10:17:06.586Z"
   },
   {
    "duration": 249,
    "start_time": "2022-04-30T10:17:50.312Z"
   },
   {
    "duration": 165,
    "start_time": "2022-04-30T10:18:43.672Z"
   },
   {
    "duration": 158,
    "start_time": "2022-04-30T10:18:45.163Z"
   },
   {
    "duration": 263,
    "start_time": "2022-04-30T10:19:08.316Z"
   },
   {
    "duration": 255,
    "start_time": "2022-04-30T10:19:33.713Z"
   },
   {
    "duration": 6,
    "start_time": "2022-04-30T10:22:32.970Z"
   },
   {
    "duration": 280,
    "start_time": "2022-04-30T10:23:42.881Z"
   },
   {
    "duration": 1181,
    "start_time": "2022-04-30T10:23:51.627Z"
   },
   {
    "duration": 539,
    "start_time": "2022-04-30T10:23:52.810Z"
   },
   {
    "duration": 437,
    "start_time": "2022-04-30T10:23:53.351Z"
   },
   {
    "duration": 24,
    "start_time": "2022-04-30T10:23:53.790Z"
   },
   {
    "duration": 52,
    "start_time": "2022-04-30T10:23:53.823Z"
   },
   {
    "duration": 52,
    "start_time": "2022-04-30T10:23:53.877Z"
   },
   {
    "duration": 251,
    "start_time": "2022-04-30T10:23:53.931Z"
   },
   {
    "duration": 51,
    "start_time": "2022-04-30T10:23:54.184Z"
   },
   {
    "duration": 6,
    "start_time": "2022-04-30T10:23:54.237Z"
   },
   {
    "duration": 9,
    "start_time": "2022-04-30T10:23:54.245Z"
   },
   {
    "duration": 12,
    "start_time": "2022-04-30T10:23:54.256Z"
   },
   {
    "duration": 306,
    "start_time": "2022-04-30T10:23:54.270Z"
   },
   {
    "duration": 504,
    "start_time": "2022-04-30T10:23:54.578Z"
   },
   {
    "duration": 9,
    "start_time": "2022-04-30T10:23:55.084Z"
   },
   {
    "duration": 8,
    "start_time": "2022-04-30T10:23:55.095Z"
   },
   {
    "duration": 83,
    "start_time": "2022-04-30T10:23:55.105Z"
   },
   {
    "duration": 8,
    "start_time": "2022-04-30T10:23:55.191Z"
   },
   {
    "duration": 26,
    "start_time": "2022-04-30T10:23:55.200Z"
   },
   {
    "duration": 14,
    "start_time": "2022-04-30T10:23:55.228Z"
   },
   {
    "duration": 10,
    "start_time": "2022-04-30T10:23:55.244Z"
   },
   {
    "duration": 5,
    "start_time": "2022-04-30T10:23:55.255Z"
   },
   {
    "duration": 7,
    "start_time": "2022-04-30T10:23:55.261Z"
   },
   {
    "duration": 6,
    "start_time": "2022-04-30T10:23:55.270Z"
   },
   {
    "duration": 54,
    "start_time": "2022-04-30T10:23:55.278Z"
   },
   {
    "duration": 5,
    "start_time": "2022-04-30T10:23:55.334Z"
   },
   {
    "duration": 14,
    "start_time": "2022-04-30T10:23:55.341Z"
   },
   {
    "duration": 5,
    "start_time": "2022-04-30T10:23:55.356Z"
   },
   {
    "duration": 203,
    "start_time": "2022-04-30T10:23:55.363Z"
   },
   {
    "duration": 164,
    "start_time": "2022-04-30T10:23:55.568Z"
   },
   {
    "duration": 249,
    "start_time": "2022-04-30T10:23:55.734Z"
   },
   {
    "duration": 246,
    "start_time": "2022-04-30T10:23:55.984Z"
   },
   {
    "duration": 16,
    "start_time": "2022-04-30T10:23:56.232Z"
   },
   {
    "duration": 21,
    "start_time": "2022-04-30T10:23:56.250Z"
   },
   {
    "duration": 125,
    "start_time": "2022-04-30T10:23:56.273Z"
   },
   {
    "duration": 1153,
    "start_time": "2022-04-30T10:24:26.342Z"
   },
   {
    "duration": 508,
    "start_time": "2022-04-30T10:24:27.496Z"
   },
   {
    "duration": 431,
    "start_time": "2022-04-30T10:24:28.006Z"
   },
   {
    "duration": 26,
    "start_time": "2022-04-30T10:24:28.439Z"
   },
   {
    "duration": 66,
    "start_time": "2022-04-30T10:24:28.466Z"
   },
   {
    "duration": 18,
    "start_time": "2022-04-30T10:24:28.533Z"
   },
   {
    "duration": 212,
    "start_time": "2022-04-30T10:24:28.552Z"
   },
   {
    "duration": 37,
    "start_time": "2022-04-30T10:24:28.766Z"
   },
   {
    "duration": 19,
    "start_time": "2022-04-30T10:24:28.805Z"
   },
   {
    "duration": 6,
    "start_time": "2022-04-30T10:24:28.827Z"
   },
   {
    "duration": 12,
    "start_time": "2022-04-30T10:24:28.836Z"
   },
   {
    "duration": 311,
    "start_time": "2022-04-30T10:24:28.849Z"
   },
   {
    "duration": 402,
    "start_time": "2022-04-30T10:24:29.162Z"
   },
   {
    "duration": 9,
    "start_time": "2022-04-30T10:24:29.565Z"
   },
   {
    "duration": 13,
    "start_time": "2022-04-30T10:24:29.575Z"
   },
   {
    "duration": 90,
    "start_time": "2022-04-30T10:24:29.589Z"
   },
   {
    "duration": 6,
    "start_time": "2022-04-30T10:24:29.681Z"
   },
   {
    "duration": 10,
    "start_time": "2022-04-30T10:24:29.688Z"
   },
   {
    "duration": 29,
    "start_time": "2022-04-30T10:24:29.700Z"
   },
   {
    "duration": 12,
    "start_time": "2022-04-30T10:24:29.730Z"
   },
   {
    "duration": 7,
    "start_time": "2022-04-30T10:24:29.744Z"
   },
   {
    "duration": 19,
    "start_time": "2022-04-30T10:24:29.752Z"
   },
   {
    "duration": 12,
    "start_time": "2022-04-30T10:24:29.773Z"
   },
   {
    "duration": 38,
    "start_time": "2022-04-30T10:24:29.786Z"
   },
   {
    "duration": 6,
    "start_time": "2022-04-30T10:24:29.826Z"
   },
   {
    "duration": 23,
    "start_time": "2022-04-30T10:24:29.833Z"
   },
   {
    "duration": 6,
    "start_time": "2022-04-30T10:24:29.857Z"
   },
   {
    "duration": 201,
    "start_time": "2022-04-30T10:24:29.866Z"
   },
   {
    "duration": 169,
    "start_time": "2022-04-30T10:24:30.068Z"
   },
   {
    "duration": 251,
    "start_time": "2022-04-30T10:24:30.239Z"
   },
   {
    "duration": 250,
    "start_time": "2022-04-30T10:24:30.492Z"
   },
   {
    "duration": 18,
    "start_time": "2022-04-30T10:24:30.744Z"
   },
   {
    "duration": 8,
    "start_time": "2022-04-30T10:24:30.764Z"
   },
   {
    "duration": 115,
    "start_time": "2022-04-30T10:24:30.774Z"
   },
   {
    "duration": 6,
    "start_time": "2022-04-30T10:25:15.112Z"
   },
   {
    "duration": 17,
    "start_time": "2022-04-30T10:25:36.533Z"
   },
   {
    "duration": 1254,
    "start_time": "2022-04-30T10:26:19.058Z"
   },
   {
    "duration": 579,
    "start_time": "2022-04-30T10:26:20.314Z"
   },
   {
    "duration": 483,
    "start_time": "2022-04-30T10:26:20.898Z"
   },
   {
    "duration": 44,
    "start_time": "2022-04-30T10:26:21.382Z"
   },
   {
    "duration": 52,
    "start_time": "2022-04-30T10:26:21.428Z"
   },
   {
    "duration": 17,
    "start_time": "2022-04-30T10:26:21.482Z"
   },
   {
    "duration": 234,
    "start_time": "2022-04-30T10:26:21.501Z"
   },
   {
    "duration": 38,
    "start_time": "2022-04-30T10:26:21.737Z"
   },
   {
    "duration": 4,
    "start_time": "2022-04-30T10:26:21.778Z"
   },
   {
    "duration": 8,
    "start_time": "2022-04-30T10:26:21.783Z"
   },
   {
    "duration": 33,
    "start_time": "2022-04-30T10:26:21.792Z"
   },
   {
    "duration": 310,
    "start_time": "2022-04-30T10:26:21.827Z"
   },
   {
    "duration": 392,
    "start_time": "2022-04-30T10:26:22.139Z"
   },
   {
    "duration": 11,
    "start_time": "2022-04-30T10:26:22.532Z"
   },
   {
    "duration": 12,
    "start_time": "2022-04-30T10:26:22.544Z"
   },
   {
    "duration": 101,
    "start_time": "2022-04-30T10:26:22.558Z"
   },
   {
    "duration": 7,
    "start_time": "2022-04-30T10:26:22.662Z"
   },
   {
    "duration": 10,
    "start_time": "2022-04-30T10:26:22.671Z"
   },
   {
    "duration": 43,
    "start_time": "2022-04-30T10:26:22.682Z"
   },
   {
    "duration": 14,
    "start_time": "2022-04-30T10:26:22.727Z"
   },
   {
    "duration": 5,
    "start_time": "2022-04-30T10:26:22.743Z"
   },
   {
    "duration": 14,
    "start_time": "2022-04-30T10:26:22.749Z"
   },
   {
    "duration": 8,
    "start_time": "2022-04-30T10:26:22.765Z"
   },
   {
    "duration": 49,
    "start_time": "2022-04-30T10:26:22.775Z"
   },
   {
    "duration": 6,
    "start_time": "2022-04-30T10:26:22.827Z"
   },
   {
    "duration": 25,
    "start_time": "2022-04-30T10:26:22.835Z"
   },
   {
    "duration": 8,
    "start_time": "2022-04-30T10:26:22.864Z"
   },
   {
    "duration": 241,
    "start_time": "2022-04-30T10:26:22.873Z"
   },
   {
    "duration": 204,
    "start_time": "2022-04-30T10:26:23.116Z"
   },
   {
    "duration": 288,
    "start_time": "2022-04-30T10:26:23.323Z"
   },
   {
    "duration": 331,
    "start_time": "2022-04-30T10:26:23.613Z"
   },
   {
    "duration": 17,
    "start_time": "2022-04-30T10:26:23.946Z"
   },
   {
    "duration": 18,
    "start_time": "2022-04-30T10:26:23.965Z"
   },
   {
    "duration": 123,
    "start_time": "2022-04-30T10:26:23.984Z"
   },
   {
    "duration": 15,
    "start_time": "2022-04-30T10:27:09.274Z"
   },
   {
    "duration": 20,
    "start_time": "2022-04-30T10:27:26.813Z"
   },
   {
    "duration": 21,
    "start_time": "2022-04-30T10:27:56.069Z"
   },
   {
    "duration": 85,
    "start_time": "2022-04-30T10:29:17.235Z"
   },
   {
    "duration": 244,
    "start_time": "2022-04-30T10:29:42.264Z"
   },
   {
    "duration": 79,
    "start_time": "2022-04-30T10:29:43.683Z"
   },
   {
    "duration": 336,
    "start_time": "2022-04-30T10:29:51.917Z"
   },
   {
    "duration": 51,
    "start_time": "2022-04-30T10:29:52.370Z"
   },
   {
    "duration": 25,
    "start_time": "2022-04-30T10:32:26.452Z"
   },
   {
    "duration": 1291,
    "start_time": "2022-04-30T10:33:05.616Z"
   },
   {
    "duration": 555,
    "start_time": "2022-04-30T10:33:06.909Z"
   },
   {
    "duration": 429,
    "start_time": "2022-04-30T10:33:07.465Z"
   },
   {
    "duration": 42,
    "start_time": "2022-04-30T10:33:07.896Z"
   },
   {
    "duration": 49,
    "start_time": "2022-04-30T10:33:07.941Z"
   },
   {
    "duration": 34,
    "start_time": "2022-04-30T10:33:07.991Z"
   },
   {
    "duration": 217,
    "start_time": "2022-04-30T10:33:08.027Z"
   },
   {
    "duration": 78,
    "start_time": "2022-04-30T10:33:08.245Z"
   },
   {
    "duration": 5,
    "start_time": "2022-04-30T10:33:08.326Z"
   },
   {
    "duration": 7,
    "start_time": "2022-04-30T10:33:08.332Z"
   },
   {
    "duration": 12,
    "start_time": "2022-04-30T10:33:08.341Z"
   },
   {
    "duration": 596,
    "start_time": "2022-04-30T10:33:08.354Z"
   },
   {
    "duration": 796,
    "start_time": "2022-04-30T10:33:08.951Z"
   },
   {
    "duration": 8,
    "start_time": "2022-04-30T10:33:09.750Z"
   },
   {
    "duration": 8,
    "start_time": "2022-04-30T10:33:09.759Z"
   },
   {
    "duration": 121,
    "start_time": "2022-04-30T10:33:09.824Z"
   },
   {
    "duration": 7,
    "start_time": "2022-04-30T10:33:09.946Z"
   },
   {
    "duration": 9,
    "start_time": "2022-04-30T10:33:09.954Z"
   },
   {
    "duration": 67,
    "start_time": "2022-04-30T10:33:09.964Z"
   },
   {
    "duration": 12,
    "start_time": "2022-04-30T10:33:10.033Z"
   },
   {
    "duration": 4,
    "start_time": "2022-04-30T10:33:10.046Z"
   },
   {
    "duration": 9,
    "start_time": "2022-04-30T10:33:10.052Z"
   },
   {
    "duration": 70,
    "start_time": "2022-04-30T10:33:10.062Z"
   },
   {
    "duration": 30,
    "start_time": "2022-04-30T10:33:10.134Z"
   },
   {
    "duration": 5,
    "start_time": "2022-04-30T10:33:10.166Z"
   },
   {
    "duration": 59,
    "start_time": "2022-04-30T10:33:10.173Z"
   },
   {
    "duration": 7,
    "start_time": "2022-04-30T10:33:10.234Z"
   },
   {
    "duration": 204,
    "start_time": "2022-04-30T10:33:10.242Z"
   },
   {
    "duration": 172,
    "start_time": "2022-04-30T10:33:10.448Z"
   },
   {
    "duration": 260,
    "start_time": "2022-04-30T10:33:10.621Z"
   },
   {
    "duration": 360,
    "start_time": "2022-04-30T10:33:10.883Z"
   },
   {
    "duration": 16,
    "start_time": "2022-04-30T10:33:11.244Z"
   },
   {
    "duration": 10,
    "start_time": "2022-04-30T10:33:11.261Z"
   },
   {
    "duration": 116,
    "start_time": "2022-04-30T10:33:11.272Z"
   },
   {
    "duration": 15,
    "start_time": "2022-04-30T10:33:24.222Z"
   },
   {
    "duration": 1243,
    "start_time": "2022-04-30T10:36:42.704Z"
   },
   {
    "duration": 560,
    "start_time": "2022-04-30T10:36:43.949Z"
   },
   {
    "duration": 446,
    "start_time": "2022-04-30T10:36:44.511Z"
   },
   {
    "duration": 25,
    "start_time": "2022-04-30T10:36:44.960Z"
   },
   {
    "duration": 77,
    "start_time": "2022-04-30T10:36:44.986Z"
   },
   {
    "duration": 16,
    "start_time": "2022-04-30T10:36:45.065Z"
   },
   {
    "duration": 235,
    "start_time": "2022-04-30T10:36:45.082Z"
   },
   {
    "duration": 48,
    "start_time": "2022-04-30T10:36:45.319Z"
   },
   {
    "duration": 5,
    "start_time": "2022-04-30T10:36:45.369Z"
   },
   {
    "duration": 11,
    "start_time": "2022-04-30T10:36:45.377Z"
   },
   {
    "duration": 350,
    "start_time": "2022-04-30T10:36:45.389Z"
   },
   {
    "duration": 785,
    "start_time": "2022-04-30T10:36:45.740Z"
   },
   {
    "duration": 12,
    "start_time": "2022-04-30T10:36:46.526Z"
   },
   {
    "duration": 12,
    "start_time": "2022-04-30T10:36:46.540Z"
   },
   {
    "duration": 171,
    "start_time": "2022-04-30T10:36:46.554Z"
   },
   {
    "duration": 10,
    "start_time": "2022-04-30T10:36:46.727Z"
   },
   {
    "duration": 20,
    "start_time": "2022-04-30T10:36:46.739Z"
   },
   {
    "duration": 64,
    "start_time": "2022-04-30T10:36:46.761Z"
   },
   {
    "duration": 16,
    "start_time": "2022-04-30T10:36:46.827Z"
   },
   {
    "duration": 7,
    "start_time": "2022-04-30T10:36:46.844Z"
   },
   {
    "duration": 16,
    "start_time": "2022-04-30T10:36:46.853Z"
   },
   {
    "duration": 57,
    "start_time": "2022-04-30T10:36:46.871Z"
   },
   {
    "duration": 36,
    "start_time": "2022-04-30T10:36:46.930Z"
   },
   {
    "duration": 5,
    "start_time": "2022-04-30T10:36:46.968Z"
   },
   {
    "duration": 66,
    "start_time": "2022-04-30T10:36:46.975Z"
   },
   {
    "duration": 11,
    "start_time": "2022-04-30T10:36:47.043Z"
   },
   {
    "duration": 401,
    "start_time": "2022-04-30T10:36:47.056Z"
   },
   {
    "duration": 320,
    "start_time": "2022-04-30T10:36:47.460Z"
   },
   {
    "duration": 289,
    "start_time": "2022-04-30T10:36:47.782Z"
   },
   {
    "duration": 264,
    "start_time": "2022-04-30T10:36:48.073Z"
   },
   {
    "duration": 18,
    "start_time": "2022-04-30T10:36:48.339Z"
   },
   {
    "duration": 9,
    "start_time": "2022-04-30T10:36:48.358Z"
   },
   {
    "duration": 115,
    "start_time": "2022-04-30T10:36:48.368Z"
   },
   {
    "duration": 12,
    "start_time": "2022-04-30T10:39:15.135Z"
   },
   {
    "duration": 14,
    "start_time": "2022-04-30T10:39:15.700Z"
   },
   {
    "duration": 11,
    "start_time": "2022-04-30T10:39:16.587Z"
   },
   {
    "duration": 6,
    "start_time": "2022-04-30T10:39:17.389Z"
   },
   {
    "duration": 10,
    "start_time": "2022-04-30T10:39:18.635Z"
   },
   {
    "duration": 1313,
    "start_time": "2022-04-30T10:39:43.748Z"
   },
   {
    "duration": 573,
    "start_time": "2022-04-30T10:39:45.063Z"
   },
   {
    "duration": 452,
    "start_time": "2022-04-30T10:39:45.638Z"
   },
   {
    "duration": 46,
    "start_time": "2022-04-30T10:39:46.092Z"
   },
   {
    "duration": 56,
    "start_time": "2022-04-30T10:39:46.142Z"
   },
   {
    "duration": 31,
    "start_time": "2022-04-30T10:39:46.200Z"
   },
   {
    "duration": 235,
    "start_time": "2022-04-30T10:39:46.233Z"
   },
   {
    "duration": 39,
    "start_time": "2022-04-30T10:39:46.470Z"
   },
   {
    "duration": 16,
    "start_time": "2022-04-30T10:39:46.511Z"
   },
   {
    "duration": 36,
    "start_time": "2022-04-30T10:39:46.528Z"
   },
   {
    "duration": 274,
    "start_time": "2022-04-30T10:39:46.565Z"
   },
   {
    "duration": 387,
    "start_time": "2022-04-30T10:39:46.841Z"
   },
   {
    "duration": 10,
    "start_time": "2022-04-30T10:39:47.231Z"
   },
   {
    "duration": 16,
    "start_time": "2022-04-30T10:39:47.246Z"
   },
   {
    "duration": 82,
    "start_time": "2022-04-30T10:39:47.264Z"
   },
   {
    "duration": 6,
    "start_time": "2022-04-30T10:39:47.349Z"
   },
   {
    "duration": 13,
    "start_time": "2022-04-30T10:39:47.357Z"
   },
   {
    "duration": 13,
    "start_time": "2022-04-30T10:39:47.371Z"
   },
   {
    "duration": 11,
    "start_time": "2022-04-30T10:39:47.385Z"
   },
   {
    "duration": 5,
    "start_time": "2022-04-30T10:39:47.397Z"
   },
   {
    "duration": 33,
    "start_time": "2022-04-30T10:39:47.403Z"
   },
   {
    "duration": 35,
    "start_time": "2022-04-30T10:39:47.438Z"
   },
   {
    "duration": 5,
    "start_time": "2022-04-30T10:39:47.474Z"
   },
   {
    "duration": 14,
    "start_time": "2022-04-30T10:39:47.481Z"
   },
   {
    "duration": 4,
    "start_time": "2022-04-30T10:39:47.497Z"
   },
   {
    "duration": 200,
    "start_time": "2022-04-30T10:39:47.502Z"
   },
   {
    "duration": 179,
    "start_time": "2022-04-30T10:39:47.704Z"
   },
   {
    "duration": 270,
    "start_time": "2022-04-30T10:39:47.884Z"
   },
   {
    "duration": 255,
    "start_time": "2022-04-30T10:39:48.156Z"
   },
   {
    "duration": 30,
    "start_time": "2022-04-30T10:39:48.413Z"
   },
   {
    "duration": 14,
    "start_time": "2022-04-30T10:39:48.447Z"
   },
   {
    "duration": 108,
    "start_time": "2022-04-30T10:39:48.462Z"
   },
   {
    "duration": 13,
    "start_time": "2022-04-30T10:40:07.685Z"
   },
   {
    "duration": 154,
    "start_time": "2022-04-30T10:40:21.303Z"
   },
   {
    "duration": 4,
    "start_time": "2022-04-30T10:40:23.878Z"
   },
   {
    "duration": 12,
    "start_time": "2022-04-30T10:40:53.905Z"
   },
   {
    "duration": 11,
    "start_time": "2022-04-30T10:41:50.211Z"
   },
   {
    "duration": 11,
    "start_time": "2022-04-30T10:41:54.681Z"
   },
   {
    "duration": 16,
    "start_time": "2022-04-30T10:43:05.822Z"
   },
   {
    "duration": 28,
    "start_time": "2022-04-30T10:43:14.501Z"
   },
   {
    "duration": 28,
    "start_time": "2022-04-30T10:43:21.134Z"
   },
   {
    "duration": 25,
    "start_time": "2022-04-30T10:44:55.289Z"
   },
   {
    "duration": 14,
    "start_time": "2022-04-30T10:50:25.405Z"
   },
   {
    "duration": 23,
    "start_time": "2022-04-30T10:50:31.129Z"
   },
   {
    "duration": 27,
    "start_time": "2022-04-30T10:50:38.451Z"
   },
   {
    "duration": 27,
    "start_time": "2022-04-30T10:51:19.907Z"
   },
   {
    "duration": 45,
    "start_time": "2022-04-30T10:52:59.108Z"
   },
   {
    "duration": 475,
    "start_time": "2022-04-30T10:53:07.817Z"
   },
   {
    "duration": 22,
    "start_time": "2022-04-30T10:54:22.974Z"
   },
   {
    "duration": 406,
    "start_time": "2022-04-30T10:54:27.641Z"
   },
   {
    "duration": 397,
    "start_time": "2022-04-30T10:54:34.631Z"
   },
   {
    "duration": 378,
    "start_time": "2022-04-30T10:55:45.647Z"
   },
   {
    "duration": 396,
    "start_time": "2022-04-30T10:56:19.906Z"
   },
   {
    "duration": 477,
    "start_time": "2022-04-30T10:56:26.232Z"
   },
   {
    "duration": 180,
    "start_time": "2022-04-30T10:57:14.565Z"
   },
   {
    "duration": 29,
    "start_time": "2022-04-30T10:57:33.412Z"
   },
   {
    "duration": 12,
    "start_time": "2022-04-30T10:57:43.270Z"
   },
   {
    "duration": 12,
    "start_time": "2022-04-30T10:58:26.146Z"
   },
   {
    "duration": 8,
    "start_time": "2022-04-30T11:00:40.653Z"
   },
   {
    "duration": 112,
    "start_time": "2022-04-30T11:00:44.920Z"
   },
   {
    "duration": 1350,
    "start_time": "2022-05-01T08:48:20.625Z"
   },
   {
    "duration": 518,
    "start_time": "2022-05-01T08:48:21.977Z"
   },
   {
    "duration": 378,
    "start_time": "2022-05-01T08:48:22.496Z"
   },
   {
    "duration": 37,
    "start_time": "2022-05-01T08:48:22.876Z"
   },
   {
    "duration": 46,
    "start_time": "2022-05-01T08:48:22.915Z"
   },
   {
    "duration": 15,
    "start_time": "2022-05-01T08:48:22.962Z"
   },
   {
    "duration": 217,
    "start_time": "2022-05-01T08:48:22.978Z"
   },
   {
    "duration": 49,
    "start_time": "2022-05-01T08:48:23.197Z"
   },
   {
    "duration": 5,
    "start_time": "2022-05-01T08:48:23.248Z"
   },
   {
    "duration": 11,
    "start_time": "2022-05-01T08:48:23.256Z"
   },
   {
    "duration": 342,
    "start_time": "2022-05-01T08:48:23.269Z"
   },
   {
    "duration": 698,
    "start_time": "2022-05-01T08:48:23.613Z"
   },
   {
    "duration": 8,
    "start_time": "2022-05-01T08:48:24.313Z"
   },
   {
    "duration": 11,
    "start_time": "2022-05-01T08:48:24.323Z"
   },
   {
    "duration": 113,
    "start_time": "2022-05-01T08:48:24.335Z"
   },
   {
    "duration": 7,
    "start_time": "2022-05-01T08:48:24.500Z"
   },
   {
    "duration": 11,
    "start_time": "2022-05-01T08:48:24.509Z"
   },
   {
    "duration": 14,
    "start_time": "2022-05-01T08:48:24.521Z"
   },
   {
    "duration": 10,
    "start_time": "2022-05-01T08:48:24.536Z"
   },
   {
    "duration": 54,
    "start_time": "2022-05-01T08:48:24.548Z"
   },
   {
    "duration": 8,
    "start_time": "2022-05-01T08:48:24.604Z"
   },
   {
    "duration": 21,
    "start_time": "2022-05-01T08:48:24.613Z"
   },
   {
    "duration": 5,
    "start_time": "2022-05-01T08:48:24.635Z"
   },
   {
    "duration": 67,
    "start_time": "2022-05-01T08:48:24.641Z"
   },
   {
    "duration": 5,
    "start_time": "2022-05-01T08:48:24.709Z"
   },
   {
    "duration": 342,
    "start_time": "2022-05-01T08:48:24.715Z"
   },
   {
    "duration": 158,
    "start_time": "2022-05-01T08:48:25.059Z"
   },
   {
    "duration": 350,
    "start_time": "2022-05-01T08:48:25.220Z"
   },
   {
    "duration": 4,
    "start_time": "2022-05-01T08:48:25.571Z"
   },
   {
    "duration": 24,
    "start_time": "2022-05-01T08:48:25.577Z"
   },
   {
    "duration": 14,
    "start_time": "2022-05-01T08:48:25.603Z"
   },
   {
    "duration": 98,
    "start_time": "2022-05-01T08:48:25.618Z"
   },
   {
    "duration": 3322,
    "start_time": "2022-05-01T08:50:57.678Z"
   },
   {
    "duration": 12,
    "start_time": "2022-05-01T08:51:09.991Z"
   },
   {
    "duration": 11,
    "start_time": "2022-05-01T08:51:30.419Z"
   },
   {
    "duration": 12,
    "start_time": "2022-05-01T08:52:54.440Z"
   },
   {
    "duration": 198,
    "start_time": "2022-05-01T08:53:57.262Z"
   },
   {
    "duration": 10,
    "start_time": "2022-05-01T08:54:00.634Z"
   },
   {
    "duration": 19,
    "start_time": "2022-05-01T08:54:19.393Z"
   },
   {
    "duration": 16,
    "start_time": "2022-05-01T08:54:40.005Z"
   },
   {
    "duration": 19,
    "start_time": "2022-05-01T08:54:50.063Z"
   },
   {
    "duration": 88,
    "start_time": "2022-05-01T08:55:17.656Z"
   },
   {
    "duration": 18,
    "start_time": "2022-05-01T08:55:51.344Z"
   },
   {
    "duration": 15,
    "start_time": "2022-05-01T08:55:55.463Z"
   },
   {
    "duration": 3137,
    "start_time": "2022-05-01T08:56:00.025Z"
   },
   {
    "duration": 15,
    "start_time": "2022-05-01T08:56:07.062Z"
   },
   {
    "duration": 17,
    "start_time": "2022-05-01T08:56:14.765Z"
   },
   {
    "duration": 19,
    "start_time": "2022-05-01T08:56:31.698Z"
   },
   {
    "duration": 15,
    "start_time": "2022-05-01T08:56:55.405Z"
   },
   {
    "duration": 21,
    "start_time": "2022-05-01T08:57:01.349Z"
   },
   {
    "duration": 23,
    "start_time": "2022-05-01T08:58:47.686Z"
   },
   {
    "duration": 31,
    "start_time": "2022-05-01T08:59:42.406Z"
   },
   {
    "duration": 36,
    "start_time": "2022-05-01T09:00:32.193Z"
   },
   {
    "duration": 3580,
    "start_time": "2022-05-01T09:01:08.831Z"
   },
   {
    "duration": 35,
    "start_time": "2022-05-01T09:01:29.200Z"
   },
   {
    "duration": 3085,
    "start_time": "2022-05-01T09:01:34.928Z"
   },
   {
    "duration": 8,
    "start_time": "2022-05-01T09:02:03.497Z"
   },
   {
    "duration": 38,
    "start_time": "2022-05-01T09:02:16.175Z"
   },
   {
    "duration": 168,
    "start_time": "2022-05-01T09:03:15.363Z"
   },
   {
    "duration": 210,
    "start_time": "2022-05-01T09:04:32.336Z"
   },
   {
    "duration": 182,
    "start_time": "2022-05-01T09:04:43.474Z"
   },
   {
    "duration": 212,
    "start_time": "2022-05-01T09:04:51.562Z"
   },
   {
    "duration": 130,
    "start_time": "2022-05-01T09:05:18.813Z"
   },
   {
    "duration": 209,
    "start_time": "2022-05-01T09:05:26.113Z"
   },
   {
    "duration": 135,
    "start_time": "2022-05-01T09:06:04.464Z"
   },
   {
    "duration": 136,
    "start_time": "2022-05-01T09:06:34.912Z"
   },
   {
    "duration": 134,
    "start_time": "2022-05-01T09:06:41.204Z"
   },
   {
    "duration": 218,
    "start_time": "2022-05-01T09:06:56.388Z"
   },
   {
    "duration": 200,
    "start_time": "2022-05-01T09:09:59.726Z"
   },
   {
    "duration": 285,
    "start_time": "2022-05-01T09:10:22.225Z"
   },
   {
    "duration": 11,
    "start_time": "2022-05-01T09:20:09.888Z"
   },
   {
    "duration": 8,
    "start_time": "2022-05-01T09:21:11.368Z"
   },
   {
    "duration": 8,
    "start_time": "2022-05-01T09:21:16.023Z"
   },
   {
    "duration": 18,
    "start_time": "2022-05-01T09:21:25.406Z"
   },
   {
    "duration": 16,
    "start_time": "2022-05-01T09:22:04.766Z"
   },
   {
    "duration": 20,
    "start_time": "2022-05-01T09:22:09.226Z"
   },
   {
    "duration": 11,
    "start_time": "2022-05-01T09:24:20.475Z"
   },
   {
    "duration": 10,
    "start_time": "2022-05-01T09:24:40.851Z"
   },
   {
    "duration": 25,
    "start_time": "2022-05-01T09:25:09.558Z"
   },
   {
    "duration": 4,
    "start_time": "2022-05-01T09:25:15.605Z"
   },
   {
    "duration": 9,
    "start_time": "2022-05-01T09:26:27.533Z"
   },
   {
    "duration": 8,
    "start_time": "2022-05-01T09:29:21.825Z"
   },
   {
    "duration": 9,
    "start_time": "2022-05-01T09:31:47.121Z"
   },
   {
    "duration": 11,
    "start_time": "2022-05-01T09:44:41.724Z"
   },
   {
    "duration": 15,
    "start_time": "2022-05-01T09:45:19.393Z"
   },
   {
    "duration": 16,
    "start_time": "2022-05-01T09:51:12.616Z"
   },
   {
    "duration": 14,
    "start_time": "2022-05-01T09:52:06.050Z"
   },
   {
    "duration": 18,
    "start_time": "2022-05-01T09:52:27.376Z"
   },
   {
    "duration": 161,
    "start_time": "2022-05-01T10:13:01.563Z"
   },
   {
    "duration": 12,
    "start_time": "2022-05-01T10:13:26.090Z"
   },
   {
    "duration": 20,
    "start_time": "2022-05-01T10:13:54.323Z"
   },
   {
    "duration": 27,
    "start_time": "2022-05-01T10:14:01.371Z"
   },
   {
    "duration": 19,
    "start_time": "2022-05-01T10:14:25.343Z"
   },
   {
    "duration": 27,
    "start_time": "2022-05-01T10:14:41.031Z"
   },
   {
    "duration": 1150,
    "start_time": "2022-05-01T10:16:02.810Z"
   },
   {
    "duration": 499,
    "start_time": "2022-05-01T10:16:03.961Z"
   },
   {
    "duration": 372,
    "start_time": "2022-05-01T10:16:04.462Z"
   },
   {
    "duration": 24,
    "start_time": "2022-05-01T10:16:04.835Z"
   },
   {
    "duration": 70,
    "start_time": "2022-05-01T10:16:04.861Z"
   },
   {
    "duration": 15,
    "start_time": "2022-05-01T10:16:04.932Z"
   },
   {
    "duration": 198,
    "start_time": "2022-05-01T10:16:04.949Z"
   },
   {
    "duration": 54,
    "start_time": "2022-05-01T10:16:05.149Z"
   },
   {
    "duration": 5,
    "start_time": "2022-05-01T10:16:05.205Z"
   },
   {
    "duration": 11,
    "start_time": "2022-05-01T10:16:05.211Z"
   },
   {
    "duration": 249,
    "start_time": "2022-05-01T10:16:05.224Z"
   },
   {
    "duration": 344,
    "start_time": "2022-05-01T10:16:05.475Z"
   },
   {
    "duration": 9,
    "start_time": "2022-05-01T10:16:05.821Z"
   },
   {
    "duration": 8,
    "start_time": "2022-05-01T10:16:05.832Z"
   },
   {
    "duration": 81,
    "start_time": "2022-05-01T10:16:05.842Z"
   },
   {
    "duration": 6,
    "start_time": "2022-05-01T10:16:05.925Z"
   },
   {
    "duration": 8,
    "start_time": "2022-05-01T10:16:05.932Z"
   },
   {
    "duration": 13,
    "start_time": "2022-05-01T10:16:05.941Z"
   },
   {
    "duration": 9,
    "start_time": "2022-05-01T10:16:05.955Z"
   },
   {
    "duration": 4,
    "start_time": "2022-05-01T10:16:05.966Z"
   },
   {
    "duration": 5,
    "start_time": "2022-05-01T10:16:06.000Z"
   },
   {
    "duration": 21,
    "start_time": "2022-05-01T10:16:06.007Z"
   },
   {
    "duration": 5,
    "start_time": "2022-05-01T10:16:06.030Z"
   },
   {
    "duration": 13,
    "start_time": "2022-05-01T10:16:06.037Z"
   },
   {
    "duration": 5,
    "start_time": "2022-05-01T10:16:06.051Z"
   },
   {
    "duration": 208,
    "start_time": "2022-05-01T10:16:06.058Z"
   },
   {
    "duration": 162,
    "start_time": "2022-05-01T10:16:06.268Z"
   },
   {
    "duration": 84810,
    "start_time": "2022-05-01T10:16:06.431Z"
   },
   {
    "duration": 187,
    "start_time": "2022-05-01T10:17:31.243Z"
   },
   {
    "duration": 0,
    "start_time": "2022-05-01T10:17:31.432Z"
   },
   {
    "duration": 0,
    "start_time": "2022-05-01T10:17:31.433Z"
   },
   {
    "duration": 0,
    "start_time": "2022-05-01T10:17:31.435Z"
   },
   {
    "duration": 0,
    "start_time": "2022-05-01T10:17:31.436Z"
   },
   {
    "duration": 0,
    "start_time": "2022-05-01T10:17:31.437Z"
   },
   {
    "duration": 0,
    "start_time": "2022-05-01T10:17:31.439Z"
   },
   {
    "duration": 0,
    "start_time": "2022-05-01T10:17:31.440Z"
   },
   {
    "duration": 20,
    "start_time": "2022-05-01T10:19:41.774Z"
   },
   {
    "duration": 14,
    "start_time": "2022-05-01T10:19:45.885Z"
   },
   {
    "duration": 28,
    "start_time": "2022-05-01T10:19:59.573Z"
   },
   {
    "duration": 24,
    "start_time": "2022-05-01T10:20:56.141Z"
   },
   {
    "duration": 15,
    "start_time": "2022-05-01T10:22:18.121Z"
   },
   {
    "duration": 23,
    "start_time": "2022-05-01T10:22:24.737Z"
   },
   {
    "duration": 180,
    "start_time": "2022-05-01T10:23:05.003Z"
   },
   {
    "duration": 20,
    "start_time": "2022-05-01T10:23:11.866Z"
   },
   {
    "duration": 19,
    "start_time": "2022-05-01T10:23:35.207Z"
   },
   {
    "duration": 18,
    "start_time": "2022-05-01T10:24:21.573Z"
   },
   {
    "duration": 25,
    "start_time": "2022-05-01T10:24:43.993Z"
   },
   {
    "duration": 18,
    "start_time": "2022-05-01T10:25:11.909Z"
   },
   {
    "duration": 117,
    "start_time": "2022-05-01T10:25:14.949Z"
   },
   {
    "duration": 19,
    "start_time": "2022-05-01T10:25:34.585Z"
   },
   {
    "duration": 19,
    "start_time": "2022-05-01T10:25:43.850Z"
   },
   {
    "duration": 21,
    "start_time": "2022-05-01T10:25:58.245Z"
   },
   {
    "duration": 314,
    "start_time": "2022-05-01T10:26:23.491Z"
   },
   {
    "duration": 304,
    "start_time": "2022-05-01T10:26:53.209Z"
   },
   {
    "duration": 300,
    "start_time": "2022-05-01T10:28:04.753Z"
   },
   {
    "duration": 1128,
    "start_time": "2022-05-01T10:30:21.539Z"
   },
   {
    "duration": 524,
    "start_time": "2022-05-01T10:30:22.670Z"
   },
   {
    "duration": 415,
    "start_time": "2022-05-01T10:30:23.196Z"
   },
   {
    "duration": 36,
    "start_time": "2022-05-01T10:30:23.612Z"
   },
   {
    "duration": 100,
    "start_time": "2022-05-01T10:30:23.651Z"
   },
   {
    "duration": 20,
    "start_time": "2022-05-01T10:30:23.753Z"
   },
   {
    "duration": 348,
    "start_time": "2022-05-01T10:30:23.775Z"
   },
   {
    "duration": 45,
    "start_time": "2022-05-01T10:30:24.125Z"
   },
   {
    "duration": 5,
    "start_time": "2022-05-01T10:30:24.171Z"
   },
   {
    "duration": 30,
    "start_time": "2022-05-01T10:30:24.177Z"
   },
   {
    "duration": 247,
    "start_time": "2022-05-01T10:30:24.208Z"
   },
   {
    "duration": 401,
    "start_time": "2022-05-01T10:30:24.456Z"
   },
   {
    "duration": 12,
    "start_time": "2022-05-01T10:30:24.859Z"
   },
   {
    "duration": 10,
    "start_time": "2022-05-01T10:30:24.874Z"
   },
   {
    "duration": 65,
    "start_time": "2022-05-01T10:30:24.900Z"
   },
   {
    "duration": 6,
    "start_time": "2022-05-01T10:30:24.966Z"
   },
   {
    "duration": 29,
    "start_time": "2022-05-01T10:30:24.974Z"
   },
   {
    "duration": 13,
    "start_time": "2022-05-01T10:30:25.005Z"
   },
   {
    "duration": 11,
    "start_time": "2022-05-01T10:30:25.020Z"
   },
   {
    "duration": 5,
    "start_time": "2022-05-01T10:30:25.032Z"
   },
   {
    "duration": 9,
    "start_time": "2022-05-01T10:30:25.038Z"
   },
   {
    "duration": 57,
    "start_time": "2022-05-01T10:30:25.048Z"
   },
   {
    "duration": 5,
    "start_time": "2022-05-01T10:30:25.107Z"
   },
   {
    "duration": 14,
    "start_time": "2022-05-01T10:30:25.114Z"
   },
   {
    "duration": 5,
    "start_time": "2022-05-01T10:30:25.130Z"
   },
   {
    "duration": 21,
    "start_time": "2022-05-01T10:30:25.136Z"
   },
   {
    "duration": 342,
    "start_time": "2022-05-01T10:30:25.159Z"
   },
   {
    "duration": 349,
    "start_time": "2022-05-01T10:30:25.502Z"
   },
   {
    "duration": 5,
    "start_time": "2022-05-01T10:30:25.852Z"
   },
   {
    "duration": 107,
    "start_time": "2022-05-01T10:30:25.859Z"
   },
   {
    "duration": 0,
    "start_time": "2022-05-01T10:30:25.968Z"
   },
   {
    "duration": 0,
    "start_time": "2022-05-01T10:30:25.969Z"
   },
   {
    "duration": 0,
    "start_time": "2022-05-01T10:30:25.970Z"
   },
   {
    "duration": 0,
    "start_time": "2022-05-01T10:30:25.971Z"
   },
   {
    "duration": 0,
    "start_time": "2022-05-01T10:30:25.972Z"
   },
   {
    "duration": 34,
    "start_time": "2022-05-01T10:31:04.170Z"
   },
   {
    "duration": 201,
    "start_time": "2022-05-01T10:31:08.766Z"
   },
   {
    "duration": 24,
    "start_time": "2022-05-01T10:31:19.146Z"
   },
   {
    "duration": 4,
    "start_time": "2022-05-01T10:31:19.298Z"
   },
   {
    "duration": 18,
    "start_time": "2022-05-01T10:31:20.287Z"
   },
   {
    "duration": 13,
    "start_time": "2022-05-01T10:34:54.646Z"
   },
   {
    "duration": 12,
    "start_time": "2022-05-01T10:35:42.394Z"
   },
   {
    "duration": 16,
    "start_time": "2022-05-01T10:36:01.447Z"
   },
   {
    "duration": 10,
    "start_time": "2022-05-01T10:36:12.383Z"
   },
   {
    "duration": 5,
    "start_time": "2022-05-01T10:36:27.814Z"
   },
   {
    "duration": 3349,
    "start_time": "2022-05-01T10:36:49.682Z"
   },
   {
    "duration": 9,
    "start_time": "2022-05-01T10:37:01.131Z"
   },
   {
    "duration": 5,
    "start_time": "2022-05-01T10:37:13.874Z"
   },
   {
    "duration": 3,
    "start_time": "2022-05-01T10:51:34.927Z"
   },
   {
    "duration": 9,
    "start_time": "2022-05-01T10:51:38.941Z"
   },
   {
    "duration": 7,
    "start_time": "2022-05-01T10:52:56.783Z"
   },
   {
    "duration": 5,
    "start_time": "2022-05-01T10:53:10.894Z"
   },
   {
    "duration": 6,
    "start_time": "2022-05-01T10:53:25.418Z"
   },
   {
    "duration": 1139,
    "start_time": "2022-05-01T11:07:50.117Z"
   },
   {
    "duration": 524,
    "start_time": "2022-05-01T11:07:51.258Z"
   },
   {
    "duration": 378,
    "start_time": "2022-05-01T11:07:51.783Z"
   },
   {
    "duration": 38,
    "start_time": "2022-05-01T11:07:52.163Z"
   },
   {
    "duration": 47,
    "start_time": "2022-05-01T11:07:52.202Z"
   },
   {
    "duration": 14,
    "start_time": "2022-05-01T11:07:52.251Z"
   },
   {
    "duration": 208,
    "start_time": "2022-05-01T11:07:52.266Z"
   },
   {
    "duration": 52,
    "start_time": "2022-05-01T11:07:52.475Z"
   },
   {
    "duration": 6,
    "start_time": "2022-05-01T11:07:52.528Z"
   },
   {
    "duration": 11,
    "start_time": "2022-05-01T11:07:52.538Z"
   },
   {
    "duration": 264,
    "start_time": "2022-05-01T11:07:52.551Z"
   },
   {
    "duration": 349,
    "start_time": "2022-05-01T11:07:52.817Z"
   },
   {
    "duration": 10,
    "start_time": "2022-05-01T11:07:53.167Z"
   },
   {
    "duration": 21,
    "start_time": "2022-05-01T11:07:53.179Z"
   },
   {
    "duration": 63,
    "start_time": "2022-05-01T11:07:53.202Z"
   },
   {
    "duration": 7,
    "start_time": "2022-05-01T11:07:53.267Z"
   },
   {
    "duration": 26,
    "start_time": "2022-05-01T11:07:53.275Z"
   },
   {
    "duration": 14,
    "start_time": "2022-05-01T11:07:53.303Z"
   },
   {
    "duration": 11,
    "start_time": "2022-05-01T11:07:53.319Z"
   },
   {
    "duration": 5,
    "start_time": "2022-05-01T11:07:53.331Z"
   },
   {
    "duration": 7,
    "start_time": "2022-05-01T11:07:53.338Z"
   },
   {
    "duration": 21,
    "start_time": "2022-05-01T11:07:53.347Z"
   },
   {
    "duration": 6,
    "start_time": "2022-05-01T11:07:53.400Z"
   },
   {
    "duration": 17,
    "start_time": "2022-05-01T11:07:53.408Z"
   },
   {
    "duration": 10,
    "start_time": "2022-05-01T11:07:53.426Z"
   },
   {
    "duration": 323,
    "start_time": "2022-05-01T11:07:53.437Z"
   },
   {
    "duration": 342,
    "start_time": "2022-05-01T11:07:53.762Z"
   },
   {
    "duration": 5,
    "start_time": "2022-05-01T11:07:54.106Z"
   },
   {
    "duration": 51,
    "start_time": "2022-05-01T11:07:54.112Z"
   },
   {
    "duration": 198,
    "start_time": "2022-05-01T11:07:54.165Z"
   },
   {
    "duration": 36,
    "start_time": "2022-05-01T11:07:54.364Z"
   },
   {
    "duration": 4,
    "start_time": "2022-05-01T11:07:54.401Z"
   },
   {
    "duration": 38,
    "start_time": "2022-05-01T11:07:54.407Z"
   },
   {
    "duration": 1330,
    "start_time": "2022-05-02T06:47:20.518Z"
   },
   {
    "duration": 610,
    "start_time": "2022-05-02T06:47:21.850Z"
   },
   {
    "duration": 462,
    "start_time": "2022-05-02T06:47:22.462Z"
   },
   {
    "duration": 33,
    "start_time": "2022-05-02T06:47:22.925Z"
   },
   {
    "duration": 75,
    "start_time": "2022-05-02T06:47:22.960Z"
   },
   {
    "duration": 15,
    "start_time": "2022-05-02T06:47:23.037Z"
   },
   {
    "duration": 241,
    "start_time": "2022-05-02T06:47:23.054Z"
   },
   {
    "duration": 62,
    "start_time": "2022-05-02T06:47:23.296Z"
   },
   {
    "duration": 5,
    "start_time": "2022-05-02T06:47:23.359Z"
   },
   {
    "duration": 17,
    "start_time": "2022-05-02T06:47:23.366Z"
   },
   {
    "duration": 303,
    "start_time": "2022-05-02T06:47:23.384Z"
   },
   {
    "duration": 388,
    "start_time": "2022-05-02T06:47:23.689Z"
   },
   {
    "duration": 10,
    "start_time": "2022-05-02T06:47:24.078Z"
   },
   {
    "duration": 16,
    "start_time": "2022-05-02T06:47:24.089Z"
   },
   {
    "duration": 88,
    "start_time": "2022-05-02T06:47:24.106Z"
   },
   {
    "duration": 7,
    "start_time": "2022-05-02T06:47:24.196Z"
   },
   {
    "duration": 16,
    "start_time": "2022-05-02T06:47:24.204Z"
   },
   {
    "duration": 25,
    "start_time": "2022-05-02T06:47:24.222Z"
   },
   {
    "duration": 12,
    "start_time": "2022-05-02T06:47:24.248Z"
   },
   {
    "duration": 6,
    "start_time": "2022-05-02T06:47:24.261Z"
   },
   {
    "duration": 8,
    "start_time": "2022-05-02T06:47:24.268Z"
   },
   {
    "duration": 24,
    "start_time": "2022-05-02T06:47:24.278Z"
   },
   {
    "duration": 6,
    "start_time": "2022-05-02T06:47:24.334Z"
   },
   {
    "duration": 20,
    "start_time": "2022-05-02T06:47:24.342Z"
   },
   {
    "duration": 11,
    "start_time": "2022-05-02T06:47:24.363Z"
   },
   {
    "duration": 403,
    "start_time": "2022-05-02T06:47:24.375Z"
   },
   {
    "duration": 444,
    "start_time": "2022-05-02T06:47:24.780Z"
   },
   {
    "duration": 5,
    "start_time": "2022-05-02T06:47:25.233Z"
   },
   {
    "duration": 45,
    "start_time": "2022-05-02T06:47:25.240Z"
   },
   {
    "duration": 286,
    "start_time": "2022-05-02T06:47:25.286Z"
   },
   {
    "duration": 30,
    "start_time": "2022-05-02T06:47:25.574Z"
   },
   {
    "duration": 4,
    "start_time": "2022-05-02T06:47:25.606Z"
   },
   {
    "duration": 38,
    "start_time": "2022-05-02T06:47:25.612Z"
   },
   {
    "duration": 69,
    "start_time": "2022-05-02T07:33:10.927Z"
   },
   {
    "duration": 1877,
    "start_time": "2022-05-02T07:33:17.884Z"
   },
   {
    "duration": 685,
    "start_time": "2022-05-02T07:33:22.384Z"
   },
   {
    "duration": 1492,
    "start_time": "2022-05-02T07:33:28.763Z"
   },
   {
    "duration": 705,
    "start_time": "2022-05-02T07:33:30.258Z"
   },
   {
    "duration": 590,
    "start_time": "2022-05-02T07:33:30.965Z"
   },
   {
    "duration": 41,
    "start_time": "2022-05-02T07:33:31.558Z"
   },
   {
    "duration": 100,
    "start_time": "2022-05-02T07:33:31.602Z"
   },
   {
    "duration": 22,
    "start_time": "2022-05-02T07:33:31.704Z"
   },
   {
    "duration": 332,
    "start_time": "2022-05-02T07:33:31.728Z"
   },
   {
    "duration": 64,
    "start_time": "2022-05-02T07:33:32.062Z"
   },
   {
    "duration": 6,
    "start_time": "2022-05-02T07:33:32.128Z"
   },
   {
    "duration": 16,
    "start_time": "2022-05-02T07:33:32.154Z"
   },
   {
    "duration": 379,
    "start_time": "2022-05-02T07:33:32.172Z"
   },
   {
    "duration": 525,
    "start_time": "2022-05-02T07:33:32.554Z"
   },
   {
    "duration": 14,
    "start_time": "2022-05-02T07:33:33.081Z"
   },
   {
    "duration": 13,
    "start_time": "2022-05-02T07:33:33.097Z"
   },
   {
    "duration": 120,
    "start_time": "2022-05-02T07:33:33.112Z"
   },
   {
    "duration": 17,
    "start_time": "2022-05-02T07:33:33.234Z"
   },
   {
    "duration": 16,
    "start_time": "2022-05-02T07:33:33.253Z"
   },
   {
    "duration": 19,
    "start_time": "2022-05-02T07:33:33.271Z"
   },
   {
    "duration": 15,
    "start_time": "2022-05-02T07:33:33.292Z"
   },
   {
    "duration": 7,
    "start_time": "2022-05-02T07:33:33.309Z"
   },
   {
    "duration": 9,
    "start_time": "2022-05-02T07:33:33.352Z"
   },
   {
    "duration": 32,
    "start_time": "2022-05-02T07:33:33.363Z"
   },
   {
    "duration": 7,
    "start_time": "2022-05-02T07:33:33.398Z"
   },
   {
    "duration": 61,
    "start_time": "2022-05-02T07:33:33.408Z"
   },
   {
    "duration": 16,
    "start_time": "2022-05-02T07:33:33.471Z"
   },
   {
    "duration": 590,
    "start_time": "2022-05-02T07:33:33.490Z"
   },
   {
    "duration": 637,
    "start_time": "2022-05-02T07:33:34.082Z"
   },
   {
    "duration": 6,
    "start_time": "2022-05-02T07:33:34.724Z"
   },
   {
    "duration": 72,
    "start_time": "2022-05-02T07:33:34.733Z"
   },
   {
    "duration": 403,
    "start_time": "2022-05-02T07:33:34.807Z"
   },
   {
    "duration": 52,
    "start_time": "2022-05-02T07:33:35.213Z"
   },
   {
    "duration": 6,
    "start_time": "2022-05-02T07:33:35.268Z"
   },
   {
    "duration": 31,
    "start_time": "2022-05-02T07:33:35.276Z"
   },
   {
    "duration": 169,
    "start_time": "2022-05-02T07:34:34.537Z"
   },
   {
    "duration": 30,
    "start_time": "2022-05-02T07:37:09.955Z"
   },
   {
    "duration": 797,
    "start_time": "2022-05-02T07:37:48.513Z"
   },
   {
    "duration": 481,
    "start_time": "2022-05-02T07:37:51.233Z"
   },
   {
    "duration": 1629,
    "start_time": "2022-05-02T07:38:24.997Z"
   },
   {
    "duration": 963,
    "start_time": "2022-05-02T07:38:26.629Z"
   },
   {
    "duration": 460,
    "start_time": "2022-05-02T07:38:27.594Z"
   },
   {
    "duration": 40,
    "start_time": "2022-05-02T07:38:28.057Z"
   },
   {
    "duration": 89,
    "start_time": "2022-05-02T07:38:28.100Z"
   },
   {
    "duration": 20,
    "start_time": "2022-05-02T07:38:28.191Z"
   },
   {
    "duration": 9,
    "start_time": "2022-05-02T07:38:28.213Z"
   },
   {
    "duration": 32,
    "start_time": "2022-05-02T07:38:28.223Z"
   },
   {
    "duration": 16,
    "start_time": "2022-05-02T07:38:28.257Z"
   },
   {
    "duration": 375,
    "start_time": "2022-05-02T07:38:28.276Z"
   },
   {
    "duration": 71,
    "start_time": "2022-05-02T07:38:28.654Z"
   },
   {
    "duration": 29,
    "start_time": "2022-05-02T07:38:28.728Z"
   },
   {
    "duration": 13,
    "start_time": "2022-05-02T07:38:28.759Z"
   },
   {
    "duration": 112,
    "start_time": "2022-05-02T07:38:28.774Z"
   },
   {
    "duration": 9,
    "start_time": "2022-05-02T07:38:28.888Z"
   },
   {
    "duration": 14,
    "start_time": "2022-05-02T07:38:28.899Z"
   },
   {
    "duration": 47,
    "start_time": "2022-05-02T07:38:28.915Z"
   },
   {
    "duration": 16,
    "start_time": "2022-05-02T07:38:28.964Z"
   },
   {
    "duration": 7,
    "start_time": "2022-05-02T07:38:28.981Z"
   },
   {
    "duration": 10,
    "start_time": "2022-05-02T07:38:28.989Z"
   },
   {
    "duration": 66,
    "start_time": "2022-05-02T07:38:29.001Z"
   },
   {
    "duration": 7,
    "start_time": "2022-05-02T07:38:29.070Z"
   },
   {
    "duration": 27,
    "start_time": "2022-05-02T07:38:29.079Z"
   },
   {
    "duration": 15,
    "start_time": "2022-05-02T07:38:29.109Z"
   },
   {
    "duration": 561,
    "start_time": "2022-05-02T07:38:29.151Z"
   },
   {
    "duration": 1573,
    "start_time": "2022-05-02T07:42:12.697Z"
   },
   {
    "duration": 826,
    "start_time": "2022-05-02T07:42:14.272Z"
   },
   {
    "duration": 464,
    "start_time": "2022-05-02T07:42:15.101Z"
   },
   {
    "duration": 142,
    "start_time": "2022-05-02T07:42:22.350Z"
   },
   {
    "duration": 1552,
    "start_time": "2022-05-02T07:42:37.877Z"
   },
   {
    "duration": 2549,
    "start_time": "2022-05-02T07:45:35.175Z"
   },
   {
    "duration": 6,
    "start_time": "2022-05-02T07:45:52.096Z"
   },
   {
    "duration": 816,
    "start_time": "2022-05-02T07:45:53.301Z"
   },
   {
    "duration": 459,
    "start_time": "2022-05-02T07:45:54.153Z"
   },
   {
    "duration": 1644,
    "start_time": "2022-05-02T07:45:55.585Z"
   },
   {
    "duration": 12,
    "start_time": "2022-05-02T07:46:18.962Z"
   },
   {
    "duration": 12,
    "start_time": "2022-05-02T07:46:33.191Z"
   },
   {
    "duration": 11,
    "start_time": "2022-05-02T07:46:49.212Z"
   },
   {
    "duration": 272,
    "start_time": "2022-05-02T07:47:02.929Z"
   },
   {
    "duration": 1652,
    "start_time": "2022-05-02T07:48:01.612Z"
   },
   {
    "duration": 851,
    "start_time": "2022-05-02T07:48:03.267Z"
   },
   {
    "duration": 533,
    "start_time": "2022-05-02T07:48:04.121Z"
   },
   {
    "duration": 86,
    "start_time": "2022-05-02T07:48:04.657Z"
   },
   {
    "duration": 0,
    "start_time": "2022-05-02T07:48:04.747Z"
   },
   {
    "duration": 0,
    "start_time": "2022-05-02T07:48:04.749Z"
   },
   {
    "duration": 0,
    "start_time": "2022-05-02T07:48:04.750Z"
   },
   {
    "duration": 0,
    "start_time": "2022-05-02T07:48:04.752Z"
   },
   {
    "duration": 0,
    "start_time": "2022-05-02T07:48:04.753Z"
   },
   {
    "duration": 0,
    "start_time": "2022-05-02T07:48:04.755Z"
   },
   {
    "duration": 0,
    "start_time": "2022-05-02T07:48:04.756Z"
   },
   {
    "duration": 0,
    "start_time": "2022-05-02T07:48:04.758Z"
   },
   {
    "duration": 0,
    "start_time": "2022-05-02T07:48:04.759Z"
   },
   {
    "duration": 0,
    "start_time": "2022-05-02T07:48:04.760Z"
   },
   {
    "duration": 0,
    "start_time": "2022-05-02T07:48:04.761Z"
   },
   {
    "duration": 0,
    "start_time": "2022-05-02T07:48:04.763Z"
   },
   {
    "duration": 0,
    "start_time": "2022-05-02T07:48:04.764Z"
   },
   {
    "duration": 0,
    "start_time": "2022-05-02T07:48:04.766Z"
   },
   {
    "duration": 0,
    "start_time": "2022-05-02T07:48:04.767Z"
   },
   {
    "duration": 0,
    "start_time": "2022-05-02T07:48:04.769Z"
   },
   {
    "duration": 0,
    "start_time": "2022-05-02T07:48:04.770Z"
   },
   {
    "duration": 0,
    "start_time": "2022-05-02T07:48:04.772Z"
   },
   {
    "duration": 0,
    "start_time": "2022-05-02T07:48:04.773Z"
   },
   {
    "duration": 0,
    "start_time": "2022-05-02T07:48:04.775Z"
   },
   {
    "duration": 0,
    "start_time": "2022-05-02T07:48:04.776Z"
   },
   {
    "duration": 0,
    "start_time": "2022-05-02T07:48:04.778Z"
   },
   {
    "duration": 0,
    "start_time": "2022-05-02T07:48:04.779Z"
   },
   {
    "duration": 0,
    "start_time": "2022-05-02T07:48:04.781Z"
   },
   {
    "duration": 0,
    "start_time": "2022-05-02T07:48:04.782Z"
   },
   {
    "duration": 0,
    "start_time": "2022-05-02T07:48:04.784Z"
   },
   {
    "duration": 0,
    "start_time": "2022-05-02T07:48:04.785Z"
   },
   {
    "duration": 0,
    "start_time": "2022-05-02T07:48:04.787Z"
   },
   {
    "duration": 0,
    "start_time": "2022-05-02T07:48:04.788Z"
   },
   {
    "duration": 1503,
    "start_time": "2022-05-02T07:51:19.568Z"
   },
   {
    "duration": 865,
    "start_time": "2022-05-02T07:51:21.074Z"
   },
   {
    "duration": 467,
    "start_time": "2022-05-02T07:51:21.941Z"
   },
   {
    "duration": 83,
    "start_time": "2022-05-02T07:51:22.411Z"
   },
   {
    "duration": 0,
    "start_time": "2022-05-02T07:51:22.498Z"
   },
   {
    "duration": 0,
    "start_time": "2022-05-02T07:51:22.500Z"
   },
   {
    "duration": 0,
    "start_time": "2022-05-02T07:51:22.501Z"
   },
   {
    "duration": 0,
    "start_time": "2022-05-02T07:51:22.503Z"
   },
   {
    "duration": 0,
    "start_time": "2022-05-02T07:51:22.505Z"
   },
   {
    "duration": 0,
    "start_time": "2022-05-02T07:51:22.506Z"
   },
   {
    "duration": 0,
    "start_time": "2022-05-02T07:51:22.508Z"
   },
   {
    "duration": 0,
    "start_time": "2022-05-02T07:51:22.510Z"
   },
   {
    "duration": 0,
    "start_time": "2022-05-02T07:51:22.512Z"
   },
   {
    "duration": 0,
    "start_time": "2022-05-02T07:51:22.513Z"
   },
   {
    "duration": 0,
    "start_time": "2022-05-02T07:51:22.515Z"
   },
   {
    "duration": 0,
    "start_time": "2022-05-02T07:51:22.516Z"
   },
   {
    "duration": 0,
    "start_time": "2022-05-02T07:51:22.518Z"
   },
   {
    "duration": 0,
    "start_time": "2022-05-02T07:51:22.519Z"
   },
   {
    "duration": 0,
    "start_time": "2022-05-02T07:51:22.521Z"
   },
   {
    "duration": 1,
    "start_time": "2022-05-02T07:51:22.522Z"
   },
   {
    "duration": 0,
    "start_time": "2022-05-02T07:51:22.524Z"
   },
   {
    "duration": 0,
    "start_time": "2022-05-02T07:51:22.525Z"
   },
   {
    "duration": 0,
    "start_time": "2022-05-02T07:51:22.527Z"
   },
   {
    "duration": 0,
    "start_time": "2022-05-02T07:51:22.529Z"
   },
   {
    "duration": 0,
    "start_time": "2022-05-02T07:51:22.530Z"
   },
   {
    "duration": 0,
    "start_time": "2022-05-02T07:51:22.532Z"
   },
   {
    "duration": 0,
    "start_time": "2022-05-02T07:51:22.533Z"
   },
   {
    "duration": 1,
    "start_time": "2022-05-02T07:51:22.535Z"
   },
   {
    "duration": 0,
    "start_time": "2022-05-02T07:51:22.551Z"
   },
   {
    "duration": 0,
    "start_time": "2022-05-02T07:51:22.552Z"
   },
   {
    "duration": 0,
    "start_time": "2022-05-02T07:51:22.554Z"
   },
   {
    "duration": 0,
    "start_time": "2022-05-02T07:51:22.556Z"
   },
   {
    "duration": 0,
    "start_time": "2022-05-02T07:51:22.557Z"
   },
   {
    "duration": 1560,
    "start_time": "2022-05-02T07:51:40.659Z"
   },
   {
    "duration": 869,
    "start_time": "2022-05-02T07:51:42.221Z"
   },
   {
    "duration": 498,
    "start_time": "2022-05-02T07:51:43.092Z"
   },
   {
    "duration": 117,
    "start_time": "2022-05-02T07:51:43.592Z"
   },
   {
    "duration": 0,
    "start_time": "2022-05-02T07:51:43.713Z"
   },
   {
    "duration": 0,
    "start_time": "2022-05-02T07:51:43.714Z"
   },
   {
    "duration": 0,
    "start_time": "2022-05-02T07:51:43.716Z"
   },
   {
    "duration": 0,
    "start_time": "2022-05-02T07:51:43.717Z"
   },
   {
    "duration": 0,
    "start_time": "2022-05-02T07:51:43.718Z"
   },
   {
    "duration": 0,
    "start_time": "2022-05-02T07:51:43.720Z"
   },
   {
    "duration": 0,
    "start_time": "2022-05-02T07:51:43.721Z"
   },
   {
    "duration": 0,
    "start_time": "2022-05-02T07:51:43.722Z"
   },
   {
    "duration": 0,
    "start_time": "2022-05-02T07:51:43.723Z"
   },
   {
    "duration": 0,
    "start_time": "2022-05-02T07:51:43.724Z"
   },
   {
    "duration": 1,
    "start_time": "2022-05-02T07:51:43.725Z"
   },
   {
    "duration": 0,
    "start_time": "2022-05-02T07:51:43.727Z"
   },
   {
    "duration": 0,
    "start_time": "2022-05-02T07:51:43.728Z"
   },
   {
    "duration": 1,
    "start_time": "2022-05-02T07:51:43.729Z"
   },
   {
    "duration": 0,
    "start_time": "2022-05-02T07:51:43.731Z"
   },
   {
    "duration": 0,
    "start_time": "2022-05-02T07:51:43.732Z"
   },
   {
    "duration": 0,
    "start_time": "2022-05-02T07:51:43.734Z"
   },
   {
    "duration": 0,
    "start_time": "2022-05-02T07:51:43.735Z"
   },
   {
    "duration": 0,
    "start_time": "2022-05-02T07:51:43.736Z"
   },
   {
    "duration": 0,
    "start_time": "2022-05-02T07:51:43.738Z"
   },
   {
    "duration": 0,
    "start_time": "2022-05-02T07:51:43.739Z"
   },
   {
    "duration": 0,
    "start_time": "2022-05-02T07:51:43.740Z"
   },
   {
    "duration": 0,
    "start_time": "2022-05-02T07:51:43.742Z"
   },
   {
    "duration": 0,
    "start_time": "2022-05-02T07:51:43.743Z"
   },
   {
    "duration": 0,
    "start_time": "2022-05-02T07:51:43.744Z"
   },
   {
    "duration": 0,
    "start_time": "2022-05-02T07:51:43.745Z"
   },
   {
    "duration": 0,
    "start_time": "2022-05-02T07:51:43.747Z"
   },
   {
    "duration": 0,
    "start_time": "2022-05-02T07:51:43.748Z"
   },
   {
    "duration": 0,
    "start_time": "2022-05-02T07:51:43.749Z"
   },
   {
    "duration": 203,
    "start_time": "2022-05-02T07:52:11.752Z"
   },
   {
    "duration": 1547,
    "start_time": "2022-05-02T07:52:37.811Z"
   },
   {
    "duration": 839,
    "start_time": "2022-05-02T07:52:39.362Z"
   },
   {
    "duration": 485,
    "start_time": "2022-05-02T07:52:40.203Z"
   },
   {
    "duration": 211,
    "start_time": "2022-05-02T07:52:40.691Z"
   },
   {
    "duration": 55,
    "start_time": "2022-05-02T07:52:40.906Z"
   },
   {
    "duration": 137,
    "start_time": "2022-05-02T07:52:40.964Z"
   },
   {
    "duration": 21,
    "start_time": "2022-05-02T07:52:41.104Z"
   },
   {
    "duration": 78,
    "start_time": "2022-05-02T07:52:41.128Z"
   },
   {
    "duration": 7,
    "start_time": "2022-05-02T07:52:41.209Z"
   },
   {
    "duration": 43,
    "start_time": "2022-05-02T07:52:41.219Z"
   },
   {
    "duration": 391,
    "start_time": "2022-05-02T07:52:41.264Z"
   },
   {
    "duration": 540,
    "start_time": "2022-05-02T07:52:41.657Z"
   },
   {
    "duration": 13,
    "start_time": "2022-05-02T07:52:42.200Z"
   },
   {
    "duration": 11,
    "start_time": "2022-05-02T07:52:42.217Z"
   },
   {
    "duration": 127,
    "start_time": "2022-05-02T07:52:42.230Z"
   },
   {
    "duration": 10,
    "start_time": "2022-05-02T07:52:42.359Z"
   },
   {
    "duration": 13,
    "start_time": "2022-05-02T07:52:42.371Z"
   },
   {
    "duration": 21,
    "start_time": "2022-05-02T07:52:42.386Z"
   },
   {
    "duration": 48,
    "start_time": "2022-05-02T07:52:42.409Z"
   },
   {
    "duration": 9,
    "start_time": "2022-05-02T07:52:42.460Z"
   },
   {
    "duration": 12,
    "start_time": "2022-05-02T07:52:42.471Z"
   },
   {
    "duration": 32,
    "start_time": "2022-05-02T07:52:42.486Z"
   },
   {
    "duration": 37,
    "start_time": "2022-05-02T07:52:42.520Z"
   },
   {
    "duration": 26,
    "start_time": "2022-05-02T07:52:42.559Z"
   },
   {
    "duration": 15,
    "start_time": "2022-05-02T07:52:42.587Z"
   },
   {
    "duration": 609,
    "start_time": "2022-05-02T07:52:42.604Z"
   },
   {
    "duration": 1237,
    "start_time": "2022-05-02T07:52:43.215Z"
   },
   {
    "duration": 7,
    "start_time": "2022-05-02T07:52:44.454Z"
   },
   {
    "duration": 109,
    "start_time": "2022-05-02T07:52:44.463Z"
   },
   {
    "duration": 786,
    "start_time": "2022-05-02T07:52:44.574Z"
   },
   {
    "duration": 90,
    "start_time": "2022-05-02T07:52:45.363Z"
   },
   {
    "duration": 6,
    "start_time": "2022-05-02T07:52:45.455Z"
   },
   {
    "duration": 90,
    "start_time": "2022-05-02T07:52:45.463Z"
   },
   {
    "duration": 54,
    "start_time": "2022-05-02T07:54:45.707Z"
   },
   {
    "duration": 10,
    "start_time": "2022-05-02T07:55:03.986Z"
   },
   {
    "duration": 11,
    "start_time": "2022-05-02T07:55:19.853Z"
   },
   {
    "duration": 20,
    "start_time": "2022-05-02T07:59:03.484Z"
   },
   {
    "duration": 18,
    "start_time": "2022-05-02T07:59:07.034Z"
   },
   {
    "duration": 1615,
    "start_time": "2022-05-02T07:59:17.668Z"
   },
   {
    "duration": 886,
    "start_time": "2022-05-02T07:59:19.285Z"
   },
   {
    "duration": 494,
    "start_time": "2022-05-02T07:59:20.175Z"
   },
   {
    "duration": 201,
    "start_time": "2022-05-02T07:59:20.672Z"
   },
   {
    "duration": 43,
    "start_time": "2022-05-02T07:59:20.876Z"
   },
   {
    "duration": 142,
    "start_time": "2022-05-02T07:59:20.921Z"
   },
   {
    "duration": 22,
    "start_time": "2022-05-02T07:59:21.066Z"
   },
   {
    "duration": 84,
    "start_time": "2022-05-02T07:59:21.090Z"
   },
   {
    "duration": 9,
    "start_time": "2022-05-02T07:59:21.176Z"
   },
   {
    "duration": 18,
    "start_time": "2022-05-02T07:59:21.191Z"
   },
   {
    "duration": 420,
    "start_time": "2022-05-02T07:59:21.212Z"
   },
   {
    "duration": 569,
    "start_time": "2022-05-02T07:59:21.634Z"
   },
   {
    "duration": 14,
    "start_time": "2022-05-02T07:59:22.205Z"
   },
   {
    "duration": 32,
    "start_time": "2022-05-02T07:59:22.221Z"
   },
   {
    "duration": 107,
    "start_time": "2022-05-02T07:59:22.256Z"
   },
   {
    "duration": 10,
    "start_time": "2022-05-02T07:59:22.366Z"
   },
   {
    "duration": 13,
    "start_time": "2022-05-02T07:59:22.379Z"
   },
   {
    "duration": 13,
    "start_time": "2022-05-02T07:59:22.395Z"
   },
   {
    "duration": 59,
    "start_time": "2022-05-02T07:59:22.411Z"
   },
   {
    "duration": 93,
    "start_time": "2022-05-02T07:59:22.473Z"
   },
   {
    "duration": 0,
    "start_time": "2022-05-02T07:59:22.569Z"
   },
   {
    "duration": 0,
    "start_time": "2022-05-02T07:59:22.572Z"
   },
   {
    "duration": 0,
    "start_time": "2022-05-02T07:59:22.574Z"
   },
   {
    "duration": 0,
    "start_time": "2022-05-02T07:59:22.576Z"
   },
   {
    "duration": 0,
    "start_time": "2022-05-02T07:59:22.578Z"
   },
   {
    "duration": 0,
    "start_time": "2022-05-02T07:59:22.581Z"
   },
   {
    "duration": 0,
    "start_time": "2022-05-02T07:59:22.583Z"
   },
   {
    "duration": 0,
    "start_time": "2022-05-02T07:59:22.585Z"
   },
   {
    "duration": 0,
    "start_time": "2022-05-02T07:59:22.587Z"
   },
   {
    "duration": 0,
    "start_time": "2022-05-02T07:59:22.588Z"
   },
   {
    "duration": 0,
    "start_time": "2022-05-02T07:59:22.590Z"
   },
   {
    "duration": 0,
    "start_time": "2022-05-02T07:59:22.591Z"
   },
   {
    "duration": 0,
    "start_time": "2022-05-02T07:59:22.593Z"
   },
   {
    "duration": 0,
    "start_time": "2022-05-02T07:59:22.594Z"
   },
   {
    "duration": 1608,
    "start_time": "2022-05-02T08:14:24.832Z"
   },
   {
    "duration": 855,
    "start_time": "2022-05-02T08:14:26.442Z"
   },
   {
    "duration": 467,
    "start_time": "2022-05-02T08:14:27.300Z"
   },
   {
    "duration": 194,
    "start_time": "2022-05-02T08:14:27.770Z"
   },
   {
    "duration": 42,
    "start_time": "2022-05-02T08:14:27.966Z"
   },
   {
    "duration": 141,
    "start_time": "2022-05-02T08:14:28.010Z"
   },
   {
    "duration": 22,
    "start_time": "2022-05-02T08:14:28.153Z"
   },
   {
    "duration": 80,
    "start_time": "2022-05-02T08:14:28.177Z"
   },
   {
    "duration": 7,
    "start_time": "2022-05-02T08:14:28.259Z"
   },
   {
    "duration": 16,
    "start_time": "2022-05-02T08:14:28.270Z"
   },
   {
    "duration": 383,
    "start_time": "2022-05-02T08:14:28.288Z"
   },
   {
    "duration": 524,
    "start_time": "2022-05-02T08:14:28.673Z"
   },
   {
    "duration": 13,
    "start_time": "2022-05-02T08:14:29.199Z"
   },
   {
    "duration": 12,
    "start_time": "2022-05-02T08:14:29.214Z"
   },
   {
    "duration": 110,
    "start_time": "2022-05-02T08:14:29.252Z"
   },
   {
    "duration": 12,
    "start_time": "2022-05-02T08:14:29.364Z"
   },
   {
    "duration": 18,
    "start_time": "2022-05-02T08:14:29.377Z"
   },
   {
    "duration": 12,
    "start_time": "2022-05-02T08:14:29.397Z"
   },
   {
    "duration": 53,
    "start_time": "2022-05-02T08:14:29.411Z"
   },
   {
    "duration": 88,
    "start_time": "2022-05-02T08:14:29.466Z"
   },
   {
    "duration": 0,
    "start_time": "2022-05-02T08:14:29.556Z"
   },
   {
    "duration": 0,
    "start_time": "2022-05-02T08:14:29.558Z"
   },
   {
    "duration": 0,
    "start_time": "2022-05-02T08:14:29.559Z"
   },
   {
    "duration": 0,
    "start_time": "2022-05-02T08:14:29.560Z"
   },
   {
    "duration": 0,
    "start_time": "2022-05-02T08:14:29.562Z"
   },
   {
    "duration": 0,
    "start_time": "2022-05-02T08:14:29.563Z"
   },
   {
    "duration": 0,
    "start_time": "2022-05-02T08:14:29.565Z"
   },
   {
    "duration": 0,
    "start_time": "2022-05-02T08:14:29.566Z"
   },
   {
    "duration": 0,
    "start_time": "2022-05-02T08:14:29.567Z"
   },
   {
    "duration": 0,
    "start_time": "2022-05-02T08:14:29.568Z"
   },
   {
    "duration": 0,
    "start_time": "2022-05-02T08:14:29.570Z"
   },
   {
    "duration": 0,
    "start_time": "2022-05-02T08:14:29.571Z"
   },
   {
    "duration": 0,
    "start_time": "2022-05-02T08:14:29.573Z"
   },
   {
    "duration": 0,
    "start_time": "2022-05-02T08:14:29.574Z"
   },
   {
    "duration": 19,
    "start_time": "2022-05-02T08:14:40.737Z"
   },
   {
    "duration": 1698,
    "start_time": "2022-05-02T08:15:05.284Z"
   },
   {
    "duration": 836,
    "start_time": "2022-05-02T08:15:06.985Z"
   },
   {
    "duration": 454,
    "start_time": "2022-05-02T08:15:07.823Z"
   },
   {
    "duration": 195,
    "start_time": "2022-05-02T08:15:08.280Z"
   },
   {
    "duration": 41,
    "start_time": "2022-05-02T08:15:08.477Z"
   },
   {
    "duration": 139,
    "start_time": "2022-05-02T08:15:08.520Z"
   },
   {
    "duration": 23,
    "start_time": "2022-05-02T08:15:08.662Z"
   },
   {
    "duration": 84,
    "start_time": "2022-05-02T08:15:08.687Z"
   },
   {
    "duration": 7,
    "start_time": "2022-05-02T08:15:08.773Z"
   },
   {
    "duration": 16,
    "start_time": "2022-05-02T08:15:08.785Z"
   },
   {
    "duration": 383,
    "start_time": "2022-05-02T08:15:08.803Z"
   },
   {
    "duration": 528,
    "start_time": "2022-05-02T08:15:09.188Z"
   },
   {
    "duration": 14,
    "start_time": "2022-05-02T08:15:09.718Z"
   },
   {
    "duration": 11,
    "start_time": "2022-05-02T08:15:09.752Z"
   },
   {
    "duration": 120,
    "start_time": "2022-05-02T08:15:09.766Z"
   },
   {
    "duration": 11,
    "start_time": "2022-05-02T08:15:09.888Z"
   },
   {
    "duration": 16,
    "start_time": "2022-05-02T08:15:09.902Z"
   },
   {
    "duration": 53,
    "start_time": "2022-05-02T08:15:09.921Z"
   },
   {
    "duration": 18,
    "start_time": "2022-05-02T08:15:09.977Z"
   },
   {
    "duration": 7,
    "start_time": "2022-05-02T08:15:09.998Z"
   },
   {
    "duration": 50,
    "start_time": "2022-05-02T08:15:10.008Z"
   },
   {
    "duration": 33,
    "start_time": "2022-05-02T08:15:10.060Z"
   },
   {
    "duration": 8,
    "start_time": "2022-05-02T08:15:10.096Z"
   },
   {
    "duration": 56,
    "start_time": "2022-05-02T08:15:10.106Z"
   },
   {
    "duration": 16,
    "start_time": "2022-05-02T08:15:10.164Z"
   },
   {
    "duration": 591,
    "start_time": "2022-05-02T08:15:10.182Z"
   },
   {
    "duration": 619,
    "start_time": "2022-05-02T08:15:10.775Z"
   },
   {
    "duration": 8,
    "start_time": "2022-05-02T08:15:11.398Z"
   },
   {
    "duration": 81,
    "start_time": "2022-05-02T08:15:11.408Z"
   },
   {
    "duration": 393,
    "start_time": "2022-05-02T08:15:11.491Z"
   },
   {
    "duration": 42,
    "start_time": "2022-05-02T08:15:11.886Z"
   },
   {
    "duration": 22,
    "start_time": "2022-05-02T08:15:11.930Z"
   },
   {
    "duration": 30,
    "start_time": "2022-05-02T08:15:11.954Z"
   },
   {
    "duration": 192,
    "start_time": "2022-05-02T08:25:35.230Z"
   },
   {
    "duration": 34,
    "start_time": "2022-05-02T08:26:44.661Z"
   },
   {
    "duration": 34,
    "start_time": "2022-05-02T08:27:00.037Z"
   },
   {
    "duration": 36,
    "start_time": "2022-05-02T08:27:18.960Z"
   },
   {
    "duration": 33,
    "start_time": "2022-05-02T08:27:25.222Z"
   },
   {
    "duration": 34,
    "start_time": "2022-05-02T08:27:29.985Z"
   },
   {
    "duration": 7,
    "start_time": "2022-05-02T08:28:13.988Z"
   },
   {
    "duration": 19,
    "start_time": "2022-05-02T08:28:43.164Z"
   },
   {
    "duration": 13,
    "start_time": "2022-05-02T08:28:58.730Z"
   },
   {
    "duration": 13,
    "start_time": "2022-05-02T08:29:07.508Z"
   },
   {
    "duration": 34,
    "start_time": "2022-05-02T08:29:26.654Z"
   },
   {
    "duration": 5,
    "start_time": "2022-05-02T08:31:58.607Z"
   },
   {
    "duration": 121,
    "start_time": "2022-05-02T08:32:21.208Z"
   },
   {
    "duration": 128,
    "start_time": "2022-05-02T08:32:56.666Z"
   },
   {
    "duration": 143,
    "start_time": "2022-05-02T08:33:15.420Z"
   },
   {
    "duration": 35,
    "start_time": "2022-05-02T08:33:24.071Z"
   },
   {
    "duration": 37,
    "start_time": "2022-05-02T08:33:29.652Z"
   },
   {
    "duration": 36,
    "start_time": "2022-05-02T08:34:16.213Z"
   },
   {
    "duration": 39,
    "start_time": "2022-05-02T08:34:20.958Z"
   },
   {
    "duration": 38,
    "start_time": "2022-05-02T08:34:28.237Z"
   },
   {
    "duration": 37,
    "start_time": "2022-05-02T08:34:32.794Z"
   },
   {
    "duration": 36,
    "start_time": "2022-05-02T08:34:49.372Z"
   },
   {
    "duration": 37,
    "start_time": "2022-05-02T08:34:56.995Z"
   },
   {
    "duration": 38,
    "start_time": "2022-05-02T08:35:01.936Z"
   },
   {
    "duration": 38,
    "start_time": "2022-05-02T08:35:04.802Z"
   },
   {
    "duration": 38,
    "start_time": "2022-05-02T08:35:07.596Z"
   },
   {
    "duration": 40,
    "start_time": "2022-05-02T08:35:12.180Z"
   },
   {
    "duration": 37,
    "start_time": "2022-05-02T08:35:15.228Z"
   },
   {
    "duration": 26,
    "start_time": "2022-05-02T08:38:03.112Z"
   },
   {
    "duration": 20,
    "start_time": "2022-05-02T08:38:45.105Z"
   },
   {
    "duration": 27,
    "start_time": "2022-05-02T08:38:57.181Z"
   },
   {
    "duration": 21,
    "start_time": "2022-05-02T08:39:23.594Z"
   },
   {
    "duration": 1650,
    "start_time": "2022-05-02T08:59:56.781Z"
   },
   {
    "duration": 894,
    "start_time": "2022-05-02T08:59:58.434Z"
   },
   {
    "duration": 484,
    "start_time": "2022-05-02T08:59:59.330Z"
   },
   {
    "duration": 217,
    "start_time": "2022-05-02T08:59:59.817Z"
   },
   {
    "duration": 52,
    "start_time": "2022-05-02T09:00:00.036Z"
   },
   {
    "duration": 140,
    "start_time": "2022-05-02T09:00:00.091Z"
   },
   {
    "duration": 31,
    "start_time": "2022-05-02T09:00:00.234Z"
   },
   {
    "duration": 82,
    "start_time": "2022-05-02T09:00:00.270Z"
   },
   {
    "duration": 8,
    "start_time": "2022-05-02T09:00:00.354Z"
   },
   {
    "duration": 30,
    "start_time": "2022-05-02T09:00:00.364Z"
   },
   {
    "duration": 407,
    "start_time": "2022-05-02T09:00:00.396Z"
   },
   {
    "duration": 672,
    "start_time": "2022-05-02T09:00:00.805Z"
   },
   {
    "duration": 14,
    "start_time": "2022-05-02T09:00:01.480Z"
   },
   {
    "duration": 74,
    "start_time": "2022-05-02T09:00:01.496Z"
   },
   {
    "duration": 71,
    "start_time": "2022-05-02T09:00:01.572Z"
   },
   {
    "duration": 127,
    "start_time": "2022-05-02T09:00:01.645Z"
   },
   {
    "duration": 10,
    "start_time": "2022-05-02T09:00:01.775Z"
   },
   {
    "duration": 44,
    "start_time": "2022-05-02T09:00:01.787Z"
   },
   {
    "duration": 36,
    "start_time": "2022-05-02T09:00:01.833Z"
   },
   {
    "duration": 46,
    "start_time": "2022-05-02T09:00:01.870Z"
   },
   {
    "duration": 20,
    "start_time": "2022-05-02T09:00:01.918Z"
   },
   {
    "duration": 34,
    "start_time": "2022-05-02T09:00:01.940Z"
   },
   {
    "duration": 65,
    "start_time": "2022-05-02T09:00:01.978Z"
   },
   {
    "duration": 180,
    "start_time": "2022-05-02T09:00:02.045Z"
   },
   {
    "duration": 0,
    "start_time": "2022-05-02T09:00:02.227Z"
   },
   {
    "duration": 0,
    "start_time": "2022-05-02T09:00:02.229Z"
   },
   {
    "duration": 0,
    "start_time": "2022-05-02T09:00:02.230Z"
   },
   {
    "duration": 0,
    "start_time": "2022-05-02T09:00:02.232Z"
   },
   {
    "duration": 0,
    "start_time": "2022-05-02T09:00:02.233Z"
   },
   {
    "duration": 0,
    "start_time": "2022-05-02T09:00:02.235Z"
   },
   {
    "duration": 0,
    "start_time": "2022-05-02T09:00:02.252Z"
   },
   {
    "duration": 0,
    "start_time": "2022-05-02T09:00:02.253Z"
   },
   {
    "duration": 0,
    "start_time": "2022-05-02T09:00:02.255Z"
   },
   {
    "duration": 0,
    "start_time": "2022-05-02T09:00:02.256Z"
   },
   {
    "duration": 0,
    "start_time": "2022-05-02T09:00:02.257Z"
   },
   {
    "duration": 2031,
    "start_time": "2022-05-02T09:00:45.628Z"
   },
   {
    "duration": 831,
    "start_time": "2022-05-02T09:00:47.662Z"
   },
   {
    "duration": 457,
    "start_time": "2022-05-02T09:00:48.496Z"
   },
   {
    "duration": 184,
    "start_time": "2022-05-02T09:00:48.955Z"
   },
   {
    "duration": 52,
    "start_time": "2022-05-02T09:00:49.141Z"
   },
   {
    "duration": 143,
    "start_time": "2022-05-02T09:00:49.195Z"
   },
   {
    "duration": 29,
    "start_time": "2022-05-02T09:00:49.340Z"
   },
   {
    "duration": 79,
    "start_time": "2022-05-02T09:00:49.372Z"
   },
   {
    "duration": 7,
    "start_time": "2022-05-02T09:00:49.453Z"
   },
   {
    "duration": 16,
    "start_time": "2022-05-02T09:00:49.464Z"
   },
   {
    "duration": 380,
    "start_time": "2022-05-02T09:00:49.482Z"
   },
   {
    "duration": 554,
    "start_time": "2022-05-02T09:00:49.864Z"
   },
   {
    "duration": 13,
    "start_time": "2022-05-02T09:00:50.420Z"
   },
   {
    "duration": 25,
    "start_time": "2022-05-02T09:00:50.435Z"
   },
   {
    "duration": 29,
    "start_time": "2022-05-02T09:00:50.462Z"
   },
   {
    "duration": 112,
    "start_time": "2022-05-02T09:00:50.493Z"
   },
   {
    "duration": 9,
    "start_time": "2022-05-02T09:00:50.607Z"
   },
   {
    "duration": 15,
    "start_time": "2022-05-02T09:00:50.618Z"
   },
   {
    "duration": 21,
    "start_time": "2022-05-02T09:00:50.653Z"
   },
   {
    "duration": 17,
    "start_time": "2022-05-02T09:00:50.676Z"
   },
   {
    "duration": 6,
    "start_time": "2022-05-02T09:00:50.695Z"
   },
   {
    "duration": 11,
    "start_time": "2022-05-02T09:00:50.703Z"
   },
   {
    "duration": 68,
    "start_time": "2022-05-02T09:00:50.716Z"
   },
   {
    "duration": 35,
    "start_time": "2022-05-02T09:00:50.786Z"
   },
   {
    "duration": 30,
    "start_time": "2022-05-02T09:00:50.823Z"
   },
   {
    "duration": 35,
    "start_time": "2022-05-02T09:00:50.855Z"
   },
   {
    "duration": 15,
    "start_time": "2022-05-02T09:00:50.892Z"
   },
   {
    "duration": 614,
    "start_time": "2022-05-02T09:00:50.912Z"
   },
   {
    "duration": 647,
    "start_time": "2022-05-02T09:00:51.529Z"
   },
   {
    "duration": 8,
    "start_time": "2022-05-02T09:00:52.179Z"
   },
   {
    "duration": 87,
    "start_time": "2022-05-02T09:00:52.190Z"
   },
   {
    "duration": 403,
    "start_time": "2022-05-02T09:00:52.279Z"
   },
   {
    "duration": 44,
    "start_time": "2022-05-02T09:00:52.685Z"
   },
   {
    "duration": 26,
    "start_time": "2022-05-02T09:00:52.731Z"
   },
   {
    "duration": 61,
    "start_time": "2022-05-02T09:00:52.759Z"
   },
   {
    "duration": 16,
    "start_time": "2022-05-02T09:06:32.123Z"
   },
   {
    "duration": 17,
    "start_time": "2022-05-02T09:07:07.752Z"
   },
   {
    "duration": 11,
    "start_time": "2022-05-02T09:07:14.919Z"
   },
   {
    "duration": 12,
    "start_time": "2022-05-02T09:07:33.915Z"
   },
   {
    "duration": 14,
    "start_time": "2022-05-02T09:09:13.333Z"
   },
   {
    "duration": 13,
    "start_time": "2022-05-02T09:09:16.126Z"
   },
   {
    "duration": 15,
    "start_time": "2022-05-02T09:16:41.363Z"
   },
   {
    "duration": 52,
    "start_time": "2022-05-02T09:17:22.460Z"
   },
   {
    "duration": 115,
    "start_time": "2022-05-02T09:17:59.666Z"
   },
   {
    "duration": 228,
    "start_time": "2022-05-02T09:18:02.852Z"
   },
   {
    "duration": 62,
    "start_time": "2022-05-02T09:18:07.955Z"
   },
   {
    "duration": 15,
    "start_time": "2022-05-02T09:18:30.069Z"
   },
   {
    "duration": 42,
    "start_time": "2022-05-02T09:18:55.884Z"
   },
   {
    "duration": 560,
    "start_time": "2022-05-02T09:19:01.181Z"
   },
   {
    "duration": 52,
    "start_time": "2022-05-02T09:19:23.962Z"
   },
   {
    "duration": 11,
    "start_time": "2022-05-02T09:19:53.271Z"
   },
   {
    "duration": 59,
    "start_time": "2022-05-02T09:20:37.741Z"
   },
   {
    "duration": 61,
    "start_time": "2022-05-02T09:20:41.223Z"
   },
   {
    "duration": 14,
    "start_time": "2022-05-02T09:22:43.353Z"
   },
   {
    "duration": 7,
    "start_time": "2022-05-02T09:23:06.292Z"
   },
   {
    "duration": 16,
    "start_time": "2022-05-02T09:24:37.882Z"
   },
   {
    "duration": 380,
    "start_time": "2022-05-02T09:24:48.676Z"
   },
   {
    "duration": 6,
    "start_time": "2022-05-02T09:25:12.515Z"
   },
   {
    "duration": 399,
    "start_time": "2022-05-02T09:25:13.397Z"
   },
   {
    "duration": 5,
    "start_time": "2022-05-02T09:25:46.461Z"
   },
   {
    "duration": 1612,
    "start_time": "2022-05-02T09:29:15.525Z"
   },
   {
    "duration": 807,
    "start_time": "2022-05-02T09:29:17.140Z"
   },
   {
    "duration": 451,
    "start_time": "2022-05-02T09:29:17.949Z"
   },
   {
    "duration": 194,
    "start_time": "2022-05-02T09:29:18.402Z"
   },
   {
    "duration": 54,
    "start_time": "2022-05-02T09:29:18.599Z"
   },
   {
    "duration": 127,
    "start_time": "2022-05-02T09:29:18.655Z"
   },
   {
    "duration": 22,
    "start_time": "2022-05-02T09:29:18.784Z"
   },
   {
    "duration": 84,
    "start_time": "2022-05-02T09:29:18.808Z"
   },
   {
    "duration": 7,
    "start_time": "2022-05-02T09:29:18.895Z"
   },
   {
    "duration": 22,
    "start_time": "2022-05-02T09:29:18.905Z"
   },
   {
    "duration": 386,
    "start_time": "2022-05-02T09:29:18.929Z"
   },
   {
    "duration": 572,
    "start_time": "2022-05-02T09:29:19.317Z"
   },
   {
    "duration": 14,
    "start_time": "2022-05-02T09:29:19.891Z"
   },
   {
    "duration": 10,
    "start_time": "2022-05-02T09:29:19.912Z"
   },
   {
    "duration": 23,
    "start_time": "2022-05-02T09:29:19.953Z"
   },
   {
    "duration": 120,
    "start_time": "2022-05-02T09:29:19.978Z"
   },
   {
    "duration": 8,
    "start_time": "2022-05-02T09:29:20.101Z"
   },
   {
    "duration": 12,
    "start_time": "2022-05-02T09:29:20.112Z"
   },
   {
    "duration": 22,
    "start_time": "2022-05-02T09:29:20.152Z"
   },
   {
    "duration": 17,
    "start_time": "2022-05-02T09:29:20.176Z"
   },
   {
    "duration": 7,
    "start_time": "2022-05-02T09:29:20.195Z"
   },
   {
    "duration": 10,
    "start_time": "2022-05-02T09:29:20.205Z"
   },
   {
    "duration": 34,
    "start_time": "2022-05-02T09:29:20.252Z"
   },
   {
    "duration": 35,
    "start_time": "2022-05-02T09:29:20.288Z"
   },
   {
    "duration": 34,
    "start_time": "2022-05-02T09:29:20.325Z"
   },
   {
    "duration": 35,
    "start_time": "2022-05-02T09:29:20.361Z"
   },
   {
    "duration": 17,
    "start_time": "2022-05-02T09:29:20.398Z"
   },
   {
    "duration": 613,
    "start_time": "2022-05-02T09:29:20.417Z"
   },
   {
    "duration": 23,
    "start_time": "2022-05-02T09:29:21.033Z"
   },
   {
    "duration": 667,
    "start_time": "2022-05-02T09:29:21.058Z"
   },
   {
    "duration": 6,
    "start_time": "2022-05-02T09:29:21.727Z"
   },
   {
    "duration": 75,
    "start_time": "2022-05-02T09:29:21.735Z"
   },
   {
    "duration": 6,
    "start_time": "2022-05-02T09:29:21.812Z"
   },
   {
    "duration": 405,
    "start_time": "2022-05-02T09:29:21.820Z"
   },
   {
    "duration": 53,
    "start_time": "2022-05-02T09:29:22.228Z"
   },
   {
    "duration": 6,
    "start_time": "2022-05-02T09:29:22.284Z"
   },
   {
    "duration": 32,
    "start_time": "2022-05-02T09:29:22.292Z"
   },
   {
    "duration": 1329,
    "start_time": "2022-05-03T06:13:01.273Z"
   },
   {
    "duration": 645,
    "start_time": "2022-05-03T06:13:02.605Z"
   },
   {
    "duration": 344,
    "start_time": "2022-05-03T06:13:03.252Z"
   },
   {
    "duration": 230,
    "start_time": "2022-05-03T06:13:03.598Z"
   },
   {
    "duration": 48,
    "start_time": "2022-05-03T06:13:03.831Z"
   },
   {
    "duration": 139,
    "start_time": "2022-05-03T06:13:03.881Z"
   },
   {
    "duration": 22,
    "start_time": "2022-05-03T06:13:04.022Z"
   },
   {
    "duration": 99,
    "start_time": "2022-05-03T06:13:04.047Z"
   },
   {
    "duration": 5,
    "start_time": "2022-05-03T06:13:04.149Z"
   },
   {
    "duration": 36,
    "start_time": "2022-05-03T06:13:04.156Z"
   },
   {
    "duration": 398,
    "start_time": "2022-05-03T06:13:04.194Z"
   },
   {
    "duration": 430,
    "start_time": "2022-05-03T06:13:04.595Z"
   },
   {
    "duration": 11,
    "start_time": "2022-05-03T06:13:05.027Z"
   },
   {
    "duration": 20,
    "start_time": "2022-05-03T06:13:05.042Z"
   },
   {
    "duration": 33,
    "start_time": "2022-05-03T06:13:05.065Z"
   },
   {
    "duration": 71,
    "start_time": "2022-05-03T06:13:05.100Z"
   },
   {
    "duration": 20,
    "start_time": "2022-05-03T06:13:05.173Z"
   },
   {
    "duration": 25,
    "start_time": "2022-05-03T06:13:05.195Z"
   },
   {
    "duration": 28,
    "start_time": "2022-05-03T06:13:05.221Z"
   },
   {
    "duration": 18,
    "start_time": "2022-05-03T06:13:05.250Z"
   },
   {
    "duration": 6,
    "start_time": "2022-05-03T06:13:05.270Z"
   },
   {
    "duration": 17,
    "start_time": "2022-05-03T06:13:05.278Z"
   },
   {
    "duration": 26,
    "start_time": "2022-05-03T06:13:05.297Z"
   },
   {
    "duration": 30,
    "start_time": "2022-05-03T06:13:05.325Z"
   },
   {
    "duration": 61,
    "start_time": "2022-05-03T06:13:05.356Z"
   },
   {
    "duration": 7,
    "start_time": "2022-05-03T06:13:05.418Z"
   },
   {
    "duration": 32,
    "start_time": "2022-05-03T06:13:05.427Z"
   },
   {
    "duration": 34,
    "start_time": "2022-05-03T06:13:05.460Z"
   },
   {
    "duration": 385,
    "start_time": "2022-05-03T06:13:05.495Z"
   },
   {
    "duration": 16,
    "start_time": "2022-05-03T06:13:05.882Z"
   },
   {
    "duration": 396,
    "start_time": "2022-05-03T06:13:05.899Z"
   },
   {
    "duration": 6,
    "start_time": "2022-05-03T06:13:06.296Z"
   },
   {
    "duration": 88,
    "start_time": "2022-05-03T06:13:06.304Z"
   },
   {
    "duration": 5,
    "start_time": "2022-05-03T06:13:06.394Z"
   },
   {
    "duration": 395,
    "start_time": "2022-05-03T06:13:06.401Z"
   },
   {
    "duration": 44,
    "start_time": "2022-05-03T06:13:06.798Z"
   },
   {
    "duration": 6,
    "start_time": "2022-05-03T06:13:06.844Z"
   },
   {
    "duration": 46,
    "start_time": "2022-05-03T06:13:06.852Z"
   },
   {
    "duration": 39,
    "start_time": "2022-05-03T06:13:55.349Z"
   },
   {
    "duration": 4,
    "start_time": "2022-05-03T06:14:02.007Z"
   },
   {
    "duration": 4,
    "start_time": "2022-05-03T06:14:05.216Z"
   },
   {
    "duration": 6,
    "start_time": "2022-05-03T06:17:50.536Z"
   }
  ],
  "kernelspec": {
   "display_name": "Python 3 (ipykernel)",
   "language": "python",
   "name": "python3"
  },
  "language_info": {
   "codemirror_mode": {
    "name": "ipython",
    "version": 3
   },
   "file_extension": ".py",
   "mimetype": "text/x-python",
   "name": "python",
   "nbconvert_exporter": "python",
   "pygments_lexer": "ipython3",
   "version": "3.9.5"
  },
  "toc": {
   "base_numbering": 1,
   "nav_menu": {},
   "number_sections": true,
   "sideBar": true,
   "skip_h1_title": true,
   "title_cell": "Table of Contents",
   "title_sidebar": "Contents",
   "toc_cell": false,
   "toc_position": {
    "height": "calc(100% - 180px)",
    "left": "10px",
    "top": "150px",
    "width": "270.390625px"
   },
   "toc_section_display": true,
   "toc_window_display": false
  }
 },
 "nbformat": 4,
 "nbformat_minor": 2
}
